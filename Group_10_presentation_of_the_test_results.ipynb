{
  "nbformat": 4,
  "nbformat_minor": 0,
  "metadata": {
    "colab": {
      "provenance": []
    },
    "kernelspec": {
      "name": "python3",
      "display_name": "Python 3"
    },
    "language_info": {
      "name": "python"
    }
  },
  "cells": [
    {
      "cell_type": "markdown",
      "source": [
        "# EDS6340 - Introduction to Data Science - Project Phase 2\n",
        "\n",
        "## Group 10\n",
        "Achanta, Sai Praneeth | 2302324 <br>\n",
        "Montanez, Derek N | 1920577 <br>\n",
        "Sai Kiran Anugam | 2312298 <br>\n",
        "Sandeep Kokkula | 2102358 <br>\n",
        "Seelam, Gayathri | 2297215 <br>\n",
        "Venkata Kaushik Belusonti | 2284811"
      ],
      "metadata": {
        "id": "xNCKJ4xEfcEK"
      }
    },
    {
      "cell_type": "markdown",
      "source": [
        "## Presenetion of the best results from Step1, Step2, Step3 and all models from Step 5"
      ],
      "metadata": {
        "id": "BwEqKz3BBHz0"
      }
    },
    {
      "cell_type": "code",
      "source": [
        "# Mount Google Drive\n",
        "from google.colab import drive\n",
        "drive.mount('/content/drive')"
      ],
      "metadata": {
        "colab": {
          "base_uri": "https://localhost:8080/"
        },
        "id": "N1E4-yJafoT2",
        "outputId": "9958ac53-f165-4560-8960-6108137c5284"
      },
      "execution_count": 1,
      "outputs": [
        {
          "output_type": "stream",
          "name": "stdout",
          "text": [
            "Mounted at /content/drive\n"
          ]
        }
      ]
    },
    {
      "cell_type": "code",
      "execution_count": 2,
      "metadata": {
        "id": "1vpHKU7h7mn2"
      },
      "outputs": [],
      "source": [
        "# Import the necessary libraries\n",
        "import pandas as pd\n",
        "import numpy as np\n",
        "import matplotlib.pyplot as plt\n",
        "import seaborn as sns\n",
        "\n",
        "# Import machine learning models\n",
        "from sklearn.model_selection import train_test_split, GridSearchCV, RandomizedSearchCV\n",
        "from sklearn.linear_model import LogisticRegression, Lasso\n",
        "from sklearn.neighbors import KNeighborsClassifier\n",
        "from sklearn.ensemble import RandomForestClassifier, VotingClassifier\n",
        "from sklearn.svm import SVC\n",
        "from sklearn.tree import DecisionTreeClassifier\n",
        "from scipy.stats import randint\n",
        "from xgboost import XGBClassifier\n",
        "from sklearn.neural_network import MLPClassifier\n",
        "from sklearn.metrics import accuracy_score, precision_score, recall_score, f1_score, confusion_matrix\n",
        "from sklearn.feature_selection import SelectKBest, f_classif\n",
        "import statsmodels.api as sm\n",
        "from sklearn.metrics import roc_curve\n",
        "from sklearn.metrics import roc_auc_score\n"
      ]
    },
    {
      "cell_type": "markdown",
      "source": [
        "### Review the cleaned dataset from Phase 2"
      ],
      "metadata": {
        "id": "vUT1mfiygOF6"
      }
    },
    {
      "cell_type": "code",
      "source": [
        "# Read the clean dataset\n",
        "df = pd.read_csv(\"/content/drive/MyDrive/Colab Notebooks/DS_Project_Group10/Secondary_Mushroom_Dataset/Group_10_Data_Cleaning.csv\")\n",
        "df = df.drop(['Unnamed: 0'], axis = 1)\n",
        "# Display the first few tuples of the dataset\n",
        "df.head()"
      ],
      "metadata": {
        "id": "C860tlkJ8sQT",
        "colab": {
          "base_uri": "https://localhost:8080/",
          "height": 204
        },
        "outputId": "54e1e381-dbb7-4738-d420-319d2fdf529a"
      },
      "execution_count": 3,
      "outputs": [
        {
          "output_type": "execute_result",
          "data": {
            "text/plain": [
              "   class  cap-diameter  cap-shape  cap-surface  cap-color  \\\n",
              "0      1      2.340396          6            2          6   \n",
              "1      1      2.340396          6            2          6   \n",
              "2      1      2.053072          6            2          6   \n",
              "3      1      2.079925          2            3          1   \n",
              "4      1      2.206132          6            3          6   \n",
              "\n",
              "   does-bruise-or-bleed  gill-attachment  gill-color  stem-height  stem-width  \\\n",
              "0                     0                2          10     2.409448    0.675929   \n",
              "1                     0                2          10     2.409448    0.812813   \n",
              "2                     0                2          10     2.409448    0.756815   \n",
              "3                     0                2          10     2.409448    0.537799   \n",
              "4                     0                2          10     2.409448    0.689617   \n",
              "\n",
              "   stem-color  has-ring  ring-type  habitat  season  \n",
              "0          11         1          2        0       3  \n",
              "1          11         1          2        0       2  \n",
              "2          11         1          2        0       3  \n",
              "3          11         1          5        0       3  \n",
              "4          11         1          5        0       3  "
            ],
            "text/html": [
              "\n",
              "  <div id=\"df-bdec12d7-8b8d-4a0d-b1ee-6e8ecadab9ce\" class=\"colab-df-container\">\n",
              "    <div>\n",
              "<style scoped>\n",
              "    .dataframe tbody tr th:only-of-type {\n",
              "        vertical-align: middle;\n",
              "    }\n",
              "\n",
              "    .dataframe tbody tr th {\n",
              "        vertical-align: top;\n",
              "    }\n",
              "\n",
              "    .dataframe thead th {\n",
              "        text-align: right;\n",
              "    }\n",
              "</style>\n",
              "<table border=\"1\" class=\"dataframe\">\n",
              "  <thead>\n",
              "    <tr style=\"text-align: right;\">\n",
              "      <th></th>\n",
              "      <th>class</th>\n",
              "      <th>cap-diameter</th>\n",
              "      <th>cap-shape</th>\n",
              "      <th>cap-surface</th>\n",
              "      <th>cap-color</th>\n",
              "      <th>does-bruise-or-bleed</th>\n",
              "      <th>gill-attachment</th>\n",
              "      <th>gill-color</th>\n",
              "      <th>stem-height</th>\n",
              "      <th>stem-width</th>\n",
              "      <th>stem-color</th>\n",
              "      <th>has-ring</th>\n",
              "      <th>ring-type</th>\n",
              "      <th>habitat</th>\n",
              "      <th>season</th>\n",
              "    </tr>\n",
              "  </thead>\n",
              "  <tbody>\n",
              "    <tr>\n",
              "      <th>0</th>\n",
              "      <td>1</td>\n",
              "      <td>2.340396</td>\n",
              "      <td>6</td>\n",
              "      <td>2</td>\n",
              "      <td>6</td>\n",
              "      <td>0</td>\n",
              "      <td>2</td>\n",
              "      <td>10</td>\n",
              "      <td>2.409448</td>\n",
              "      <td>0.675929</td>\n",
              "      <td>11</td>\n",
              "      <td>1</td>\n",
              "      <td>2</td>\n",
              "      <td>0</td>\n",
              "      <td>3</td>\n",
              "    </tr>\n",
              "    <tr>\n",
              "      <th>1</th>\n",
              "      <td>1</td>\n",
              "      <td>2.340396</td>\n",
              "      <td>6</td>\n",
              "      <td>2</td>\n",
              "      <td>6</td>\n",
              "      <td>0</td>\n",
              "      <td>2</td>\n",
              "      <td>10</td>\n",
              "      <td>2.409448</td>\n",
              "      <td>0.812813</td>\n",
              "      <td>11</td>\n",
              "      <td>1</td>\n",
              "      <td>2</td>\n",
              "      <td>0</td>\n",
              "      <td>2</td>\n",
              "    </tr>\n",
              "    <tr>\n",
              "      <th>2</th>\n",
              "      <td>1</td>\n",
              "      <td>2.053072</td>\n",
              "      <td>6</td>\n",
              "      <td>2</td>\n",
              "      <td>6</td>\n",
              "      <td>0</td>\n",
              "      <td>2</td>\n",
              "      <td>10</td>\n",
              "      <td>2.409448</td>\n",
              "      <td>0.756815</td>\n",
              "      <td>11</td>\n",
              "      <td>1</td>\n",
              "      <td>2</td>\n",
              "      <td>0</td>\n",
              "      <td>3</td>\n",
              "    </tr>\n",
              "    <tr>\n",
              "      <th>3</th>\n",
              "      <td>1</td>\n",
              "      <td>2.079925</td>\n",
              "      <td>2</td>\n",
              "      <td>3</td>\n",
              "      <td>1</td>\n",
              "      <td>0</td>\n",
              "      <td>2</td>\n",
              "      <td>10</td>\n",
              "      <td>2.409448</td>\n",
              "      <td>0.537799</td>\n",
              "      <td>11</td>\n",
              "      <td>1</td>\n",
              "      <td>5</td>\n",
              "      <td>0</td>\n",
              "      <td>3</td>\n",
              "    </tr>\n",
              "    <tr>\n",
              "      <th>4</th>\n",
              "      <td>1</td>\n",
              "      <td>2.206132</td>\n",
              "      <td>6</td>\n",
              "      <td>3</td>\n",
              "      <td>6</td>\n",
              "      <td>0</td>\n",
              "      <td>2</td>\n",
              "      <td>10</td>\n",
              "      <td>2.409448</td>\n",
              "      <td>0.689617</td>\n",
              "      <td>11</td>\n",
              "      <td>1</td>\n",
              "      <td>5</td>\n",
              "      <td>0</td>\n",
              "      <td>3</td>\n",
              "    </tr>\n",
              "  </tbody>\n",
              "</table>\n",
              "</div>\n",
              "    <div class=\"colab-df-buttons\">\n",
              "\n",
              "  <div class=\"colab-df-container\">\n",
              "    <button class=\"colab-df-convert\" onclick=\"convertToInteractive('df-bdec12d7-8b8d-4a0d-b1ee-6e8ecadab9ce')\"\n",
              "            title=\"Convert this dataframe to an interactive table.\"\n",
              "            style=\"display:none;\">\n",
              "\n",
              "  <svg xmlns=\"http://www.w3.org/2000/svg\" height=\"24px\" viewBox=\"0 -960 960 960\">\n",
              "    <path d=\"M120-120v-720h720v720H120Zm60-500h600v-160H180v160Zm220 220h160v-160H400v160Zm0 220h160v-160H400v160ZM180-400h160v-160H180v160Zm440 0h160v-160H620v160ZM180-180h160v-160H180v160Zm440 0h160v-160H620v160Z\"/>\n",
              "  </svg>\n",
              "    </button>\n",
              "\n",
              "  <style>\n",
              "    .colab-df-container {\n",
              "      display:flex;\n",
              "      gap: 12px;\n",
              "    }\n",
              "\n",
              "    .colab-df-convert {\n",
              "      background-color: #E8F0FE;\n",
              "      border: none;\n",
              "      border-radius: 50%;\n",
              "      cursor: pointer;\n",
              "      display: none;\n",
              "      fill: #1967D2;\n",
              "      height: 32px;\n",
              "      padding: 0 0 0 0;\n",
              "      width: 32px;\n",
              "    }\n",
              "\n",
              "    .colab-df-convert:hover {\n",
              "      background-color: #E2EBFA;\n",
              "      box-shadow: 0px 1px 2px rgba(60, 64, 67, 0.3), 0px 1px 3px 1px rgba(60, 64, 67, 0.15);\n",
              "      fill: #174EA6;\n",
              "    }\n",
              "\n",
              "    .colab-df-buttons div {\n",
              "      margin-bottom: 4px;\n",
              "    }\n",
              "\n",
              "    [theme=dark] .colab-df-convert {\n",
              "      background-color: #3B4455;\n",
              "      fill: #D2E3FC;\n",
              "    }\n",
              "\n",
              "    [theme=dark] .colab-df-convert:hover {\n",
              "      background-color: #434B5C;\n",
              "      box-shadow: 0px 1px 3px 1px rgba(0, 0, 0, 0.15);\n",
              "      filter: drop-shadow(0px 1px 2px rgba(0, 0, 0, 0.3));\n",
              "      fill: #FFFFFF;\n",
              "    }\n",
              "  </style>\n",
              "\n",
              "    <script>\n",
              "      const buttonEl =\n",
              "        document.querySelector('#df-bdec12d7-8b8d-4a0d-b1ee-6e8ecadab9ce button.colab-df-convert');\n",
              "      buttonEl.style.display =\n",
              "        google.colab.kernel.accessAllowed ? 'block' : 'none';\n",
              "\n",
              "      async function convertToInteractive(key) {\n",
              "        const element = document.querySelector('#df-bdec12d7-8b8d-4a0d-b1ee-6e8ecadab9ce');\n",
              "        const dataTable =\n",
              "          await google.colab.kernel.invokeFunction('convertToInteractive',\n",
              "                                                    [key], {});\n",
              "        if (!dataTable) return;\n",
              "\n",
              "        const docLinkHtml = 'Like what you see? Visit the ' +\n",
              "          '<a target=\"_blank\" href=https://colab.research.google.com/notebooks/data_table.ipynb>data table notebook</a>'\n",
              "          + ' to learn more about interactive tables.';\n",
              "        element.innerHTML = '';\n",
              "        dataTable['output_type'] = 'display_data';\n",
              "        await google.colab.output.renderOutput(dataTable, element);\n",
              "        const docLink = document.createElement('div');\n",
              "        docLink.innerHTML = docLinkHtml;\n",
              "        element.appendChild(docLink);\n",
              "      }\n",
              "    </script>\n",
              "  </div>\n",
              "\n",
              "\n",
              "<div id=\"df-a5cdf3c5-d15a-4cee-bd49-33a0205e5d84\">\n",
              "  <button class=\"colab-df-quickchart\" onclick=\"quickchart('df-a5cdf3c5-d15a-4cee-bd49-33a0205e5d84')\"\n",
              "            title=\"Suggest charts\"\n",
              "            style=\"display:none;\">\n",
              "\n",
              "<svg xmlns=\"http://www.w3.org/2000/svg\" height=\"24px\"viewBox=\"0 0 24 24\"\n",
              "     width=\"24px\">\n",
              "    <g>\n",
              "        <path d=\"M19 3H5c-1.1 0-2 .9-2 2v14c0 1.1.9 2 2 2h14c1.1 0 2-.9 2-2V5c0-1.1-.9-2-2-2zM9 17H7v-7h2v7zm4 0h-2V7h2v10zm4 0h-2v-4h2v4z\"/>\n",
              "    </g>\n",
              "</svg>\n",
              "  </button>\n",
              "\n",
              "<style>\n",
              "  .colab-df-quickchart {\n",
              "      --bg-color: #E8F0FE;\n",
              "      --fill-color: #1967D2;\n",
              "      --hover-bg-color: #E2EBFA;\n",
              "      --hover-fill-color: #174EA6;\n",
              "      --disabled-fill-color: #AAA;\n",
              "      --disabled-bg-color: #DDD;\n",
              "  }\n",
              "\n",
              "  [theme=dark] .colab-df-quickchart {\n",
              "      --bg-color: #3B4455;\n",
              "      --fill-color: #D2E3FC;\n",
              "      --hover-bg-color: #434B5C;\n",
              "      --hover-fill-color: #FFFFFF;\n",
              "      --disabled-bg-color: #3B4455;\n",
              "      --disabled-fill-color: #666;\n",
              "  }\n",
              "\n",
              "  .colab-df-quickchart {\n",
              "    background-color: var(--bg-color);\n",
              "    border: none;\n",
              "    border-radius: 50%;\n",
              "    cursor: pointer;\n",
              "    display: none;\n",
              "    fill: var(--fill-color);\n",
              "    height: 32px;\n",
              "    padding: 0;\n",
              "    width: 32px;\n",
              "  }\n",
              "\n",
              "  .colab-df-quickchart:hover {\n",
              "    background-color: var(--hover-bg-color);\n",
              "    box-shadow: 0 1px 2px rgba(60, 64, 67, 0.3), 0 1px 3px 1px rgba(60, 64, 67, 0.15);\n",
              "    fill: var(--button-hover-fill-color);\n",
              "  }\n",
              "\n",
              "  .colab-df-quickchart-complete:disabled,\n",
              "  .colab-df-quickchart-complete:disabled:hover {\n",
              "    background-color: var(--disabled-bg-color);\n",
              "    fill: var(--disabled-fill-color);\n",
              "    box-shadow: none;\n",
              "  }\n",
              "\n",
              "  .colab-df-spinner {\n",
              "    border: 2px solid var(--fill-color);\n",
              "    border-color: transparent;\n",
              "    border-bottom-color: var(--fill-color);\n",
              "    animation:\n",
              "      spin 1s steps(1) infinite;\n",
              "  }\n",
              "\n",
              "  @keyframes spin {\n",
              "    0% {\n",
              "      border-color: transparent;\n",
              "      border-bottom-color: var(--fill-color);\n",
              "      border-left-color: var(--fill-color);\n",
              "    }\n",
              "    20% {\n",
              "      border-color: transparent;\n",
              "      border-left-color: var(--fill-color);\n",
              "      border-top-color: var(--fill-color);\n",
              "    }\n",
              "    30% {\n",
              "      border-color: transparent;\n",
              "      border-left-color: var(--fill-color);\n",
              "      border-top-color: var(--fill-color);\n",
              "      border-right-color: var(--fill-color);\n",
              "    }\n",
              "    40% {\n",
              "      border-color: transparent;\n",
              "      border-right-color: var(--fill-color);\n",
              "      border-top-color: var(--fill-color);\n",
              "    }\n",
              "    60% {\n",
              "      border-color: transparent;\n",
              "      border-right-color: var(--fill-color);\n",
              "    }\n",
              "    80% {\n",
              "      border-color: transparent;\n",
              "      border-right-color: var(--fill-color);\n",
              "      border-bottom-color: var(--fill-color);\n",
              "    }\n",
              "    90% {\n",
              "      border-color: transparent;\n",
              "      border-bottom-color: var(--fill-color);\n",
              "    }\n",
              "  }\n",
              "</style>\n",
              "\n",
              "  <script>\n",
              "    async function quickchart(key) {\n",
              "      const quickchartButtonEl =\n",
              "        document.querySelector('#' + key + ' button');\n",
              "      quickchartButtonEl.disabled = true;  // To prevent multiple clicks.\n",
              "      quickchartButtonEl.classList.add('colab-df-spinner');\n",
              "      try {\n",
              "        const charts = await google.colab.kernel.invokeFunction(\n",
              "            'suggestCharts', [key], {});\n",
              "      } catch (error) {\n",
              "        console.error('Error during call to suggestCharts:', error);\n",
              "      }\n",
              "      quickchartButtonEl.classList.remove('colab-df-spinner');\n",
              "      quickchartButtonEl.classList.add('colab-df-quickchart-complete');\n",
              "    }\n",
              "    (() => {\n",
              "      let quickchartButtonEl =\n",
              "        document.querySelector('#df-a5cdf3c5-d15a-4cee-bd49-33a0205e5d84 button');\n",
              "      quickchartButtonEl.style.display =\n",
              "        google.colab.kernel.accessAllowed ? 'block' : 'none';\n",
              "    })();\n",
              "  </script>\n",
              "</div>\n",
              "    </div>\n",
              "  </div>\n"
            ]
          },
          "metadata": {},
          "execution_count": 3
        }
      ]
    },
    {
      "cell_type": "code",
      "source": [
        "# Display the column information\n",
        "df.info()"
      ],
      "metadata": {
        "colab": {
          "base_uri": "https://localhost:8080/"
        },
        "id": "1qps3MzsgUiu",
        "outputId": "9c783086-e222-4e0c-d051-4df2b1e603fd"
      },
      "execution_count": 4,
      "outputs": [
        {
          "output_type": "stream",
          "name": "stdout",
          "text": [
            "<class 'pandas.core.frame.DataFrame'>\n",
            "RangeIndex: 60923 entries, 0 to 60922\n",
            "Data columns (total 15 columns):\n",
            " #   Column                Non-Null Count  Dtype  \n",
            "---  ------                --------------  -----  \n",
            " 0   class                 60923 non-null  int64  \n",
            " 1   cap-diameter          60923 non-null  float64\n",
            " 2   cap-shape             60923 non-null  int64  \n",
            " 3   cap-surface           60923 non-null  int64  \n",
            " 4   cap-color             60923 non-null  int64  \n",
            " 5   does-bruise-or-bleed  60923 non-null  int64  \n",
            " 6   gill-attachment       60923 non-null  int64  \n",
            " 7   gill-color            60923 non-null  int64  \n",
            " 8   stem-height           60923 non-null  float64\n",
            " 9   stem-width            60923 non-null  float64\n",
            " 10  stem-color            60923 non-null  int64  \n",
            " 11  has-ring              60923 non-null  int64  \n",
            " 12  ring-type             60923 non-null  int64  \n",
            " 13  habitat               60923 non-null  int64  \n",
            " 14  season                60923 non-null  int64  \n",
            "dtypes: float64(3), int64(12)\n",
            "memory usage: 7.0 MB\n"
          ]
        }
      ]
    },
    {
      "cell_type": "markdown",
      "source": [],
      "metadata": {
        "id": "r_lnCyMl01IT"
      }
    },
    {
      "cell_type": "markdown",
      "source": [
        "#### Split the features into predicted features and target feature"
      ],
      "metadata": {
        "id": "wb3xgIfXiPB-"
      }
    },
    {
      "cell_type": "code",
      "source": [
        "# Split the features to predicted (X) and target (y)\n",
        "X = df.drop('class', axis=1)\n",
        "y = df['class']"
      ],
      "metadata": {
        "id": "gxRmXIU2iJ92"
      },
      "execution_count": 5,
      "outputs": []
    },
    {
      "cell_type": "markdown",
      "source": [
        "#### Dataset splitted to Train (80%) and Test (20%)"
      ],
      "metadata": {
        "id": "DvpFe68ziWo1"
      }
    },
    {
      "cell_type": "code",
      "source": [
        "# Split the dataset into train and test\n",
        "#X_train, X_test, y_train, y_test = train_test_split(X, y, test_size=0.2, random_state=42)\n",
        "\n",
        "# Read the data from pickles\n",
        "X_train = pd.read_pickle(\"/content/drive/MyDrive/Colab Notebooks/DS_Project_Group10/ipynb_Files/dummy_Xtrain.pkl\")\n",
        "X_test = pd.read_pickle(\"/content/drive/MyDrive/Colab Notebooks/DS_Project_Group10/ipynb_Files/dummy_Xtest.pkl\")\n",
        "y_train = pd.read_pickle(\"/content/drive/MyDrive/Colab Notebooks/DS_Project_Group10/ipynb_Files/dummy_ytrain.pkl\")\n",
        "y_test = pd.read_pickle(\"/content/drive/MyDrive/Colab Notebooks/DS_Project_Group10/ipynb_Files/dummy_ytest.pkl\")\n",
        "X_train_selected = pd.read_pickle(\"/content/drive/MyDrive/Colab Notebooks/DS_Project_Group10/ipynb_Files/dummy_Xtrain_selected.pkl\")\n",
        "X_test_selected = pd.read_pickle(\"/content/drive/MyDrive/Colab Notebooks/DS_Project_Group10/ipynb_Files/dummy_Xtest_selected.pkl\")\n",
        "X_train_step4 = pd.read_pickle(\"/content/drive/MyDrive/Colab Notebooks/DS_Project_Group10/ipynb_Files/dummy_X_train_step4.pkl\")\n",
        "X_test_step4 = pd.read_pickle(\"/content/drive/MyDrive/Colab Notebooks/DS_Project_Group10/ipynb_Files/dummy_X_test_step4.pkl\")"
      ],
      "metadata": {
        "id": "LvNnj0GRiXsu"
      },
      "execution_count": 6,
      "outputs": []
    },
    {
      "cell_type": "markdown",
      "source": [
        "### Define functions to estimate the performance metrics\n"
      ],
      "metadata": {
        "id": "UjvhN_3yifDn"
      }
    },
    {
      "cell_type": "code",
      "source": [
        "# Function for perfromance metric of data\n",
        "def Perf_Metric(Actual_Ouput, Prediction_Output):\n",
        "  # Actual_Ouput is the actual output of training data taken from the dataset\n",
        "  # TrainData_Prediction is the predicted output from the model for the training data\n",
        "  Accuracy = round(accuracy_score(Actual_Ouput, Prediction_Output),3)\n",
        "  F1Score = round(f1_score(Actual_Ouput, Prediction_Output),3)\n",
        "  Precision = round(precision_score(Actual_Ouput, Prediction_Output),3)\n",
        "  Recall = round(recall_score(Actual_Ouput, Prediction_Output),3)\n",
        "  return [Accuracy, F1Score, Precision, Recall]"
      ],
      "metadata": {
        "id": "q3ElR8R6igJU"
      },
      "execution_count": 7,
      "outputs": []
    },
    {
      "cell_type": "markdown",
      "source": [
        "# Best Results from Step 1\n",
        "## Random Forest is found to be the best algorithm"
      ],
      "metadata": {
        "id": "_tvtkhgFArf_"
      }
    },
    {
      "cell_type": "markdown",
      "metadata": {
        "id": "SWO6ABFc_YAm"
      },
      "source": [
        "# Random Forest"
      ]
    },
    {
      "cell_type": "code",
      "execution_count": 8,
      "metadata": {
        "id": "x8iA9UO1_rN4"
      },
      "outputs": [],
      "source": [
        "# Fit the model from training data using Random Forest\n",
        "model = RandomForestClassifier()\n",
        "rf = model.fit(X_train, y_train)"
      ]
    },
    {
      "cell_type": "code",
      "execution_count": 9,
      "metadata": {
        "id": "pRJsMwX7At6l"
      },
      "outputs": [],
      "source": [
        "# Model fit with training data\n",
        "y_train_predict = rf.predict(X_train)\n",
        "# Make predictions on the test data\n",
        "y_pred = rf.predict(X_test)"
      ]
    },
    {
      "cell_type": "code",
      "execution_count": 10,
      "metadata": {
        "id": "-p3Nln3RA2QI"
      },
      "outputs": [],
      "source": [
        "# Evaluate performance metric for training and testing data\n",
        "Train_PM = Perf_Metric(y_train,y_train_predict)\n",
        "Test_PM = Perf_Metric(y_test,y_pred)\n",
        "\n",
        "RF_Train_PM = Train_PM\n",
        "RF_Test_PM = Test_PM"
      ]
    },
    {
      "cell_type": "code",
      "execution_count": 11,
      "metadata": {
        "colab": {
          "base_uri": "https://localhost:8080/",
          "height": 111
        },
        "id": "4myMyfMPA7F5",
        "outputId": "04a46b27-051b-49e4-f86a-d035de29b30a"
      },
      "outputs": [
        {
          "output_type": "execute_result",
          "data": {
            "text/plain": [
              "  Dataset  Accuracy Score  F1 Score  Precision  Recall\n",
              "0   Train           1.000     1.000      1.000   1.000\n",
              "1    Test           0.999     0.999      0.999   0.999"
            ],
            "text/html": [
              "\n",
              "  <div id=\"df-2e65afc8-6f97-40be-a543-f4b2910b73d8\" class=\"colab-df-container\">\n",
              "    <div>\n",
              "<style scoped>\n",
              "    .dataframe tbody tr th:only-of-type {\n",
              "        vertical-align: middle;\n",
              "    }\n",
              "\n",
              "    .dataframe tbody tr th {\n",
              "        vertical-align: top;\n",
              "    }\n",
              "\n",
              "    .dataframe thead th {\n",
              "        text-align: right;\n",
              "    }\n",
              "</style>\n",
              "<table border=\"1\" class=\"dataframe\">\n",
              "  <thead>\n",
              "    <tr style=\"text-align: right;\">\n",
              "      <th></th>\n",
              "      <th>Dataset</th>\n",
              "      <th>Accuracy Score</th>\n",
              "      <th>F1 Score</th>\n",
              "      <th>Precision</th>\n",
              "      <th>Recall</th>\n",
              "    </tr>\n",
              "  </thead>\n",
              "  <tbody>\n",
              "    <tr>\n",
              "      <th>0</th>\n",
              "      <td>Train</td>\n",
              "      <td>1.000</td>\n",
              "      <td>1.000</td>\n",
              "      <td>1.000</td>\n",
              "      <td>1.000</td>\n",
              "    </tr>\n",
              "    <tr>\n",
              "      <th>1</th>\n",
              "      <td>Test</td>\n",
              "      <td>0.999</td>\n",
              "      <td>0.999</td>\n",
              "      <td>0.999</td>\n",
              "      <td>0.999</td>\n",
              "    </tr>\n",
              "  </tbody>\n",
              "</table>\n",
              "</div>\n",
              "    <div class=\"colab-df-buttons\">\n",
              "\n",
              "  <div class=\"colab-df-container\">\n",
              "    <button class=\"colab-df-convert\" onclick=\"convertToInteractive('df-2e65afc8-6f97-40be-a543-f4b2910b73d8')\"\n",
              "            title=\"Convert this dataframe to an interactive table.\"\n",
              "            style=\"display:none;\">\n",
              "\n",
              "  <svg xmlns=\"http://www.w3.org/2000/svg\" height=\"24px\" viewBox=\"0 -960 960 960\">\n",
              "    <path d=\"M120-120v-720h720v720H120Zm60-500h600v-160H180v160Zm220 220h160v-160H400v160Zm0 220h160v-160H400v160ZM180-400h160v-160H180v160Zm440 0h160v-160H620v160ZM180-180h160v-160H180v160Zm440 0h160v-160H620v160Z\"/>\n",
              "  </svg>\n",
              "    </button>\n",
              "\n",
              "  <style>\n",
              "    .colab-df-container {\n",
              "      display:flex;\n",
              "      gap: 12px;\n",
              "    }\n",
              "\n",
              "    .colab-df-convert {\n",
              "      background-color: #E8F0FE;\n",
              "      border: none;\n",
              "      border-radius: 50%;\n",
              "      cursor: pointer;\n",
              "      display: none;\n",
              "      fill: #1967D2;\n",
              "      height: 32px;\n",
              "      padding: 0 0 0 0;\n",
              "      width: 32px;\n",
              "    }\n",
              "\n",
              "    .colab-df-convert:hover {\n",
              "      background-color: #E2EBFA;\n",
              "      box-shadow: 0px 1px 2px rgba(60, 64, 67, 0.3), 0px 1px 3px 1px rgba(60, 64, 67, 0.15);\n",
              "      fill: #174EA6;\n",
              "    }\n",
              "\n",
              "    .colab-df-buttons div {\n",
              "      margin-bottom: 4px;\n",
              "    }\n",
              "\n",
              "    [theme=dark] .colab-df-convert {\n",
              "      background-color: #3B4455;\n",
              "      fill: #D2E3FC;\n",
              "    }\n",
              "\n",
              "    [theme=dark] .colab-df-convert:hover {\n",
              "      background-color: #434B5C;\n",
              "      box-shadow: 0px 1px 3px 1px rgba(0, 0, 0, 0.15);\n",
              "      filter: drop-shadow(0px 1px 2px rgba(0, 0, 0, 0.3));\n",
              "      fill: #FFFFFF;\n",
              "    }\n",
              "  </style>\n",
              "\n",
              "    <script>\n",
              "      const buttonEl =\n",
              "        document.querySelector('#df-2e65afc8-6f97-40be-a543-f4b2910b73d8 button.colab-df-convert');\n",
              "      buttonEl.style.display =\n",
              "        google.colab.kernel.accessAllowed ? 'block' : 'none';\n",
              "\n",
              "      async function convertToInteractive(key) {\n",
              "        const element = document.querySelector('#df-2e65afc8-6f97-40be-a543-f4b2910b73d8');\n",
              "        const dataTable =\n",
              "          await google.colab.kernel.invokeFunction('convertToInteractive',\n",
              "                                                    [key], {});\n",
              "        if (!dataTable) return;\n",
              "\n",
              "        const docLinkHtml = 'Like what you see? Visit the ' +\n",
              "          '<a target=\"_blank\" href=https://colab.research.google.com/notebooks/data_table.ipynb>data table notebook</a>'\n",
              "          + ' to learn more about interactive tables.';\n",
              "        element.innerHTML = '';\n",
              "        dataTable['output_type'] = 'display_data';\n",
              "        await google.colab.output.renderOutput(dataTable, element);\n",
              "        const docLink = document.createElement('div');\n",
              "        docLink.innerHTML = docLinkHtml;\n",
              "        element.appendChild(docLink);\n",
              "      }\n",
              "    </script>\n",
              "  </div>\n",
              "\n",
              "\n",
              "<div id=\"df-b7d4885d-c258-4551-b117-cc7f56d653bb\">\n",
              "  <button class=\"colab-df-quickchart\" onclick=\"quickchart('df-b7d4885d-c258-4551-b117-cc7f56d653bb')\"\n",
              "            title=\"Suggest charts\"\n",
              "            style=\"display:none;\">\n",
              "\n",
              "<svg xmlns=\"http://www.w3.org/2000/svg\" height=\"24px\"viewBox=\"0 0 24 24\"\n",
              "     width=\"24px\">\n",
              "    <g>\n",
              "        <path d=\"M19 3H5c-1.1 0-2 .9-2 2v14c0 1.1.9 2 2 2h14c1.1 0 2-.9 2-2V5c0-1.1-.9-2-2-2zM9 17H7v-7h2v7zm4 0h-2V7h2v10zm4 0h-2v-4h2v4z\"/>\n",
              "    </g>\n",
              "</svg>\n",
              "  </button>\n",
              "\n",
              "<style>\n",
              "  .colab-df-quickchart {\n",
              "      --bg-color: #E8F0FE;\n",
              "      --fill-color: #1967D2;\n",
              "      --hover-bg-color: #E2EBFA;\n",
              "      --hover-fill-color: #174EA6;\n",
              "      --disabled-fill-color: #AAA;\n",
              "      --disabled-bg-color: #DDD;\n",
              "  }\n",
              "\n",
              "  [theme=dark] .colab-df-quickchart {\n",
              "      --bg-color: #3B4455;\n",
              "      --fill-color: #D2E3FC;\n",
              "      --hover-bg-color: #434B5C;\n",
              "      --hover-fill-color: #FFFFFF;\n",
              "      --disabled-bg-color: #3B4455;\n",
              "      --disabled-fill-color: #666;\n",
              "  }\n",
              "\n",
              "  .colab-df-quickchart {\n",
              "    background-color: var(--bg-color);\n",
              "    border: none;\n",
              "    border-radius: 50%;\n",
              "    cursor: pointer;\n",
              "    display: none;\n",
              "    fill: var(--fill-color);\n",
              "    height: 32px;\n",
              "    padding: 0;\n",
              "    width: 32px;\n",
              "  }\n",
              "\n",
              "  .colab-df-quickchart:hover {\n",
              "    background-color: var(--hover-bg-color);\n",
              "    box-shadow: 0 1px 2px rgba(60, 64, 67, 0.3), 0 1px 3px 1px rgba(60, 64, 67, 0.15);\n",
              "    fill: var(--button-hover-fill-color);\n",
              "  }\n",
              "\n",
              "  .colab-df-quickchart-complete:disabled,\n",
              "  .colab-df-quickchart-complete:disabled:hover {\n",
              "    background-color: var(--disabled-bg-color);\n",
              "    fill: var(--disabled-fill-color);\n",
              "    box-shadow: none;\n",
              "  }\n",
              "\n",
              "  .colab-df-spinner {\n",
              "    border: 2px solid var(--fill-color);\n",
              "    border-color: transparent;\n",
              "    border-bottom-color: var(--fill-color);\n",
              "    animation:\n",
              "      spin 1s steps(1) infinite;\n",
              "  }\n",
              "\n",
              "  @keyframes spin {\n",
              "    0% {\n",
              "      border-color: transparent;\n",
              "      border-bottom-color: var(--fill-color);\n",
              "      border-left-color: var(--fill-color);\n",
              "    }\n",
              "    20% {\n",
              "      border-color: transparent;\n",
              "      border-left-color: var(--fill-color);\n",
              "      border-top-color: var(--fill-color);\n",
              "    }\n",
              "    30% {\n",
              "      border-color: transparent;\n",
              "      border-left-color: var(--fill-color);\n",
              "      border-top-color: var(--fill-color);\n",
              "      border-right-color: var(--fill-color);\n",
              "    }\n",
              "    40% {\n",
              "      border-color: transparent;\n",
              "      border-right-color: var(--fill-color);\n",
              "      border-top-color: var(--fill-color);\n",
              "    }\n",
              "    60% {\n",
              "      border-color: transparent;\n",
              "      border-right-color: var(--fill-color);\n",
              "    }\n",
              "    80% {\n",
              "      border-color: transparent;\n",
              "      border-right-color: var(--fill-color);\n",
              "      border-bottom-color: var(--fill-color);\n",
              "    }\n",
              "    90% {\n",
              "      border-color: transparent;\n",
              "      border-bottom-color: var(--fill-color);\n",
              "    }\n",
              "  }\n",
              "</style>\n",
              "\n",
              "  <script>\n",
              "    async function quickchart(key) {\n",
              "      const quickchartButtonEl =\n",
              "        document.querySelector('#' + key + ' button');\n",
              "      quickchartButtonEl.disabled = true;  // To prevent multiple clicks.\n",
              "      quickchartButtonEl.classList.add('colab-df-spinner');\n",
              "      try {\n",
              "        const charts = await google.colab.kernel.invokeFunction(\n",
              "            'suggestCharts', [key], {});\n",
              "      } catch (error) {\n",
              "        console.error('Error during call to suggestCharts:', error);\n",
              "      }\n",
              "      quickchartButtonEl.classList.remove('colab-df-spinner');\n",
              "      quickchartButtonEl.classList.add('colab-df-quickchart-complete');\n",
              "    }\n",
              "    (() => {\n",
              "      let quickchartButtonEl =\n",
              "        document.querySelector('#df-b7d4885d-c258-4551-b117-cc7f56d653bb button');\n",
              "      quickchartButtonEl.style.display =\n",
              "        google.colab.kernel.accessAllowed ? 'block' : 'none';\n",
              "    })();\n",
              "  </script>\n",
              "</div>\n",
              "    </div>\n",
              "  </div>\n"
            ]
          },
          "metadata": {},
          "execution_count": 11
        }
      ],
      "source": [
        "# Create a table comparing the preformance on training and test data\n",
        "models = pd.DataFrame({\n",
        "    #'Model': ['RF'],\n",
        "    'Dataset': [\"Train\",\"Test\"],\n",
        "    'Accuracy Score': [Train_PM[0], Test_PM[0]],\n",
        "    'F1 Score': [Train_PM[1], Test_PM[1]],\n",
        "    'Precision': [Train_PM[2], Test_PM[2]],\n",
        "    'Recall': [Train_PM[3], Test_PM[3]],\n",
        "})\n",
        "models"
      ]
    },
    {
      "cell_type": "code",
      "source": [
        "# Plot Confusion matrix\n",
        "cm = confusion_matrix(y_test, y_pred)\n",
        "fig = plt.figure(figsize=(3, 2))\n",
        "sns.heatmap(cm,\n",
        "           annot=True,\n",
        "           annot_kws={\"size\":10},\n",
        "           xticklabels=['Class 0', 'Class 1'],\n",
        "           yticklabels=['Class 0', 'Class 1'],)\n",
        "plt.xlabel('Predicted',fontweight='bold')\n",
        "plt.ylabel('Actual',fontweight='bold');"
      ],
      "metadata": {
        "colab": {
          "base_uri": "https://localhost:8080/",
          "height": 234
        },
        "id": "vMrtSB0OBnTU",
        "outputId": "6af1c857-80bf-4104-c2d6-83c9f688eba3"
      },
      "execution_count": 12,
      "outputs": [
        {
          "output_type": "display_data",
          "data": {
            "text/plain": [
              "<Figure size 300x200 with 2 Axes>"
            ],
            "image/png": "[encoded data removed]"
          },
          "metadata": {}
        }
      ]
    },
    {
      "cell_type": "code",
      "source": [
        "# ROC Curve\n",
        "# generate a no skill prediction (majority class)\n",
        "ns_probs = [0 for _ in range(len(y_test))]\n",
        "\n",
        "\n",
        "# calculate scores\n",
        "ns_auc = roc_auc_score(y_test, ns_probs)\n",
        "lr_auc = roc_auc_score(y_test, y_pred)\n",
        "\n",
        "# summarize scores\n",
        "print('No Skill: ROC AUC=%.3f' % (ns_auc))\n",
        "print('Logistic: ROC AUC=%.3f' % (lr_auc))\n",
        "\n",
        "# calculate roc curves\n",
        "ns_fpr, ns_tpr, _ = roc_curve(y_test, ns_probs)\n",
        "lr_fpr, lr_tpr, _ = roc_curve(y_test, y_pred)\n",
        "\n",
        "# plot the roc curve for the model\n",
        "fig = plt.figure(figsize=(3, 2))\n",
        "plt.plot(ns_fpr, ns_tpr, linestyle='--', color='orange', label='No Skill')\n",
        "plt.plot(lr_fpr, lr_tpr, marker='.', color='blue', label='Random Forest')\n",
        "\n",
        "# axis labels\n",
        "plt.xlabel('False Positive Rate')\n",
        "plt.ylabel('True Positive Rate')\n",
        "\n",
        "# show the legend\n",
        "plt.legend(fontsize = 9)\n",
        "\n",
        "# show the plot\n",
        "plt.show()"
      ],
      "metadata": {
        "colab": {
          "base_uri": "https://localhost:8080/",
          "height": 268
        },
        "id": "XznNSqPuCAxA",
        "outputId": "07474eb2-1078-46f0-e696-f78cd7ab371a"
      },
      "execution_count": 13,
      "outputs": [
        {
          "output_type": "stream",
          "name": "stdout",
          "text": [
            "No Skill: ROC AUC=0.500\n",
            "Logistic: ROC AUC=0.999\n"
          ]
        },
        {
          "output_type": "display_data",
          "data": {
            "text/plain": [
              "<Figure size 300x200 with 1 Axes>"
            ],
            "image/png": "[encoded data removed]"
          },
          "metadata": {}
        }
      ]
    },
    {
      "cell_type": "markdown",
      "source": [
        "# Best Results from Step 3\n",
        "## Random Forest is found to be the best algorithm with randomized search for hypertuning parameters"
      ],
      "metadata": {
        "id": "TuBNMy8HDc9L"
      }
    },
    {
      "cell_type": "code",
      "source": [
        "# Random Forest before randomized serach\n",
        "# Fit the model from training data using Random Forest\n",
        "model = RandomForestClassifier()\n",
        "rf_bef_random = model.fit(X_train_selected, y_train)\n",
        "\n",
        "# Model fit with training data\n",
        "#y_train_predict = rf_bef_random.predict(X_train)\n",
        "# Make predictions on the test data\n",
        "rf_y_pred_bef_random = rf_bef_random.predict(X_test_selected)\n",
        "\n",
        "# Evaluate the model after Randomized Search\n",
        "accuracy_rf_bef_random = accuracy_score(y_test, rf_y_pred_bef_random)\n",
        "print(f'Random Forest Accuracy before Randomized Search: {accuracy_rf_bef_random:.4f}')"
      ],
      "metadata": {
        "colab": {
          "base_uri": "https://localhost:8080/"
        },
        "id": "C6z11OT40L5h",
        "outputId": "c7751ab3-5233-4e22-dabf-ea4f446f3f41"
      },
      "execution_count": 14,
      "outputs": [
        {
          "output_type": "stream",
          "name": "stdout",
          "text": [
            "Random Forest Accuracy before Randomized Search: 0.9793\n"
          ]
        }
      ]
    },
    {
      "cell_type": "code",
      "source": [
        "# Plot Confusion matrix\n",
        "cm = confusion_matrix(y_test, rf_y_pred_bef_random)\n",
        "fig = plt.figure(figsize=(3, 2))\n",
        "sns.heatmap(cm,\n",
        "           annot=True,\n",
        "           annot_kws={\"size\":10},\n",
        "           xticklabels=['Class 0', 'Class 1'],\n",
        "           yticklabels=['Class 0', 'Class 1'],)\n",
        "plt.xlabel('Predicted',fontweight='bold')\n",
        "plt.ylabel('Actual',fontweight='bold');"
      ],
      "metadata": {
        "colab": {
          "base_uri": "https://localhost:8080/",
          "height": 234
        },
        "id": "N-ATm1E9HfVX",
        "outputId": "495fc515-c147-44b2-ce7e-c98ef4acc537"
      },
      "execution_count": 15,
      "outputs": [
        {
          "output_type": "display_data",
          "data": {
            "text/plain": [
              "<Figure size 300x200 with 2 Axes>"
            ],
            "image/png": "[encoded data removed]"
          },
          "metadata": {}
        }
      ]
    },
    {
      "cell_type": "code",
      "source": [
        "# ROC Curve\n",
        "# generate a no skill prediction (majority class)\n",
        "ns_probs = [0 for _ in range(len(y_test))]\n",
        "\n",
        "\n",
        "# calculate scores\n",
        "ns_auc = roc_auc_score(y_test, ns_probs)\n",
        "lr_auc = roc_auc_score(y_test, rf_y_pred_bef_random)\n",
        "\n",
        "# summarize scores\n",
        "print('No Skill: ROC AUC=%.3f' % (ns_auc))\n",
        "print('Random Forest before randomized search: ROC AUC=%.3f' % (lr_auc))\n",
        "\n",
        "# calculate roc curves\n",
        "ns_fpr, ns_tpr, _ = roc_curve(y_test, ns_probs)\n",
        "lr_fpr, lr_tpr, _ = roc_curve(y_test, rf_y_pred_bef_random)\n",
        "\n",
        "# plot the roc curve for the model\n",
        "fig = plt.figure(figsize=(3, 2))\n",
        "plt.plot(ns_fpr, ns_tpr, linestyle='--', color='orange', label='No Skill')\n",
        "plt.plot(lr_fpr, lr_tpr, marker='.', color='blue', label='Random Forest')\n",
        "\n",
        "# axis labels\n",
        "plt.xlabel('False Positive Rate')\n",
        "plt.ylabel('True Positive Rate')\n",
        "\n",
        "# show the legend\n",
        "plt.legend(fontsize = 9)\n",
        "\n",
        "# show the plot\n",
        "plt.show()"
      ],
      "metadata": {
        "colab": {
          "base_uri": "https://localhost:8080/",
          "height": 268
        },
        "id": "kodSScyvHy8I",
        "outputId": "3d781797-f1fe-4f6a-95a0-d0814b5226a0"
      },
      "execution_count": 16,
      "outputs": [
        {
          "output_type": "stream",
          "name": "stdout",
          "text": [
            "No Skill: ROC AUC=0.500\n",
            "Random Forest before randomized search: ROC AUC=0.979\n"
          ]
        },
        {
          "output_type": "display_data",
          "data": {
            "text/plain": [
              "<Figure size 300x200 with 1 Axes>"
            ],
            "image/png": "[encoded data removed]"
          },
          "metadata": {}
        }
      ]
    },
    {
      "cell_type": "code",
      "source": [
        "# Randomized Search for Random Forest\n",
        "param_dist_rf = {\n",
        "    'n_estimators': [50, 100, 150, 200],\n",
        "    'max_depth': [None, 10, 20, 30],\n",
        "    'min_samples_split': [2, 5, 10],\n",
        "    'min_samples_leaf': [1, 2, 4]\n",
        "}\n",
        "\n",
        "random_search_rf = RandomizedSearchCV(estimator=RandomForestClassifier(), param_distributions=param_dist_rf,\n",
        "                                       n_iter=10, cv=5, scoring='accuracy', random_state=42)\n",
        "random_search_rf.fit(X_train_selected, y_train)"
      ],
      "metadata": {
        "colab": {
          "base_uri": "https://localhost:8080/",
          "height": 115
        },
        "id": "uhQPnfxjxN0Y",
        "outputId": "2d8b6479-66b7-4b05-db04-41cd3dc0a061"
      },
      "execution_count": 17,
      "outputs": [
        {
          "output_type": "execute_result",
          "data": {
            "text/plain": [
              "RandomizedSearchCV(cv=5, estimator=RandomForestClassifier(),\n",
              "                   param_distributions={'max_depth': [None, 10, 20, 30],\n",
              "                                        'min_samples_leaf': [1, 2, 4],\n",
              "                                        'min_samples_split': [2, 5, 10],\n",
              "                                        'n_estimators': [50, 100, 150, 200]},\n",
              "                   random_state=42, scoring='accuracy')"
            ],
            "text/html": [
              "<style>#sk-container-id-1 {color: black;background-color: white;}#sk-container-id-1 pre{padding: 0;}#sk-container-id-1 div.sk-toggleable {background-color: white;}#sk-container-id-1 label.sk-toggleable__label {cursor: pointer;display: block;width: 100%;margin-bottom: 0;padding: 0.3em;box-sizing: border-box;text-align: center;}#sk-container-id-1 label.sk-toggleable__label-arrow:before {content: \"▸\";float: left;margin-right: 0.25em;color: #696969;}#sk-container-id-1 label.sk-toggleable__label-arrow:hover:before {color: black;}#sk-container-id-1 div.sk-estimator:hover label.sk-toggleable__label-arrow:before {color: black;}#sk-container-id-1 div.sk-toggleable__content {max-height: 0;max-width: 0;overflow: hidden;text-align: left;background-color: #f0f8ff;}#sk-container-id-1 div.sk-toggleable__content pre {margin: 0.2em;color: black;border-radius: 0.25em;background-color: #f0f8ff;}#sk-container-id-1 input.sk-toggleable__control:checked~div.sk-toggleable__content {max-height: 200px;max-width: 100%;overflow: auto;}#sk-container-id-1 input.sk-toggleable__control:checked~label.sk-toggleable__label-arrow:before {content: \"▾\";}#sk-container-id-1 div.sk-estimator input.sk-toggleable__control:checked~label.sk-toggleable__label {background-color: #d4ebff;}#sk-container-id-1 div.sk-label input.sk-toggleable__control:checked~label.sk-toggleable__label {background-color: #d4ebff;}#sk-container-id-1 input.sk-hidden--visually {border: 0;clip: rect(1px 1px 1px 1px);clip: rect(1px, 1px, 1px, 1px);height: 1px;margin: -1px;overflow: hidden;padding: 0;position: absolute;width: 1px;}#sk-container-id-1 div.sk-estimator {font-family: monospace;background-color: #f0f8ff;border: 1px dotted black;border-radius: 0.25em;box-sizing: border-box;margin-bottom: 0.5em;}#sk-container-id-1 div.sk-estimator:hover {background-color: #d4ebff;}#sk-container-id-1 div.sk-parallel-item::after {content: \"\";width: 100%;border-bottom: 1px solid gray;flex-grow: 1;}#sk-container-id-1 div.sk-label:hover label.sk-toggleable__label {background-color: #d4ebff;}#sk-container-id-1 div.sk-serial::before {content: \"\";position: absolute;border-left: 1px solid gray;box-sizing: border-box;top: 0;bottom: 0;left: 50%;z-index: 0;}#sk-container-id-1 div.sk-serial {display: flex;flex-direction: column;align-items: center;background-color: white;padding-right: 0.2em;padding-left: 0.2em;position: relative;}#sk-container-id-1 div.sk-item {position: relative;z-index: 1;}#sk-container-id-1 div.sk-parallel {display: flex;align-items: stretch;justify-content: center;background-color: white;position: relative;}#sk-container-id-1 div.sk-item::before, #sk-container-id-1 div.sk-parallel-item::before {content: \"\";position: absolute;border-left: 1px solid gray;box-sizing: border-box;top: 0;bottom: 0;left: 50%;z-index: -1;}#sk-container-id-1 div.sk-parallel-item {display: flex;flex-direction: column;z-index: 1;position: relative;background-color: white;}#sk-container-id-1 div.sk-parallel-item:first-child::after {align-self: flex-end;width: 50%;}#sk-container-id-1 div.sk-parallel-item:last-child::after {align-self: flex-start;width: 50%;}#sk-container-id-1 div.sk-parallel-item:only-child::after {width: 0;}#sk-container-id-1 div.sk-dashed-wrapped {border: 1px dashed gray;margin: 0 0.4em 0.5em 0.4em;box-sizing: border-box;padding-bottom: 0.4em;background-color: white;}#sk-container-id-1 div.sk-label label {font-family: monospace;font-weight: bold;display: inline-block;line-height: 1.2em;}#sk-container-id-1 div.sk-label-container {text-align: center;}#sk-container-id-1 div.sk-container {/* jupyter's `normalize.less` sets `[hidden] { display: none; }` but bootstrap.min.css set `[hidden] { display: none !important; }` so we also need the `!important` here to be able to override the default hidden behavior on the sphinx rendered scikit-learn.org. See: https://github.com/scikit-learn/scikit-learn/issues/21755 */display: inline-block !important;position: relative;}#sk-container-id-1 div.sk-text-repr-fallback {display: none;}</style><div id=\"sk-container-id-1\" class=\"sk-top-container\"><div class=\"sk-text-repr-fallback\"><pre>RandomizedSearchCV(cv=5, estimator=RandomForestClassifier(),\n",
              "                   param_distributions={&#x27;max_depth&#x27;: [None, 10, 20, 30],\n",
              "                                        &#x27;min_samples_leaf&#x27;: [1, 2, 4],\n",
              "                                        &#x27;min_samples_split&#x27;: [2, 5, 10],\n",
              "                                        &#x27;n_estimators&#x27;: [50, 100, 150, 200]},\n",
              "                   random_state=42, scoring=&#x27;accuracy&#x27;)</pre><b>In a Jupyter environment, please rerun this cell to show the HTML representation or trust the notebook. <br />On GitHub, the HTML representation is unable to render, please try loading this page with nbviewer.org.</b></div><div class=\"sk-container\" hidden><div class=\"sk-item sk-dashed-wrapped\"><div class=\"sk-label-container\"><div class=\"sk-label sk-toggleable\"><input class=\"sk-toggleable__control sk-hidden--visually\" id=\"sk-estimator-id-1\" type=\"checkbox\" ><label for=\"sk-estimator-id-1\" class=\"sk-toggleable__label sk-toggleable__label-arrow\">RandomizedSearchCV</label><div class=\"sk-toggleable__content\"><pre>RandomizedSearchCV(cv=5, estimator=RandomForestClassifier(),\n",
              "                   param_distributions={&#x27;max_depth&#x27;: [None, 10, 20, 30],\n",
              "                                        &#x27;min_samples_leaf&#x27;: [1, 2, 4],\n",
              "                                        &#x27;min_samples_split&#x27;: [2, 5, 10],\n",
              "                                        &#x27;n_estimators&#x27;: [50, 100, 150, 200]},\n",
              "                   random_state=42, scoring=&#x27;accuracy&#x27;)</pre></div></div></div><div class=\"sk-parallel\"><div class=\"sk-parallel-item\"><div class=\"sk-item\"><div class=\"sk-label-container\"><div class=\"sk-label sk-toggleable\"><input class=\"sk-toggleable__control sk-hidden--visually\" id=\"sk-estimator-id-2\" type=\"checkbox\" ><label for=\"sk-estimator-id-2\" class=\"sk-toggleable__label sk-toggleable__label-arrow\">estimator: RandomForestClassifier</label><div class=\"sk-toggleable__content\"><pre>RandomForestClassifier()</pre></div></div></div><div class=\"sk-serial\"><div class=\"sk-item\"><div class=\"sk-estimator sk-toggleable\"><input class=\"sk-toggleable__control sk-hidden--visually\" id=\"sk-estimator-id-3\" type=\"checkbox\" ><label for=\"sk-estimator-id-3\" class=\"sk-toggleable__label sk-toggleable__label-arrow\">RandomForestClassifier</label><div class=\"sk-toggleable__content\"><pre>RandomForestClassifier()</pre></div></div></div></div></div></div></div></div></div></div>"
            ]
          },
          "metadata": {},
          "execution_count": 17
        }
      ]
    },
    {
      "cell_type": "code",
      "source": [
        "# Get the best hyperparameters for Random Forest\n",
        "best_params_rf_random = random_search_rf.best_params_\n",
        "\n",
        "# Fit the model with the best hyperparameters on the entire training set\n",
        "best_rf_model_random = RandomForestClassifier(**best_params_rf_random)\n",
        "best_rf_model_random.fit(X_train_selected, y_train)\n",
        "\n",
        "# Predictions on the test set for Random Forest\n",
        "rf_y_pred_after_random = best_rf_model_random.predict(X_test_selected)\n",
        "\n",
        "# Evaluate the model after Randomized Search\n",
        "accuracy_rf_after_random = accuracy_score(y_test, rf_y_pred_after_random)\n",
        "print(f'Random Forest Accuracy after Randomized Search: {accuracy_rf_after_random:.4f}')"
      ],
      "metadata": {
        "colab": {
          "base_uri": "https://localhost:8080/"
        },
        "id": "_fDcUvmIy7dV",
        "outputId": "ca4a9200-0cc3-4b31-f1b0-33926c8be42d"
      },
      "execution_count": 18,
      "outputs": [
        {
          "output_type": "stream",
          "name": "stdout",
          "text": [
            "Random Forest Accuracy after Randomized Search: 0.9809\n"
          ]
        }
      ]
    },
    {
      "cell_type": "code",
      "source": [
        "# Display the best hyper-parameters for random forest\n",
        "best_params_rf_random"
      ],
      "metadata": {
        "colab": {
          "base_uri": "https://localhost:8080/"
        },
        "id": "UfYUF_nbzTMh",
        "outputId": "320a9ea9-4174-40a3-c723-32685563adc9"
      },
      "execution_count": 19,
      "outputs": [
        {
          "output_type": "execute_result",
          "data": {
            "text/plain": [
              "{'n_estimators': 100,\n",
              " 'min_samples_split': 10,\n",
              " 'min_samples_leaf': 1,\n",
              " 'max_depth': 30}"
            ]
          },
          "metadata": {},
          "execution_count": 19
        }
      ]
    },
    {
      "cell_type": "code",
      "source": [
        "# Plot Confusion matrix\n",
        "cm = confusion_matrix(y_test, rf_y_pred_after_random)\n",
        "fig = plt.figure(figsize=(3, 2))\n",
        "sns.heatmap(cm,\n",
        "           annot=True,\n",
        "           annot_kws={\"size\":10},\n",
        "           xticklabels=['Class 0', 'Class 1'],\n",
        "           yticklabels=['Class 0', 'Class 1'],)\n",
        "plt.xlabel('Predicted',fontweight='bold')\n",
        "plt.ylabel('Actual',fontweight='bold');"
      ],
      "metadata": {
        "colab": {
          "base_uri": "https://localhost:8080/",
          "height": 234
        },
        "id": "Rb03HvEGIVwb",
        "outputId": "756ea64d-3a9e-4cdc-8695-18e4758134ce"
      },
      "execution_count": 20,
      "outputs": [
        {
          "output_type": "display_data",
          "data": {
            "text/plain": [
              "<Figure size 300x200 with 2 Axes>"
            ],
            "image/png": "[encoded data removed]"
          },
          "metadata": {}
        }
      ]
    },
    {
      "cell_type": "code",
      "source": [
        "# ROC Curve\n",
        "# generate a no skill prediction (majority class)\n",
        "ns_probs = [0 for _ in range(len(y_test))]\n",
        "\n",
        "\n",
        "# calculate scores\n",
        "ns_auc = roc_auc_score(y_test, ns_probs)\n",
        "lr_auc = roc_auc_score(y_test, rf_y_pred_bef_random)\n",
        "\n",
        "# summarize scores\n",
        "print('No Skill: ROC AUC=%.3f' % (ns_auc))\n",
        "print('Random Forest after randomized search: ROC AUC=%.3f' % (lr_auc))\n",
        "\n",
        "# calculate roc curves\n",
        "ns_fpr, ns_tpr, _ = roc_curve(y_test, ns_probs)\n",
        "lr_fpr, lr_tpr, _ = roc_curve(y_test, rf_y_pred_after_random)\n",
        "\n",
        "# plot the roc curve for the model\n",
        "fig = plt.figure(figsize=(3, 2))\n",
        "plt.plot(ns_fpr, ns_tpr, linestyle='--', color='orange', label='No Skill')\n",
        "plt.plot(lr_fpr, lr_tpr, marker='.', color='blue', label='Random Forest')\n",
        "\n",
        "# axis labels\n",
        "plt.xlabel('False Positive Rate')\n",
        "plt.ylabel('True Positive Rate')\n",
        "\n",
        "# show the legend\n",
        "plt.legend(fontsize = 9)\n",
        "\n",
        "# show the plot\n",
        "plt.show()"
      ],
      "metadata": {
        "colab": {
          "base_uri": "https://localhost:8080/",
          "height": 268
        },
        "id": "yy2j7-S3Ijur",
        "outputId": "f3196f06-7959-4afb-a5f0-8d348c56b520"
      },
      "execution_count": 21,
      "outputs": [
        {
          "output_type": "stream",
          "name": "stdout",
          "text": [
            "No Skill: ROC AUC=0.500\n",
            "Random Forest after randomized search: ROC AUC=0.979\n"
          ]
        },
        {
          "output_type": "display_data",
          "data": {
            "text/plain": [
              "<Figure size 300x200 with 1 Axes>"
            ],
            "image/png": "[encoded data removed]"
          },
          "metadata": {}
        }
      ]
    },
    {
      "cell_type": "code",
      "source": [
        "# Impact of randomized search in hypertuning parameters\n",
        "hyperpar_names = [\"Before randomization\",\"After randomization\"]\n",
        "hyperpar_acc = [round(accuracy_rf_bef_random*100,3), round(accuracy_rf_after_random*100,3)]\n",
        "#aman_uni = pd.DataFrame(review_freq, columns=['Unigram', 'Frequency'])\n",
        "#aman_uni = aman_uni.set_index('Unigram')\n",
        "\n",
        "# Plot the bar graph using matplotlib\n",
        "fig = plt.figure(figsize=(2, 2))\n",
        "bars = plt.bar(hyperpar_names, hyperpar_acc)\n",
        "plt.title('Impact of randomization on Random Forest hypertuning parameters', fontsize=10, fontweight='bold')\n",
        "#plt.xlabel('Kernel')\n",
        "plt.ylabel('Accuracy Score [%]')\n",
        "plt.ylim([80, 110])\n",
        "plt.xticks(rotation=45, ha='right')  # Rotate x-axis labels for better visibility\n",
        "for bar in bars:\n",
        "    plt.text(bar.get_x() + bar.get_width() / 2, bar.get_height(), str(bar.get_height()), ha='center', va='bottom')\n",
        "plt.show()"
      ],
      "metadata": {
        "colab": {
          "base_uri": "https://localhost:8080/",
          "height": 336
        },
        "id": "K_YQ2OrxE7lv",
        "outputId": "b9029cd6-6348-4309-c170-81f7a431b3a2"
      },
      "execution_count": 22,
      "outputs": [
        {
          "output_type": "display_data",
          "data": {
            "text/plain": [
              "<Figure size 200x200 with 1 Axes>"
            ],
            "image/png": "[encoded data removed]"
          },
          "metadata": {}
        }
      ]
    },
    {
      "cell_type": "markdown",
      "source": [
        "# Best Results from Step 4\n",
        "## Use the best model from step 1 and step 3 and perform another variable selection using a Bi-directional elimination as a wrapper method"
      ],
      "metadata": {
        "id": "XgW1ZHmcVMge"
      }
    },
    {
      "cell_type": "markdown",
      "source": [
        "# Random Forest"
      ],
      "metadata": {
        "id": "r4yYq5bGXWUj"
      }
    },
    {
      "cell_type": "code",
      "source": [
        "# Fit the model from training data using Random Forest\n",
        "model = RandomForestClassifier()\n",
        "rf = model.fit(X_train_step4, y_train)"
      ],
      "metadata": {
        "id": "LKz248OmXWUk"
      },
      "execution_count": 23,
      "outputs": []
    },
    {
      "cell_type": "code",
      "source": [
        "# Model fit with training data\n",
        "y_train_predict = rf.predict(X_train_step4)\n",
        "# Make predictions on the test data\n",
        "y_pred = rf.predict(X_test_step4)"
      ],
      "metadata": {
        "id": "hM5IFgzZXWUl"
      },
      "execution_count": 24,
      "outputs": []
    },
    {
      "cell_type": "code",
      "source": [
        "# Evaluate performance metric for training and testing data\n",
        "Train_PM = Perf_Metric(y_train,y_train_predict)\n",
        "Test_PM = Perf_Metric(y_test,y_pred)\n",
        "\n",
        "RF_Step5_Train_PM = Train_PM\n",
        "RF_Step5_Test_PM = Test_PM"
      ],
      "metadata": {
        "id": "j8bNUWRmXWUm"
      },
      "execution_count": 25,
      "outputs": []
    },
    {
      "cell_type": "code",
      "source": [
        "# Create a table comparing the preformance on training and test data\n",
        "models = pd.DataFrame({\n",
        "    #'Model': ['RF'],\n",
        "    'Dataset': [\"Train\",\"Test\"],\n",
        "    'Accuracy Score': [Train_PM[0], Test_PM[0]],\n",
        "    'F1 Score': [Train_PM[1], Test_PM[1]],\n",
        "    'Precision': [Train_PM[2], Test_PM[2]],\n",
        "    'Recall': [Train_PM[3], Test_PM[3]],\n",
        "})\n",
        "models"
      ],
      "metadata": {
        "colab": {
          "base_uri": "https://localhost:8080/",
          "height": 111
        },
        "outputId": "4f639795-9096-4fc4-ea43-c706cda473f3",
        "id": "scIyPuf0XWUm"
      },
      "execution_count": 26,
      "outputs": [
        {
          "output_type": "execute_result",
          "data": {
            "text/plain": [
              "  Dataset  Accuracy Score  F1 Score  Precision  Recall\n",
              "0   Train           1.000     1.000      1.000   1.000\n",
              "1    Test           0.998     0.998      0.998   0.998"
            ],
            "text/html": [
              "\n",
              "  <div id=\"df-40cd30b5-0ab9-4950-a35f-26810e7569cf\" class=\"colab-df-container\">\n",
              "    <div>\n",
              "<style scoped>\n",
              "    .dataframe tbody tr th:only-of-type {\n",
              "        vertical-align: middle;\n",
              "    }\n",
              "\n",
              "    .dataframe tbody tr th {\n",
              "        vertical-align: top;\n",
              "    }\n",
              "\n",
              "    .dataframe thead th {\n",
              "        text-align: right;\n",
              "    }\n",
              "</style>\n",
              "<table border=\"1\" class=\"dataframe\">\n",
              "  <thead>\n",
              "    <tr style=\"text-align: right;\">\n",
              "      <th></th>\n",
              "      <th>Dataset</th>\n",
              "      <th>Accuracy Score</th>\n",
              "      <th>F1 Score</th>\n",
              "      <th>Precision</th>\n",
              "      <th>Recall</th>\n",
              "    </tr>\n",
              "  </thead>\n",
              "  <tbody>\n",
              "    <tr>\n",
              "      <th>0</th>\n",
              "      <td>Train</td>\n",
              "      <td>1.000</td>\n",
              "      <td>1.000</td>\n",
              "      <td>1.000</td>\n",
              "      <td>1.000</td>\n",
              "    </tr>\n",
              "    <tr>\n",
              "      <th>1</th>\n",
              "      <td>Test</td>\n",
              "      <td>0.998</td>\n",
              "      <td>0.998</td>\n",
              "      <td>0.998</td>\n",
              "      <td>0.998</td>\n",
              "    </tr>\n",
              "  </tbody>\n",
              "</table>\n",
              "</div>\n",
              "    <div class=\"colab-df-buttons\">\n",
              "\n",
              "  <div class=\"colab-df-container\">\n",
              "    <button class=\"colab-df-convert\" onclick=\"convertToInteractive('df-40cd30b5-0ab9-4950-a35f-26810e7569cf')\"\n",
              "            title=\"Convert this dataframe to an interactive table.\"\n",
              "            style=\"display:none;\">\n",
              "\n",
              "  <svg xmlns=\"http://www.w3.org/2000/svg\" height=\"24px\" viewBox=\"0 -960 960 960\">\n",
              "    <path d=\"M120-120v-720h720v720H120Zm60-500h600v-160H180v160Zm220 220h160v-160H400v160Zm0 220h160v-160H400v160ZM180-400h160v-160H180v160Zm440 0h160v-160H620v160ZM180-180h160v-160H180v160Zm440 0h160v-160H620v160Z\"/>\n",
              "  </svg>\n",
              "    </button>\n",
              "\n",
              "  <style>\n",
              "    .colab-df-container {\n",
              "      display:flex;\n",
              "      gap: 12px;\n",
              "    }\n",
              "\n",
              "    .colab-df-convert {\n",
              "      background-color: #E8F0FE;\n",
              "      border: none;\n",
              "      border-radius: 50%;\n",
              "      cursor: pointer;\n",
              "      display: none;\n",
              "      fill: #1967D2;\n",
              "      height: 32px;\n",
              "      padding: 0 0 0 0;\n",
              "      width: 32px;\n",
              "    }\n",
              "\n",
              "    .colab-df-convert:hover {\n",
              "      background-color: #E2EBFA;\n",
              "      box-shadow: 0px 1px 2px rgba(60, 64, 67, 0.3), 0px 1px 3px 1px rgba(60, 64, 67, 0.15);\n",
              "      fill: #174EA6;\n",
              "    }\n",
              "\n",
              "    .colab-df-buttons div {\n",
              "      margin-bottom: 4px;\n",
              "    }\n",
              "\n",
              "    [theme=dark] .colab-df-convert {\n",
              "      background-color: #3B4455;\n",
              "      fill: #D2E3FC;\n",
              "    }\n",
              "\n",
              "    [theme=dark] .colab-df-convert:hover {\n",
              "      background-color: #434B5C;\n",
              "      box-shadow: 0px 1px 3px 1px rgba(0, 0, 0, 0.15);\n",
              "      filter: drop-shadow(0px 1px 2px rgba(0, 0, 0, 0.3));\n",
              "      fill: #FFFFFF;\n",
              "    }\n",
              "  </style>\n",
              "\n",
              "    <script>\n",
              "      const buttonEl =\n",
              "        document.querySelector('#df-40cd30b5-0ab9-4950-a35f-26810e7569cf button.colab-df-convert');\n",
              "      buttonEl.style.display =\n",
              "        google.colab.kernel.accessAllowed ? 'block' : 'none';\n",
              "\n",
              "      async function convertToInteractive(key) {\n",
              "        const element = document.querySelector('#df-40cd30b5-0ab9-4950-a35f-26810e7569cf');\n",
              "        const dataTable =\n",
              "          await google.colab.kernel.invokeFunction('convertToInteractive',\n",
              "                                                    [key], {});\n",
              "        if (!dataTable) return;\n",
              "\n",
              "        const docLinkHtml = 'Like what you see? Visit the ' +\n",
              "          '<a target=\"_blank\" href=https://colab.research.google.com/notebooks/data_table.ipynb>data table notebook</a>'\n",
              "          + ' to learn more about interactive tables.';\n",
              "        element.innerHTML = '';\n",
              "        dataTable['output_type'] = 'display_data';\n",
              "        await google.colab.output.renderOutput(dataTable, element);\n",
              "        const docLink = document.createElement('div');\n",
              "        docLink.innerHTML = docLinkHtml;\n",
              "        element.appendChild(docLink);\n",
              "      }\n",
              "    </script>\n",
              "  </div>\n",
              "\n",
              "\n",
              "<div id=\"df-d0b202b1-4d48-4ee1-9d82-19c86562c0d0\">\n",
              "  <button class=\"colab-df-quickchart\" onclick=\"quickchart('df-d0b202b1-4d48-4ee1-9d82-19c86562c0d0')\"\n",
              "            title=\"Suggest charts\"\n",
              "            style=\"display:none;\">\n",
              "\n",
              "<svg xmlns=\"http://www.w3.org/2000/svg\" height=\"24px\"viewBox=\"0 0 24 24\"\n",
              "     width=\"24px\">\n",
              "    <g>\n",
              "        <path d=\"M19 3H5c-1.1 0-2 .9-2 2v14c0 1.1.9 2 2 2h14c1.1 0 2-.9 2-2V5c0-1.1-.9-2-2-2zM9 17H7v-7h2v7zm4 0h-2V7h2v10zm4 0h-2v-4h2v4z\"/>\n",
              "    </g>\n",
              "</svg>\n",
              "  </button>\n",
              "\n",
              "<style>\n",
              "  .colab-df-quickchart {\n",
              "      --bg-color: #E8F0FE;\n",
              "      --fill-color: #1967D2;\n",
              "      --hover-bg-color: #E2EBFA;\n",
              "      --hover-fill-color: #174EA6;\n",
              "      --disabled-fill-color: #AAA;\n",
              "      --disabled-bg-color: #DDD;\n",
              "  }\n",
              "\n",
              "  [theme=dark] .colab-df-quickchart {\n",
              "      --bg-color: #3B4455;\n",
              "      --fill-color: #D2E3FC;\n",
              "      --hover-bg-color: #434B5C;\n",
              "      --hover-fill-color: #FFFFFF;\n",
              "      --disabled-bg-color: #3B4455;\n",
              "      --disabled-fill-color: #666;\n",
              "  }\n",
              "\n",
              "  .colab-df-quickchart {\n",
              "    background-color: var(--bg-color);\n",
              "    border: none;\n",
              "    border-radius: 50%;\n",
              "    cursor: pointer;\n",
              "    display: none;\n",
              "    fill: var(--fill-color);\n",
              "    height: 32px;\n",
              "    padding: 0;\n",
              "    width: 32px;\n",
              "  }\n",
              "\n",
              "  .colab-df-quickchart:hover {\n",
              "    background-color: var(--hover-bg-color);\n",
              "    box-shadow: 0 1px 2px rgba(60, 64, 67, 0.3), 0 1px 3px 1px rgba(60, 64, 67, 0.15);\n",
              "    fill: var(--button-hover-fill-color);\n",
              "  }\n",
              "\n",
              "  .colab-df-quickchart-complete:disabled,\n",
              "  .colab-df-quickchart-complete:disabled:hover {\n",
              "    background-color: var(--disabled-bg-color);\n",
              "    fill: var(--disabled-fill-color);\n",
              "    box-shadow: none;\n",
              "  }\n",
              "\n",
              "  .colab-df-spinner {\n",
              "    border: 2px solid var(--fill-color);\n",
              "    border-color: transparent;\n",
              "    border-bottom-color: var(--fill-color);\n",
              "    animation:\n",
              "      spin 1s steps(1) infinite;\n",
              "  }\n",
              "\n",
              "  @keyframes spin {\n",
              "    0% {\n",
              "      border-color: transparent;\n",
              "      border-bottom-color: var(--fill-color);\n",
              "      border-left-color: var(--fill-color);\n",
              "    }\n",
              "    20% {\n",
              "      border-color: transparent;\n",
              "      border-left-color: var(--fill-color);\n",
              "      border-top-color: var(--fill-color);\n",
              "    }\n",
              "    30% {\n",
              "      border-color: transparent;\n",
              "      border-left-color: var(--fill-color);\n",
              "      border-top-color: var(--fill-color);\n",
              "      border-right-color: var(--fill-color);\n",
              "    }\n",
              "    40% {\n",
              "      border-color: transparent;\n",
              "      border-right-color: var(--fill-color);\n",
              "      border-top-color: var(--fill-color);\n",
              "    }\n",
              "    60% {\n",
              "      border-color: transparent;\n",
              "      border-right-color: var(--fill-color);\n",
              "    }\n",
              "    80% {\n",
              "      border-color: transparent;\n",
              "      border-right-color: var(--fill-color);\n",
              "      border-bottom-color: var(--fill-color);\n",
              "    }\n",
              "    90% {\n",
              "      border-color: transparent;\n",
              "      border-bottom-color: var(--fill-color);\n",
              "    }\n",
              "  }\n",
              "</style>\n",
              "\n",
              "  <script>\n",
              "    async function quickchart(key) {\n",
              "      const quickchartButtonEl =\n",
              "        document.querySelector('#' + key + ' button');\n",
              "      quickchartButtonEl.disabled = true;  // To prevent multiple clicks.\n",
              "      quickchartButtonEl.classList.add('colab-df-spinner');\n",
              "      try {\n",
              "        const charts = await google.colab.kernel.invokeFunction(\n",
              "            'suggestCharts', [key], {});\n",
              "      } catch (error) {\n",
              "        console.error('Error during call to suggestCharts:', error);\n",
              "      }\n",
              "      quickchartButtonEl.classList.remove('colab-df-spinner');\n",
              "      quickchartButtonEl.classList.add('colab-df-quickchart-complete');\n",
              "    }\n",
              "    (() => {\n",
              "      let quickchartButtonEl =\n",
              "        document.querySelector('#df-d0b202b1-4d48-4ee1-9d82-19c86562c0d0 button');\n",
              "      quickchartButtonEl.style.display =\n",
              "        google.colab.kernel.accessAllowed ? 'block' : 'none';\n",
              "    })();\n",
              "  </script>\n",
              "</div>\n",
              "    </div>\n",
              "  </div>\n"
            ]
          },
          "metadata": {},
          "execution_count": 26
        }
      ]
    },
    {
      "cell_type": "code",
      "source": [
        "# Plot Confusion matrix\n",
        "cm = confusion_matrix(y_test, y_pred)\n",
        "fig = plt.figure(figsize=(3, 2))\n",
        "sns.heatmap(cm,\n",
        "           annot=True,\n",
        "           annot_kws={\"size\":10},\n",
        "           xticklabels=['Edible', 'Poisonous'],\n",
        "           yticklabels=['Edible', 'Poisonous'],)\n",
        "plt.xlabel('Predicted',fontweight='bold')\n",
        "plt.ylabel('Actual',fontweight='bold');"
      ],
      "metadata": {
        "colab": {
          "base_uri": "https://localhost:8080/",
          "height": 234
        },
        "id": "Xx8iMaz4BJoj",
        "outputId": "ec050dd6-d6d5-4d30-a3ca-5a6734a58b79"
      },
      "execution_count": 27,
      "outputs": [
        {
          "output_type": "display_data",
          "data": {
            "text/plain": [
              "<Figure size 300x200 with 2 Axes>"
            ],
            "image/png": "[encoded data removed]"
          },
          "metadata": {}
        }
      ]
    },
    {
      "cell_type": "code",
      "source": [
        "# summarize scores\n",
        "print('No Skill: ROC AUC=%.3f' % (ns_auc))\n",
        "print('Logistic: ROC AUC=%.3f' % (lr_auc))\n",
        "\n",
        "# calculate roc curves\n",
        "ns_fpr, ns_tpr, _ = roc_curve(y_test, ns_probs)\n",
        "lr_fpr, lr_tpr, _ = roc_curve(y_test, y_pred)\n",
        "\n",
        "# plot the roc curve for the model\n",
        "fig = plt.figure(figsize=(3, 2))\n",
        "plt.plot(ns_fpr, ns_tpr, linestyle='--', color='orange', label='No Skill')\n",
        "plt.plot(lr_fpr, lr_tpr, marker='.', color='blue', label='Random Forest')\n",
        "\n",
        "# axis labels\n",
        "plt.xlabel('False Positive Rate')\n",
        "plt.ylabel('True Positive Rate')\n",
        "\n",
        "# show the legend\n",
        "plt.legend(fontsize = 9)\n",
        "\n",
        "# show the plot\n",
        "plt.show()"
      ],
      "metadata": {
        "colab": {
          "base_uri": "https://localhost:8080/",
          "height": 268
        },
        "id": "ORAT9m_3f2lh",
        "outputId": "b905c5c0-1389-4ec7-8926-30e6c51cdfb4"
      },
      "execution_count": 28,
      "outputs": [
        {
          "output_type": "stream",
          "name": "stdout",
          "text": [
            "No Skill: ROC AUC=0.500\n",
            "Logistic: ROC AUC=0.979\n"
          ]
        },
        {
          "output_type": "display_data",
          "data": {
            "text/plain": [
              "<Figure size 300x200 with 1 Axes>"
            ],
            "image/png": "[encoded data removed]"
          },
          "metadata": {}
        }
      ]
    },
    {
      "cell_type": "markdown",
      "source": [
        "# Random Forest without Bidirectional Feature Elimation"
      ],
      "metadata": {
        "id": "D-2UM9sOLXvK"
      }
    },
    {
      "cell_type": "code",
      "source": [
        "# Fit the model from training data using Random Forest\n",
        "model = RandomForestClassifier()\n",
        "rf = model.fit(X_train, y_train)"
      ],
      "metadata": {
        "id": "LqMwkOujLXvR"
      },
      "execution_count": 29,
      "outputs": []
    },
    {
      "cell_type": "code",
      "source": [
        "# Model fit with training data\n",
        "y_train_predict = rf.predict(X_train)\n",
        "# Make predictions on the test data\n",
        "y_pred = rf.predict(X_test)"
      ],
      "metadata": {
        "id": "-gTN8lYxLXvS"
      },
      "execution_count": 30,
      "outputs": []
    },
    {
      "cell_type": "code",
      "source": [
        "# Evaluate performance metric for training and testing data\n",
        "Train_PM = Perf_Metric(y_train,y_train_predict)\n",
        "Test_PM = Perf_Metric(y_test,y_pred)\n",
        "\n",
        "RF_Train_PM = Train_PM\n",
        "RF_Test_PM = Test_PM"
      ],
      "metadata": {
        "id": "YbC-r8dxLXvT"
      },
      "execution_count": 31,
      "outputs": []
    },
    {
      "cell_type": "code",
      "source": [
        "# Create a table comparing the preformance on training and test data\n",
        "models = pd.DataFrame({\n",
        "    #'Model': ['RF'],\n",
        "    'Dataset': [\"Train\",\"Test\"],\n",
        "    'Accuracy Score': [Train_PM[0], Test_PM[0]],\n",
        "    'F1 Score': [Train_PM[1], Test_PM[1]],\n",
        "    'Precision': [Train_PM[2], Test_PM[2]],\n",
        "    'Recall': [Train_PM[3], Test_PM[3]],\n",
        "})\n",
        "models"
      ],
      "metadata": {
        "colab": {
          "base_uri": "https://localhost:8080/",
          "height": 111
        },
        "outputId": "d5d5c98e-2a4d-48b9-9a5a-5133f4fc4069",
        "id": "PMS7-b94LXvT"
      },
      "execution_count": 32,
      "outputs": [
        {
          "output_type": "execute_result",
          "data": {
            "text/plain": [
              "  Dataset  Accuracy Score  F1 Score  Precision  Recall\n",
              "0   Train           1.000     1.000      1.000   1.000\n",
              "1    Test           0.999     0.999      0.999   0.999"
            ],
            "text/html": [
              "\n",
              "  <div id=\"df-444ea1ac-b38b-47d6-ae1b-7d52bdb57e1e\" class=\"colab-df-container\">\n",
              "    <div>\n",
              "<style scoped>\n",
              "    .dataframe tbody tr th:only-of-type {\n",
              "        vertical-align: middle;\n",
              "    }\n",
              "\n",
              "    .dataframe tbody tr th {\n",
              "        vertical-align: top;\n",
              "    }\n",
              "\n",
              "    .dataframe thead th {\n",
              "        text-align: right;\n",
              "    }\n",
              "</style>\n",
              "<table border=\"1\" class=\"dataframe\">\n",
              "  <thead>\n",
              "    <tr style=\"text-align: right;\">\n",
              "      <th></th>\n",
              "      <th>Dataset</th>\n",
              "      <th>Accuracy Score</th>\n",
              "      <th>F1 Score</th>\n",
              "      <th>Precision</th>\n",
              "      <th>Recall</th>\n",
              "    </tr>\n",
              "  </thead>\n",
              "  <tbody>\n",
              "    <tr>\n",
              "      <th>0</th>\n",
              "      <td>Train</td>\n",
              "      <td>1.000</td>\n",
              "      <td>1.000</td>\n",
              "      <td>1.000</td>\n",
              "      <td>1.000</td>\n",
              "    </tr>\n",
              "    <tr>\n",
              "      <th>1</th>\n",
              "      <td>Test</td>\n",
              "      <td>0.999</td>\n",
              "      <td>0.999</td>\n",
              "      <td>0.999</td>\n",
              "      <td>0.999</td>\n",
              "    </tr>\n",
              "  </tbody>\n",
              "</table>\n",
              "</div>\n",
              "    <div class=\"colab-df-buttons\">\n",
              "\n",
              "  <div class=\"colab-df-container\">\n",
              "    <button class=\"colab-df-convert\" onclick=\"convertToInteractive('df-444ea1ac-b38b-47d6-ae1b-7d52bdb57e1e')\"\n",
              "            title=\"Convert this dataframe to an interactive table.\"\n",
              "            style=\"display:none;\">\n",
              "\n",
              "  <svg xmlns=\"http://www.w3.org/2000/svg\" height=\"24px\" viewBox=\"0 -960 960 960\">\n",
              "    <path d=\"M120-120v-720h720v720H120Zm60-500h600v-160H180v160Zm220 220h160v-160H400v160Zm0 220h160v-160H400v160ZM180-400h160v-160H180v160Zm440 0h160v-160H620v160ZM180-180h160v-160H180v160Zm440 0h160v-160H620v160Z\"/>\n",
              "  </svg>\n",
              "    </button>\n",
              "\n",
              "  <style>\n",
              "    .colab-df-container {\n",
              "      display:flex;\n",
              "      gap: 12px;\n",
              "    }\n",
              "\n",
              "    .colab-df-convert {\n",
              "      background-color: #E8F0FE;\n",
              "      border: none;\n",
              "      border-radius: 50%;\n",
              "      cursor: pointer;\n",
              "      display: none;\n",
              "      fill: #1967D2;\n",
              "      height: 32px;\n",
              "      padding: 0 0 0 0;\n",
              "      width: 32px;\n",
              "    }\n",
              "\n",
              "    .colab-df-convert:hover {\n",
              "      background-color: #E2EBFA;\n",
              "      box-shadow: 0px 1px 2px rgba(60, 64, 67, 0.3), 0px 1px 3px 1px rgba(60, 64, 67, 0.15);\n",
              "      fill: #174EA6;\n",
              "    }\n",
              "\n",
              "    .colab-df-buttons div {\n",
              "      margin-bottom: 4px;\n",
              "    }\n",
              "\n",
              "    [theme=dark] .colab-df-convert {\n",
              "      background-color: #3B4455;\n",
              "      fill: #D2E3FC;\n",
              "    }\n",
              "\n",
              "    [theme=dark] .colab-df-convert:hover {\n",
              "      background-color: #434B5C;\n",
              "      box-shadow: 0px 1px 3px 1px rgba(0, 0, 0, 0.15);\n",
              "      filter: drop-shadow(0px 1px 2px rgba(0, 0, 0, 0.3));\n",
              "      fill: #FFFFFF;\n",
              "    }\n",
              "  </style>\n",
              "\n",
              "    <script>\n",
              "      const buttonEl =\n",
              "        document.querySelector('#df-444ea1ac-b38b-47d6-ae1b-7d52bdb57e1e button.colab-df-convert');\n",
              "      buttonEl.style.display =\n",
              "        google.colab.kernel.accessAllowed ? 'block' : 'none';\n",
              "\n",
              "      async function convertToInteractive(key) {\n",
              "        const element = document.querySelector('#df-444ea1ac-b38b-47d6-ae1b-7d52bdb57e1e');\n",
              "        const dataTable =\n",
              "          await google.colab.kernel.invokeFunction('convertToInteractive',\n",
              "                                                    [key], {});\n",
              "        if (!dataTable) return;\n",
              "\n",
              "        const docLinkHtml = 'Like what you see? Visit the ' +\n",
              "          '<a target=\"_blank\" href=https://colab.research.google.com/notebooks/data_table.ipynb>data table notebook</a>'\n",
              "          + ' to learn more about interactive tables.';\n",
              "        element.innerHTML = '';\n",
              "        dataTable['output_type'] = 'display_data';\n",
              "        await google.colab.output.renderOutput(dataTable, element);\n",
              "        const docLink = document.createElement('div');\n",
              "        docLink.innerHTML = docLinkHtml;\n",
              "        element.appendChild(docLink);\n",
              "      }\n",
              "    </script>\n",
              "  </div>\n",
              "\n",
              "\n",
              "<div id=\"df-ba9dc000-083b-4331-abd9-aa8a47c8340d\">\n",
              "  <button class=\"colab-df-quickchart\" onclick=\"quickchart('df-ba9dc000-083b-4331-abd9-aa8a47c8340d')\"\n",
              "            title=\"Suggest charts\"\n",
              "            style=\"display:none;\">\n",
              "\n",
              "<svg xmlns=\"http://www.w3.org/2000/svg\" height=\"24px\"viewBox=\"0 0 24 24\"\n",
              "     width=\"24px\">\n",
              "    <g>\n",
              "        <path d=\"M19 3H5c-1.1 0-2 .9-2 2v14c0 1.1.9 2 2 2h14c1.1 0 2-.9 2-2V5c0-1.1-.9-2-2-2zM9 17H7v-7h2v7zm4 0h-2V7h2v10zm4 0h-2v-4h2v4z\"/>\n",
              "    </g>\n",
              "</svg>\n",
              "  </button>\n",
              "\n",
              "<style>\n",
              "  .colab-df-quickchart {\n",
              "      --bg-color: #E8F0FE;\n",
              "      --fill-color: #1967D2;\n",
              "      --hover-bg-color: #E2EBFA;\n",
              "      --hover-fill-color: #174EA6;\n",
              "      --disabled-fill-color: #AAA;\n",
              "      --disabled-bg-color: #DDD;\n",
              "  }\n",
              "\n",
              "  [theme=dark] .colab-df-quickchart {\n",
              "      --bg-color: #3B4455;\n",
              "      --fill-color: #D2E3FC;\n",
              "      --hover-bg-color: #434B5C;\n",
              "      --hover-fill-color: #FFFFFF;\n",
              "      --disabled-bg-color: #3B4455;\n",
              "      --disabled-fill-color: #666;\n",
              "  }\n",
              "\n",
              "  .colab-df-quickchart {\n",
              "    background-color: var(--bg-color);\n",
              "    border: none;\n",
              "    border-radius: 50%;\n",
              "    cursor: pointer;\n",
              "    display: none;\n",
              "    fill: var(--fill-color);\n",
              "    height: 32px;\n",
              "    padding: 0;\n",
              "    width: 32px;\n",
              "  }\n",
              "\n",
              "  .colab-df-quickchart:hover {\n",
              "    background-color: var(--hover-bg-color);\n",
              "    box-shadow: 0 1px 2px rgba(60, 64, 67, 0.3), 0 1px 3px 1px rgba(60, 64, 67, 0.15);\n",
              "    fill: var(--button-hover-fill-color);\n",
              "  }\n",
              "\n",
              "  .colab-df-quickchart-complete:disabled,\n",
              "  .colab-df-quickchart-complete:disabled:hover {\n",
              "    background-color: var(--disabled-bg-color);\n",
              "    fill: var(--disabled-fill-color);\n",
              "    box-shadow: none;\n",
              "  }\n",
              "\n",
              "  .colab-df-spinner {\n",
              "    border: 2px solid var(--fill-color);\n",
              "    border-color: transparent;\n",
              "    border-bottom-color: var(--fill-color);\n",
              "    animation:\n",
              "      spin 1s steps(1) infinite;\n",
              "  }\n",
              "\n",
              "  @keyframes spin {\n",
              "    0% {\n",
              "      border-color: transparent;\n",
              "      border-bottom-color: var(--fill-color);\n",
              "      border-left-color: var(--fill-color);\n",
              "    }\n",
              "    20% {\n",
              "      border-color: transparent;\n",
              "      border-left-color: var(--fill-color);\n",
              "      border-top-color: var(--fill-color);\n",
              "    }\n",
              "    30% {\n",
              "      border-color: transparent;\n",
              "      border-left-color: var(--fill-color);\n",
              "      border-top-color: var(--fill-color);\n",
              "      border-right-color: var(--fill-color);\n",
              "    }\n",
              "    40% {\n",
              "      border-color: transparent;\n",
              "      border-right-color: var(--fill-color);\n",
              "      border-top-color: var(--fill-color);\n",
              "    }\n",
              "    60% {\n",
              "      border-color: transparent;\n",
              "      border-right-color: var(--fill-color);\n",
              "    }\n",
              "    80% {\n",
              "      border-color: transparent;\n",
              "      border-right-color: var(--fill-color);\n",
              "      border-bottom-color: var(--fill-color);\n",
              "    }\n",
              "    90% {\n",
              "      border-color: transparent;\n",
              "      border-bottom-color: var(--fill-color);\n",
              "    }\n",
              "  }\n",
              "</style>\n",
              "\n",
              "  <script>\n",
              "    async function quickchart(key) {\n",
              "      const quickchartButtonEl =\n",
              "        document.querySelector('#' + key + ' button');\n",
              "      quickchartButtonEl.disabled = true;  // To prevent multiple clicks.\n",
              "      quickchartButtonEl.classList.add('colab-df-spinner');\n",
              "      try {\n",
              "        const charts = await google.colab.kernel.invokeFunction(\n",
              "            'suggestCharts', [key], {});\n",
              "      } catch (error) {\n",
              "        console.error('Error during call to suggestCharts:', error);\n",
              "      }\n",
              "      quickchartButtonEl.classList.remove('colab-df-spinner');\n",
              "      quickchartButtonEl.classList.add('colab-df-quickchart-complete');\n",
              "    }\n",
              "    (() => {\n",
              "      let quickchartButtonEl =\n",
              "        document.querySelector('#df-ba9dc000-083b-4331-abd9-aa8a47c8340d button');\n",
              "      quickchartButtonEl.style.display =\n",
              "        google.colab.kernel.accessAllowed ? 'block' : 'none';\n",
              "    })();\n",
              "  </script>\n",
              "</div>\n",
              "    </div>\n",
              "  </div>\n"
            ]
          },
          "metadata": {},
          "execution_count": 32
        }
      ]
    },
    {
      "cell_type": "code",
      "source": [
        "# Plot Confusion matrix\n",
        "cm = confusion_matrix(y_test, y_pred)\n",
        "fig = plt.figure(figsize=(3, 2))\n",
        "sns.heatmap(cm,\n",
        "           annot=True,\n",
        "           annot_kws={\"size\":10},\n",
        "           xticklabels=['Edible', 'Poisonous'],\n",
        "           yticklabels=['Edible', 'Poisonous'],)\n",
        "plt.xlabel('Predicted',fontweight='bold')\n",
        "plt.ylabel('Actual',fontweight='bold');"
      ],
      "metadata": {
        "colab": {
          "base_uri": "https://localhost:8080/",
          "height": 234
        },
        "outputId": "572266fc-9f61-42b7-b2eb-73c28211853c",
        "id": "UtWQt_cfLXvU"
      },
      "execution_count": 33,
      "outputs": [
        {
          "output_type": "display_data",
          "data": {
            "text/plain": [
              "<Figure size 300x200 with 2 Axes>"
            ],
            "image/png": "[encoded data removed]"
          },
          "metadata": {}
        }
      ]
    },
    {
      "cell_type": "code",
      "source": [
        "# summarize scores\n",
        "print('No Skill: ROC AUC=%.3f' % (ns_auc))\n",
        "print('Logistic: ROC AUC=%.3f' % (lr_auc))\n",
        "\n",
        "# calculate roc curves\n",
        "ns_fpr, ns_tpr, _ = roc_curve(y_test, ns_probs)\n",
        "lr_fpr, lr_tpr, _ = roc_curve(y_test, y_pred)\n",
        "\n",
        "# plot the roc curve for the model\n",
        "fig = plt.figure(figsize=(3, 2))\n",
        "plt.plot(ns_fpr, ns_tpr, linestyle='--', color='orange', label='No Skill')\n",
        "plt.plot(lr_fpr, lr_tpr, marker='.', color='blue', label='Random Forest')\n",
        "\n",
        "# axis labels\n",
        "plt.xlabel('False Positive Rate')\n",
        "plt.ylabel('True Positive Rate')\n",
        "\n",
        "# show the legend\n",
        "plt.legend(fontsize = 9)\n",
        "\n",
        "# show the plot\n",
        "plt.show()"
      ],
      "metadata": {
        "colab": {
          "base_uri": "https://localhost:8080/",
          "height": 268
        },
        "id": "UYrvbZeHf-Rc",
        "outputId": "0971b81a-a651-4586-f456-3c61eb588734"
      },
      "execution_count": 34,
      "outputs": [
        {
          "output_type": "stream",
          "name": "stdout",
          "text": [
            "No Skill: ROC AUC=0.500\n",
            "Logistic: ROC AUC=0.979\n"
          ]
        },
        {
          "output_type": "display_data",
          "data": {
            "text/plain": [
              "<Figure size 300x200 with 1 Axes>"
            ],
            "image/png": "[encoded data removed]"
          },
          "metadata": {}
        }
      ]
    },
    {
      "cell_type": "code",
      "source": [
        "# Impact of Bidirectional elimination on Random Forest\n",
        "hyperpar_names = [\"With out\",\"With\"]\n",
        "hyperpar_acc = [round(RF_Test_PM[0]*100,3), round(RF_Step5_Test_PM[0]*100,3)]\n",
        "#aman_uni = pd.DataFrame(review_freq, columns=['Unigram', 'Frequency'])\n",
        "#aman_uni = aman_uni.set_index('Unigram')\n",
        "\n",
        "# Plot the bar graph using matplotlib\n",
        "fig = plt.figure(figsize=(3, 2))\n",
        "bars = plt.bar(hyperpar_names, hyperpar_acc)\n",
        "plt.title('Impact of birectional feature elimination on Random Forest', fontsize=10, fontweight='bold')\n",
        "plt.xlabel('Birectional Feature Elimination')\n",
        "plt.ylabel('Accuracy Score [%]')\n",
        "plt.ylim([80, 110])\n",
        "plt.xticks(rotation=45, ha='right')  # Rotate x-axis labels for better visibility\n",
        "for bar in bars:\n",
        "    plt.text(bar.get_x() + bar.get_width() / 2, bar.get_height(), str(bar.get_height()), ha='center', va='bottom')\n",
        "plt.show()"
      ],
      "metadata": {
        "colab": {
          "base_uri": "https://localhost:8080/",
          "height": 291
        },
        "id": "JhBpsa97LoTx",
        "outputId": "287d11a1-22e5-4ca8-8908-77dda23dff89"
      },
      "execution_count": 35,
      "outputs": [
        {
          "output_type": "display_data",
          "data": {
            "text/plain": [
              "<Figure size 300x200 with 1 Axes>"
            ],
            "image/png": "[encoded data removed]"
          },
          "metadata": {}
        }
      ]
    },
    {
      "cell_type": "markdown",
      "source": [
        "# Best results from Step 5"
      ],
      "metadata": {
        "id": "mkVKhhSFXy8A"
      }
    },
    {
      "cell_type": "markdown",
      "source": [
        "## Step 5: Feature selection step 2 also build (Based on the models compatibility with the data i.e classification or regression problem)"
      ],
      "metadata": {
        "id": "T98lcNoUXzUW"
      }
    },
    {
      "cell_type": "markdown",
      "metadata": {
        "id": "ZeIP4E0ZUeKk"
      },
      "source": [
        "# Performing few more machine learning model training"
      ]
    },
    {
      "cell_type": "markdown",
      "metadata": {
        "id": "z8m3ORgSVqEk"
      },
      "source": [
        "XG Boost"
      ]
    },
    {
      "cell_type": "code",
      "execution_count": 36,
      "metadata": {
        "colab": {
          "base_uri": "https://localhost:8080/",
          "height": 111
        },
        "id": "odBrlyOfVuHE",
        "outputId": "75c80264-2838-485a-a1b3-53bf5cffea04"
      },
      "outputs": [
        {
          "output_type": "execute_result",
          "data": {
            "text/plain": [
              "  Dataset  Accuracy Score  F1 Score  Precision  Recall\n",
              "0   Train           0.999     0.999      0.999   0.999\n",
              "1    Test           0.976     0.979      0.979   0.978"
            ],
            "text/html": [
              "\n",
              "  <div id=\"df-eac034e3-0e0a-4061-8f58-272f52ed0328\" class=\"colab-df-container\">\n",
              "    <div>\n",
              "<style scoped>\n",
              "    .dataframe tbody tr th:only-of-type {\n",
              "        vertical-align: middle;\n",
              "    }\n",
              "\n",
              "    .dataframe tbody tr th {\n",
              "        vertical-align: top;\n",
              "    }\n",
              "\n",
              "    .dataframe thead th {\n",
              "        text-align: right;\n",
              "    }\n",
              "</style>\n",
              "<table border=\"1\" class=\"dataframe\">\n",
              "  <thead>\n",
              "    <tr style=\"text-align: right;\">\n",
              "      <th></th>\n",
              "      <th>Dataset</th>\n",
              "      <th>Accuracy Score</th>\n",
              "      <th>F1 Score</th>\n",
              "      <th>Precision</th>\n",
              "      <th>Recall</th>\n",
              "    </tr>\n",
              "  </thead>\n",
              "  <tbody>\n",
              "    <tr>\n",
              "      <th>0</th>\n",
              "      <td>Train</td>\n",
              "      <td>0.999</td>\n",
              "      <td>0.999</td>\n",
              "      <td>0.999</td>\n",
              "      <td>0.999</td>\n",
              "    </tr>\n",
              "    <tr>\n",
              "      <th>1</th>\n",
              "      <td>Test</td>\n",
              "      <td>0.976</td>\n",
              "      <td>0.979</td>\n",
              "      <td>0.979</td>\n",
              "      <td>0.978</td>\n",
              "    </tr>\n",
              "  </tbody>\n",
              "</table>\n",
              "</div>\n",
              "    <div class=\"colab-df-buttons\">\n",
              "\n",
              "  <div class=\"colab-df-container\">\n",
              "    <button class=\"colab-df-convert\" onclick=\"convertToInteractive('df-eac034e3-0e0a-4061-8f58-272f52ed0328')\"\n",
              "            title=\"Convert this dataframe to an interactive table.\"\n",
              "            style=\"display:none;\">\n",
              "\n",
              "  <svg xmlns=\"http://www.w3.org/2000/svg\" height=\"24px\" viewBox=\"0 -960 960 960\">\n",
              "    <path d=\"M120-120v-720h720v720H120Zm60-500h600v-160H180v160Zm220 220h160v-160H400v160Zm0 220h160v-160H400v160ZM180-400h160v-160H180v160Zm440 0h160v-160H620v160ZM180-180h160v-160H180v160Zm440 0h160v-160H620v160Z\"/>\n",
              "  </svg>\n",
              "    </button>\n",
              "\n",
              "  <style>\n",
              "    .colab-df-container {\n",
              "      display:flex;\n",
              "      gap: 12px;\n",
              "    }\n",
              "\n",
              "    .colab-df-convert {\n",
              "      background-color: #E8F0FE;\n",
              "      border: none;\n",
              "      border-radius: 50%;\n",
              "      cursor: pointer;\n",
              "      display: none;\n",
              "      fill: #1967D2;\n",
              "      height: 32px;\n",
              "      padding: 0 0 0 0;\n",
              "      width: 32px;\n",
              "    }\n",
              "\n",
              "    .colab-df-convert:hover {\n",
              "      background-color: #E2EBFA;\n",
              "      box-shadow: 0px 1px 2px rgba(60, 64, 67, 0.3), 0px 1px 3px 1px rgba(60, 64, 67, 0.15);\n",
              "      fill: #174EA6;\n",
              "    }\n",
              "\n",
              "    .colab-df-buttons div {\n",
              "      margin-bottom: 4px;\n",
              "    }\n",
              "\n",
              "    [theme=dark] .colab-df-convert {\n",
              "      background-color: #3B4455;\n",
              "      fill: #D2E3FC;\n",
              "    }\n",
              "\n",
              "    [theme=dark] .colab-df-convert:hover {\n",
              "      background-color: #434B5C;\n",
              "      box-shadow: 0px 1px 3px 1px rgba(0, 0, 0, 0.15);\n",
              "      filter: drop-shadow(0px 1px 2px rgba(0, 0, 0, 0.3));\n",
              "      fill: #FFFFFF;\n",
              "    }\n",
              "  </style>\n",
              "\n",
              "    <script>\n",
              "      const buttonEl =\n",
              "        document.querySelector('#df-eac034e3-0e0a-4061-8f58-272f52ed0328 button.colab-df-convert');\n",
              "      buttonEl.style.display =\n",
              "        google.colab.kernel.accessAllowed ? 'block' : 'none';\n",
              "\n",
              "      async function convertToInteractive(key) {\n",
              "        const element = document.querySelector('#df-eac034e3-0e0a-4061-8f58-272f52ed0328');\n",
              "        const dataTable =\n",
              "          await google.colab.kernel.invokeFunction('convertToInteractive',\n",
              "                                                    [key], {});\n",
              "        if (!dataTable) return;\n",
              "\n",
              "        const docLinkHtml = 'Like what you see? Visit the ' +\n",
              "          '<a target=\"_blank\" href=https://colab.research.google.com/notebooks/data_table.ipynb>data table notebook</a>'\n",
              "          + ' to learn more about interactive tables.';\n",
              "        element.innerHTML = '';\n",
              "        dataTable['output_type'] = 'display_data';\n",
              "        await google.colab.output.renderOutput(dataTable, element);\n",
              "        const docLink = document.createElement('div');\n",
              "        docLink.innerHTML = docLinkHtml;\n",
              "        element.appendChild(docLink);\n",
              "      }\n",
              "    </script>\n",
              "  </div>\n",
              "\n",
              "\n",
              "<div id=\"df-445883d2-64b8-4040-af49-99314c0a09c2\">\n",
              "  <button class=\"colab-df-quickchart\" onclick=\"quickchart('df-445883d2-64b8-4040-af49-99314c0a09c2')\"\n",
              "            title=\"Suggest charts\"\n",
              "            style=\"display:none;\">\n",
              "\n",
              "<svg xmlns=\"http://www.w3.org/2000/svg\" height=\"24px\"viewBox=\"0 0 24 24\"\n",
              "     width=\"24px\">\n",
              "    <g>\n",
              "        <path d=\"M19 3H5c-1.1 0-2 .9-2 2v14c0 1.1.9 2 2 2h14c1.1 0 2-.9 2-2V5c0-1.1-.9-2-2-2zM9 17H7v-7h2v7zm4 0h-2V7h2v10zm4 0h-2v-4h2v4z\"/>\n",
              "    </g>\n",
              "</svg>\n",
              "  </button>\n",
              "\n",
              "<style>\n",
              "  .colab-df-quickchart {\n",
              "      --bg-color: #E8F0FE;\n",
              "      --fill-color: #1967D2;\n",
              "      --hover-bg-color: #E2EBFA;\n",
              "      --hover-fill-color: #174EA6;\n",
              "      --disabled-fill-color: #AAA;\n",
              "      --disabled-bg-color: #DDD;\n",
              "  }\n",
              "\n",
              "  [theme=dark] .colab-df-quickchart {\n",
              "      --bg-color: #3B4455;\n",
              "      --fill-color: #D2E3FC;\n",
              "      --hover-bg-color: #434B5C;\n",
              "      --hover-fill-color: #FFFFFF;\n",
              "      --disabled-bg-color: #3B4455;\n",
              "      --disabled-fill-color: #666;\n",
              "  }\n",
              "\n",
              "  .colab-df-quickchart {\n",
              "    background-color: var(--bg-color);\n",
              "    border: none;\n",
              "    border-radius: 50%;\n",
              "    cursor: pointer;\n",
              "    display: none;\n",
              "    fill: var(--fill-color);\n",
              "    height: 32px;\n",
              "    padding: 0;\n",
              "    width: 32px;\n",
              "  }\n",
              "\n",
              "  .colab-df-quickchart:hover {\n",
              "    background-color: var(--hover-bg-color);\n",
              "    box-shadow: 0 1px 2px rgba(60, 64, 67, 0.3), 0 1px 3px 1px rgba(60, 64, 67, 0.15);\n",
              "    fill: var(--button-hover-fill-color);\n",
              "  }\n",
              "\n",
              "  .colab-df-quickchart-complete:disabled,\n",
              "  .colab-df-quickchart-complete:disabled:hover {\n",
              "    background-color: var(--disabled-bg-color);\n",
              "    fill: var(--disabled-fill-color);\n",
              "    box-shadow: none;\n",
              "  }\n",
              "\n",
              "  .colab-df-spinner {\n",
              "    border: 2px solid var(--fill-color);\n",
              "    border-color: transparent;\n",
              "    border-bottom-color: var(--fill-color);\n",
              "    animation:\n",
              "      spin 1s steps(1) infinite;\n",
              "  }\n",
              "\n",
              "  @keyframes spin {\n",
              "    0% {\n",
              "      border-color: transparent;\n",
              "      border-bottom-color: var(--fill-color);\n",
              "      border-left-color: var(--fill-color);\n",
              "    }\n",
              "    20% {\n",
              "      border-color: transparent;\n",
              "      border-left-color: var(--fill-color);\n",
              "      border-top-color: var(--fill-color);\n",
              "    }\n",
              "    30% {\n",
              "      border-color: transparent;\n",
              "      border-left-color: var(--fill-color);\n",
              "      border-top-color: var(--fill-color);\n",
              "      border-right-color: var(--fill-color);\n",
              "    }\n",
              "    40% {\n",
              "      border-color: transparent;\n",
              "      border-right-color: var(--fill-color);\n",
              "      border-top-color: var(--fill-color);\n",
              "    }\n",
              "    60% {\n",
              "      border-color: transparent;\n",
              "      border-right-color: var(--fill-color);\n",
              "    }\n",
              "    80% {\n",
              "      border-color: transparent;\n",
              "      border-right-color: var(--fill-color);\n",
              "      border-bottom-color: var(--fill-color);\n",
              "    }\n",
              "    90% {\n",
              "      border-color: transparent;\n",
              "      border-bottom-color: var(--fill-color);\n",
              "    }\n",
              "  }\n",
              "</style>\n",
              "\n",
              "  <script>\n",
              "    async function quickchart(key) {\n",
              "      const quickchartButtonEl =\n",
              "        document.querySelector('#' + key + ' button');\n",
              "      quickchartButtonEl.disabled = true;  // To prevent multiple clicks.\n",
              "      quickchartButtonEl.classList.add('colab-df-spinner');\n",
              "      try {\n",
              "        const charts = await google.colab.kernel.invokeFunction(\n",
              "            'suggestCharts', [key], {});\n",
              "      } catch (error) {\n",
              "        console.error('Error during call to suggestCharts:', error);\n",
              "      }\n",
              "      quickchartButtonEl.classList.remove('colab-df-spinner');\n",
              "      quickchartButtonEl.classList.add('colab-df-quickchart-complete');\n",
              "    }\n",
              "    (() => {\n",
              "      let quickchartButtonEl =\n",
              "        document.querySelector('#df-445883d2-64b8-4040-af49-99314c0a09c2 button');\n",
              "      quickchartButtonEl.style.display =\n",
              "        google.colab.kernel.accessAllowed ? 'block' : 'none';\n",
              "    })();\n",
              "  </script>\n",
              "</div>\n",
              "    </div>\n",
              "  </div>\n"
            ]
          },
          "metadata": {},
          "execution_count": 36
        }
      ],
      "source": [
        "# Fit the model from taining data using XG Boost\n",
        "xgb_model = XGBClassifier(n_estimators=1000 ,random_state=42)\n",
        "xgb = xgb_model.fit(X_train_selected, y_train)\n",
        "\n",
        "# Model fit with training data\n",
        "y_train_predict = xgb.predict(X_train_selected)\n",
        "# Make predictions on the test data\n",
        "y_pred = xgb.predict(X_test_selected)\n",
        "\n",
        "# Evaluate performance metrics\n",
        "Train_PM = Perf_Metric(y_train,y_train_predict)\n",
        "Test_PM = Perf_Metric(y_test,y_pred)\n",
        "\n",
        "XGB_Train_PM = Train_PM\n",
        "XGB_Test_PM = Test_PM\n",
        "\n",
        "# Create a table comparing the preformance on training and test data\n",
        "models = pd.DataFrame({\n",
        "    #'Model': ['Logistic Regression'],\n",
        "    'Dataset': [\"Train\",\"Test\"],\n",
        "    'Accuracy Score': [Train_PM[0], Test_PM[0]],\n",
        "    'F1 Score': [Train_PM[1], Test_PM[1]],\n",
        "    'Precision': [Train_PM[2], Test_PM[2]],\n",
        "    'Recall': [Train_PM[3], Test_PM[3]],\n",
        "})\n",
        "models"
      ]
    },
    {
      "cell_type": "code",
      "execution_count": 37,
      "metadata": {
        "id": "NZhIBBUCXKrp",
        "colab": {
          "base_uri": "https://localhost:8080/",
          "height": 234
        },
        "outputId": "c10b8782-38b8-442e-c1f2-ac0440eb8a87"
      },
      "outputs": [
        {
          "output_type": "display_data",
          "data": {
            "text/plain": [
              "<Figure size 300x200 with 2 Axes>"
            ],
            "image/png": "[encoded data removed]"
          },
          "metadata": {}
        }
      ],
      "source": [
        "# Plot Confusion matrix\n",
        "cm = confusion_matrix(y_test, y_pred)\n",
        "fig = plt.figure(figsize=(3, 2))\n",
        "sns.heatmap(cm,\n",
        "           annot=True,\n",
        "           annot_kws={\"size\":10},\n",
        "           xticklabels=['Edible', 'Poisonous'],\n",
        "           yticklabels=['Edible', 'Poisonous'],)\n",
        "plt.xlabel('Predicted',fontweight='bold')\n",
        "plt.ylabel('Actual',fontweight='bold');"
      ]
    },
    {
      "cell_type": "code",
      "source": [
        "# summarize scores\n",
        "print('No Skill: ROC AUC=%.3f' % (ns_auc))\n",
        "print('XG Boost: ROC AUC=%.3f' % (lr_auc))\n",
        "\n",
        "# calculate roc curves\n",
        "ns_fpr, ns_tpr, _ = roc_curve(y_test, ns_probs)\n",
        "lr_fpr, lr_tpr, _ = roc_curve(y_test, y_pred)\n",
        "\n",
        "# plot the roc curve for the model\n",
        "fig = plt.figure(figsize=(3, 2))\n",
        "plt.plot(ns_fpr, ns_tpr, linestyle='--', color='orange', label='No Skill')\n",
        "plt.plot(lr_fpr, lr_tpr, marker='.', color='blue', label='XG Boost')\n",
        "\n",
        "# axis labels\n",
        "plt.xlabel('False Positive Rate')\n",
        "plt.ylabel('True Positive Rate')\n",
        "\n",
        "# show the legend\n",
        "plt.legend(fontsize = 9)\n",
        "\n",
        "# show the plot\n",
        "plt.show()"
      ],
      "metadata": {
        "colab": {
          "base_uri": "https://localhost:8080/",
          "height": 268
        },
        "id": "OzLPPzlFgCvd",
        "outputId": "240fe8cd-503c-4da0-a3be-92129a841b73"
      },
      "execution_count": 38,
      "outputs": [
        {
          "output_type": "stream",
          "name": "stdout",
          "text": [
            "No Skill: ROC AUC=0.500\n",
            "XG Boost: ROC AUC=0.979\n"
          ]
        },
        {
          "output_type": "display_data",
          "data": {
            "text/plain": [
              "<Figure size 300x200 with 1 Axes>"
            ],
            "image/png": "[encoded data removed]"
          },
          "metadata": {}
        }
      ]
    },
    {
      "cell_type": "markdown",
      "metadata": {
        "id": "E7bzQqbjXzFo"
      },
      "source": [
        "## Extreme Machine Larning Model"
      ]
    },
    {
      "cell_type": "markdown",
      "metadata": {
        "id": "1bO7wi74X5OV"
      },
      "source": [
        "#### Extreme ML Model is a Deep Learning model that consists of two or more hidden layers. The deeper the model (number of layers) the model has, the better the model is at learning the dataset. The model has an input layer that takes in the newly shaped independent variables, and a single output neuron that decides the binary classification."
      ]
    },
    {
      "cell_type": "code",
      "execution_count": 39,
      "metadata": {
        "colab": {
          "base_uri": "https://localhost:8080/",
          "height": 1000
        },
        "id": "Xrw-8nd9eT-y",
        "outputId": "f20cfdde-c3ac-45f9-daf0-48fd8353088a"
      },
      "outputs": [
        {
          "output_type": "stream",
          "name": "stdout",
          "text": [
            "Collecting scikeras\n",
            "  Downloading scikeras-0.12.0-py3-none-any.whl (27 kB)\n",
            "Requirement already satisfied: packaging>=0.21 in /usr/local/lib/python3.10/dist-packages (from scikeras) (23.2)\n",
            "Requirement already satisfied: scikit-learn>=1.0.0 in /usr/local/lib/python3.10/dist-packages (from scikeras) (1.2.2)\n",
            "Requirement already satisfied: numpy>=1.17.3 in /usr/local/lib/python3.10/dist-packages (from scikit-learn>=1.0.0->scikeras) (1.23.5)\n",
            "Requirement already satisfied: scipy>=1.3.2 in /usr/local/lib/python3.10/dist-packages (from scikit-learn>=1.0.0->scikeras) (1.11.4)\n",
            "Requirement already satisfied: joblib>=1.1.1 in /usr/local/lib/python3.10/dist-packages (from scikit-learn>=1.0.0->scikeras) (1.3.2)\n",
            "Requirement already satisfied: threadpoolctl>=2.0.0 in /usr/local/lib/python3.10/dist-packages (from scikit-learn>=1.0.0->scikeras) (3.2.0)\n",
            "Installing collected packages: scikeras\n",
            "Successfully installed scikeras-0.12.0\n"
          ]
        },
        {
          "output_type": "stream",
          "name": "stderr",
          "text": [
            "/usr/local/lib/python3.10/dist-packages/scikeras/wrappers.py:915: UserWarning: ``build_fn`` will be renamed to ``model`` in a future release, at which point use of ``build_fn`` will raise an Error instead.\n",
            "  X, y = self._initialize(X, y)\n"
          ]
        },
        {
          "output_type": "stream",
          "name": "stdout",
          "text": [
            "Epoch 1/15\n",
            "156/156 [==============================] - 3s 8ms/step - loss: 0.5695 - accuracy: 0.6828\n",
            "Epoch 2/15\n",
            "156/156 [==============================] - 1s 7ms/step - loss: 0.4037 - accuracy: 0.7984\n",
            "Epoch 3/15\n",
            "156/156 [==============================] - 1s 7ms/step - loss: 0.3054 - accuracy: 0.8585\n",
            "Epoch 4/15\n",
            "156/156 [==============================] - 1s 7ms/step - loss: 0.2384 - accuracy: 0.8959\n",
            "Epoch 5/15\n",
            "156/156 [==============================] - 1s 7ms/step - loss: 0.2190 - accuracy: 0.9035\n",
            "Epoch 6/15\n",
            "156/156 [==============================] - 1s 8ms/step - loss: 0.1878 - accuracy: 0.9195\n",
            "Epoch 7/15\n",
            "156/156 [==============================] - 2s 12ms/step - loss: 0.1731 - accuracy: 0.9279\n",
            "Epoch 8/15\n",
            "156/156 [==============================] - 2s 12ms/step - loss: 0.1534 - accuracy: 0.9382\n",
            "Epoch 9/15\n",
            "156/156 [==============================] - 2s 12ms/step - loss: 0.1481 - accuracy: 0.9393\n",
            "Epoch 10/15\n",
            "156/156 [==============================] - 2s 12ms/step - loss: 0.1368 - accuracy: 0.9452\n",
            "Epoch 11/15\n",
            "156/156 [==============================] - 1s 7ms/step - loss: 0.1280 - accuracy: 0.9481\n",
            "Epoch 12/15\n",
            "156/156 [==============================] - 1s 7ms/step - loss: 0.1237 - accuracy: 0.9502\n",
            "Epoch 13/15\n",
            "156/156 [==============================] - 1s 7ms/step - loss: 0.1111 - accuracy: 0.9558\n",
            "Epoch 14/15\n",
            "156/156 [==============================] - 1s 7ms/step - loss: 0.1059 - accuracy: 0.9592\n",
            "Epoch 15/15\n",
            "156/156 [==============================] - 1s 7ms/step - loss: 0.1012 - accuracy: 0.9599\n",
            "39/39 [==============================] - 0s 3ms/step\n",
            "Epoch 1/15\n"
          ]
        },
        {
          "output_type": "stream",
          "name": "stderr",
          "text": [
            "/usr/local/lib/python3.10/dist-packages/scikeras/wrappers.py:915: UserWarning: ``build_fn`` will be renamed to ``model`` in a future release, at which point use of ``build_fn`` will raise an Error instead.\n",
            "  X, y = self._initialize(X, y)\n"
          ]
        },
        {
          "output_type": "stream",
          "name": "stdout",
          "text": [
            "156/156 [==============================] - 2s 7ms/step - loss: 0.5583 - accuracy: 0.6929\n",
            "Epoch 2/15\n",
            "156/156 [==============================] - 1s 7ms/step - loss: 0.3813 - accuracy: 0.8112\n",
            "Epoch 3/15\n",
            "156/156 [==============================] - 2s 11ms/step - loss: 0.2761 - accuracy: 0.8739\n",
            "Epoch 4/15\n",
            "156/156 [==============================] - 2s 11ms/step - loss: 0.2320 - accuracy: 0.8990\n",
            "Epoch 5/15\n",
            "156/156 [==============================] - 2s 12ms/step - loss: 0.2059 - accuracy: 0.9118\n",
            "Epoch 6/15\n",
            "156/156 [==============================] - 2s 11ms/step - loss: 0.1722 - accuracy: 0.9291\n",
            "Epoch 7/15\n",
            "156/156 [==============================] - 1s 9ms/step - loss: 0.1582 - accuracy: 0.9362\n",
            "Epoch 8/15\n",
            "156/156 [==============================] - 1s 8ms/step - loss: 0.1502 - accuracy: 0.9395\n",
            "Epoch 9/15\n",
            "156/156 [==============================] - 1s 8ms/step - loss: 0.1279 - accuracy: 0.9505\n",
            "Epoch 10/15\n",
            "156/156 [==============================] - 1s 7ms/step - loss: 0.1260 - accuracy: 0.9506\n",
            "Epoch 11/15\n",
            "156/156 [==============================] - 1s 7ms/step - loss: 0.1156 - accuracy: 0.9555\n",
            "Epoch 12/15\n",
            "156/156 [==============================] - 1s 7ms/step - loss: 0.1129 - accuracy: 0.9571\n",
            "Epoch 13/15\n",
            "156/156 [==============================] - 1s 7ms/step - loss: 0.1025 - accuracy: 0.9604\n",
            "Epoch 14/15\n",
            "156/156 [==============================] - 1s 7ms/step - loss: 0.0967 - accuracy: 0.9625\n",
            "Epoch 15/15\n",
            "156/156 [==============================] - 1s 7ms/step - loss: 0.0920 - accuracy: 0.9647\n",
            "39/39 [==============================] - 0s 5ms/step\n"
          ]
        },
        {
          "output_type": "stream",
          "name": "stderr",
          "text": [
            "/usr/local/lib/python3.10/dist-packages/scikeras/wrappers.py:915: UserWarning: ``build_fn`` will be renamed to ``model`` in a future release, at which point use of ``build_fn`` will raise an Error instead.\n",
            "  X, y = self._initialize(X, y)\n"
          ]
        },
        {
          "output_type": "stream",
          "name": "stdout",
          "text": [
            "Epoch 1/15\n",
            "156/156 [==============================] - 4s 12ms/step - loss: 0.5641 - accuracy: 0.6857\n",
            "Epoch 2/15\n",
            "156/156 [==============================] - 2s 12ms/step - loss: 0.3934 - accuracy: 0.8014\n",
            "Epoch 3/15\n",
            "156/156 [==============================] - 1s 9ms/step - loss: 0.3016 - accuracy: 0.8575\n",
            "Epoch 4/15\n",
            "156/156 [==============================] - 1s 8ms/step - loss: 0.2407 - accuracy: 0.8928\n",
            "Epoch 5/15\n",
            "156/156 [==============================] - 1s 7ms/step - loss: 0.2125 - accuracy: 0.9055\n",
            "Epoch 6/15\n",
            "156/156 [==============================] - 1s 7ms/step - loss: 0.1871 - accuracy: 0.9198\n",
            "Epoch 7/15\n",
            "156/156 [==============================] - 1s 7ms/step - loss: 0.1705 - accuracy: 0.9276\n",
            "Epoch 8/15\n",
            "156/156 [==============================] - 1s 8ms/step - loss: 0.1532 - accuracy: 0.9371\n",
            "Epoch 9/15\n",
            "156/156 [==============================] - 1s 8ms/step - loss: 0.1496 - accuracy: 0.9394\n",
            "Epoch 10/15\n",
            "156/156 [==============================] - 1s 8ms/step - loss: 0.1338 - accuracy: 0.9466\n",
            "Epoch 11/15\n",
            "156/156 [==============================] - 1s 8ms/step - loss: 0.1204 - accuracy: 0.9533\n",
            "Epoch 12/15\n",
            "156/156 [==============================] - 2s 12ms/step - loss: 0.1290 - accuracy: 0.9491\n",
            "Epoch 13/15\n",
            "156/156 [==============================] - 2s 12ms/step - loss: 0.1098 - accuracy: 0.9575\n",
            "Epoch 14/15\n",
            "156/156 [==============================] - 2s 12ms/step - loss: 0.1079 - accuracy: 0.9588\n",
            "Epoch 15/15\n",
            "156/156 [==============================] - 2s 12ms/step - loss: 0.1015 - accuracy: 0.9618\n",
            "39/39 [==============================] - 0s 3ms/step\n",
            "Epoch 1/15\n"
          ]
        },
        {
          "output_type": "stream",
          "name": "stderr",
          "text": [
            "/usr/local/lib/python3.10/dist-packages/scikeras/wrappers.py:915: UserWarning: ``build_fn`` will be renamed to ``model`` in a future release, at which point use of ``build_fn`` will raise an Error instead.\n",
            "  X, y = self._initialize(X, y)\n"
          ]
        },
        {
          "output_type": "stream",
          "name": "stdout",
          "text": [
            "156/156 [==============================] - 2s 7ms/step - loss: 0.5554 - accuracy: 0.6949\n",
            "Epoch 2/15\n",
            "156/156 [==============================] - 1s 7ms/step - loss: 0.3992 - accuracy: 0.8020\n",
            "Epoch 3/15\n",
            "156/156 [==============================] - 1s 7ms/step - loss: 0.2990 - accuracy: 0.8625\n",
            "Epoch 4/15\n",
            "156/156 [==============================] - 1s 7ms/step - loss: 0.2591 - accuracy: 0.8825\n",
            "Epoch 5/15\n",
            "156/156 [==============================] - 1s 8ms/step - loss: 0.2128 - accuracy: 0.9079\n",
            "Epoch 6/15\n",
            "156/156 [==============================] - 1s 7ms/step - loss: 0.1925 - accuracy: 0.9193\n",
            "Epoch 7/15\n",
            "156/156 [==============================] - 1s 7ms/step - loss: 0.1761 - accuracy: 0.9283\n",
            "Epoch 8/15\n",
            "156/156 [==============================] - 2s 12ms/step - loss: 0.1568 - accuracy: 0.9369\n",
            "Epoch 9/15\n",
            "156/156 [==============================] - 2s 11ms/step - loss: 0.1532 - accuracy: 0.9402\n",
            "Epoch 10/15\n",
            "156/156 [==============================] - 2s 11ms/step - loss: 0.1347 - accuracy: 0.9467\n",
            "Epoch 11/15\n",
            "156/156 [==============================] - 2s 12ms/step - loss: 0.1258 - accuracy: 0.9508\n",
            "Epoch 12/15\n",
            "156/156 [==============================] - 1s 9ms/step - loss: 0.1244 - accuracy: 0.9512\n",
            "Epoch 13/15\n",
            "156/156 [==============================] - 1s 7ms/step - loss: 0.1166 - accuracy: 0.9553\n",
            "Epoch 14/15\n",
            "156/156 [==============================] - 1s 7ms/step - loss: 0.1073 - accuracy: 0.9582\n",
            "Epoch 15/15\n",
            "156/156 [==============================] - 1s 7ms/step - loss: 0.1074 - accuracy: 0.9571\n",
            "39/39 [==============================] - 0s 3ms/step\n",
            "Epoch 1/15\n"
          ]
        },
        {
          "output_type": "stream",
          "name": "stderr",
          "text": [
            "/usr/local/lib/python3.10/dist-packages/scikeras/wrappers.py:915: UserWarning: ``build_fn`` will be renamed to ``model`` in a future release, at which point use of ``build_fn`` will raise an Error instead.\n",
            "  X, y = self._initialize(X, y)\n"
          ]
        },
        {
          "output_type": "stream",
          "name": "stdout",
          "text": [
            "156/156 [==============================] - 2s 7ms/step - loss: 0.5708 - accuracy: 0.6830\n",
            "Epoch 2/15\n",
            "156/156 [==============================] - 1s 7ms/step - loss: 0.3925 - accuracy: 0.8045\n",
            "Epoch 3/15\n",
            "156/156 [==============================] - 1s 7ms/step - loss: 0.3005 - accuracy: 0.8599\n",
            "Epoch 4/15\n",
            "156/156 [==============================] - 2s 10ms/step - loss: 0.2386 - accuracy: 0.8957\n",
            "Epoch 5/15\n",
            "156/156 [==============================] - 2s 12ms/step - loss: 0.2027 - accuracy: 0.9130\n",
            "Epoch 6/15\n",
            "156/156 [==============================] - 2s 12ms/step - loss: 0.1773 - accuracy: 0.9263\n",
            "Epoch 7/15\n",
            "156/156 [==============================] - 2s 12ms/step - loss: 0.1718 - accuracy: 0.9300\n",
            "Epoch 8/15\n",
            "156/156 [==============================] - 2s 10ms/step - loss: 0.1493 - accuracy: 0.9394\n",
            "Epoch 9/15\n",
            "156/156 [==============================] - 1s 9ms/step - loss: 0.1421 - accuracy: 0.9426\n",
            "Epoch 10/15\n",
            "156/156 [==============================] - 2s 13ms/step - loss: 0.1254 - accuracy: 0.9503\n",
            "Epoch 11/15\n",
            "156/156 [==============================] - 2s 12ms/step - loss: 0.1202 - accuracy: 0.9529\n",
            "Epoch 12/15\n",
            "156/156 [==============================] - 2s 12ms/step - loss: 0.1230 - accuracy: 0.9513\n",
            "Epoch 13/15\n",
            "156/156 [==============================] - 2s 12ms/step - loss: 0.1098 - accuracy: 0.9561\n",
            "Epoch 14/15\n",
            "156/156 [==============================] - 3s 18ms/step - loss: 0.1010 - accuracy: 0.9599\n",
            "Epoch 15/15\n",
            "156/156 [==============================] - 3s 18ms/step - loss: 0.1084 - accuracy: 0.9567\n",
            "39/39 [==============================] - 0s 5ms/step\n"
          ]
        },
        {
          "output_type": "stream",
          "name": "stderr",
          "text": [
            "/usr/local/lib/python3.10/dist-packages/scikeras/wrappers.py:915: UserWarning: ``build_fn`` will be renamed to ``model`` in a future release, at which point use of ``build_fn`` will raise an Error instead.\n",
            "  X, y = self._initialize(X, y)\n"
          ]
        },
        {
          "output_type": "stream",
          "name": "stdout",
          "text": [
            "Epoch 1/15\n",
            "195/195 [==============================] - 4s 10ms/step - loss: 0.5486 - accuracy: 0.6947\n",
            "Epoch 2/15\n",
            "195/195 [==============================] - 2s 9ms/step - loss: 0.3671 - accuracy: 0.8225\n",
            "Epoch 3/15\n",
            "195/195 [==============================] - 1s 7ms/step - loss: 0.2857 - accuracy: 0.8691\n",
            "Epoch 4/15\n",
            "195/195 [==============================] - 1s 7ms/step - loss: 0.2360 - accuracy: 0.8961\n",
            "Epoch 5/15\n",
            "195/195 [==============================] - 1s 7ms/step - loss: 0.2075 - accuracy: 0.9119\n",
            "Epoch 6/15\n",
            "195/195 [==============================] - 1s 7ms/step - loss: 0.1781 - accuracy: 0.9262\n",
            "Epoch 7/15\n",
            "195/195 [==============================] - 1s 7ms/step - loss: 0.1578 - accuracy: 0.9374\n",
            "Epoch 8/15\n",
            "195/195 [==============================] - 1s 7ms/step - loss: 0.1450 - accuracy: 0.9431\n",
            "Epoch 9/15\n",
            "195/195 [==============================] - 1s 7ms/step - loss: 0.1383 - accuracy: 0.9458\n",
            "Epoch 10/15\n",
            "195/195 [==============================] - 2s 11ms/step - loss: 0.1228 - accuracy: 0.9513\n",
            "Epoch 11/15\n",
            "195/195 [==============================] - 2s 10ms/step - loss: 0.1168 - accuracy: 0.9549\n",
            "Epoch 12/15\n",
            "195/195 [==============================] - 2s 10ms/step - loss: 0.1121 - accuracy: 0.9559\n",
            "Epoch 13/15\n",
            "195/195 [==============================] - 2s 9ms/step - loss: 0.1089 - accuracy: 0.9571\n",
            "Epoch 14/15\n",
            "195/195 [==============================] - 1s 7ms/step - loss: 0.1032 - accuracy: 0.9607\n",
            "Epoch 15/15\n",
            "195/195 [==============================] - 1s 7ms/step - loss: 0.0994 - accuracy: 0.9612\n",
            "49/49 [==============================] - 0s 3ms/step\n"
          ]
        },
        {
          "output_type": "stream",
          "name": "stderr",
          "text": [
            "/usr/local/lib/python3.10/dist-packages/scikeras/wrappers.py:915: UserWarning: ``build_fn`` will be renamed to ``model`` in a future release, at which point use of ``build_fn`` will raise an Error instead.\n",
            "  X, y = self._initialize(X, y)\n"
          ]
        },
        {
          "output_type": "stream",
          "name": "stdout",
          "text": [
            "Epoch 1/15\n",
            "195/195 [==============================] - 3s 7ms/step - loss: 0.5712 - accuracy: 0.6857\n",
            "Epoch 2/15\n",
            "195/195 [==============================] - 1s 7ms/step - loss: 0.4043 - accuracy: 0.7995\n",
            "Epoch 3/15\n",
            "195/195 [==============================] - 1s 7ms/step - loss: 0.2924 - accuracy: 0.8635\n",
            "Epoch 4/15\n",
            "195/195 [==============================] - 2s 9ms/step - loss: 0.2405 - accuracy: 0.8930\n",
            "Epoch 5/15\n",
            "195/195 [==============================] - 2s 11ms/step - loss: 0.2173 - accuracy: 0.9035\n",
            "Epoch 6/15\n",
            "195/195 [==============================] - 2s 11ms/step - loss: 0.1863 - accuracy: 0.9221\n",
            "Epoch 7/15\n",
            "195/195 [==============================] - 2s 11ms/step - loss: 0.1683 - accuracy: 0.9302\n",
            "Epoch 8/15\n",
            "195/195 [==============================] - 1s 7ms/step - loss: 0.1511 - accuracy: 0.9389\n",
            "Epoch 9/15\n",
            "195/195 [==============================] - 1s 7ms/step - loss: 0.1427 - accuracy: 0.9420\n",
            "Epoch 10/15\n",
            "195/195 [==============================] - 1s 7ms/step - loss: 0.1305 - accuracy: 0.9487\n",
            "Epoch 11/15\n",
            "195/195 [==============================] - 1s 7ms/step - loss: 0.1256 - accuracy: 0.9501\n",
            "Epoch 12/15\n",
            "195/195 [==============================] - 1s 7ms/step - loss: 0.1217 - accuracy: 0.9524\n",
            "Epoch 13/15\n",
            "195/195 [==============================] - 1s 7ms/step - loss: 0.1194 - accuracy: 0.9529\n",
            "Epoch 14/15\n",
            "195/195 [==============================] - 1s 7ms/step - loss: 0.1075 - accuracy: 0.9580\n",
            "Epoch 15/15\n",
            "195/195 [==============================] - 2s 9ms/step - loss: 0.1011 - accuracy: 0.9599\n",
            "49/49 [==============================] - 0s 5ms/step\n"
          ]
        },
        {
          "output_type": "stream",
          "name": "stderr",
          "text": [
            "/usr/local/lib/python3.10/dist-packages/scikeras/wrappers.py:915: UserWarning: ``build_fn`` will be renamed to ``model`` in a future release, at which point use of ``build_fn`` will raise an Error instead.\n",
            "  X, y = self._initialize(X, y)\n"
          ]
        },
        {
          "output_type": "stream",
          "name": "stdout",
          "text": [
            "Epoch 1/15\n",
            "195/195 [==============================] - 4s 11ms/step - loss: 0.5662 - accuracy: 0.6857\n",
            "Epoch 2/15\n",
            "195/195 [==============================] - 2s 9ms/step - loss: 0.4129 - accuracy: 0.7913\n",
            "Epoch 3/15\n",
            "195/195 [==============================] - 1s 7ms/step - loss: 0.3247 - accuracy: 0.8422\n",
            "Epoch 4/15\n",
            "195/195 [==============================] - 1s 7ms/step - loss: 0.2635 - accuracy: 0.8801\n",
            "Epoch 5/15\n",
            "195/195 [==============================] - 1s 7ms/step - loss: 0.2256 - accuracy: 0.9031\n",
            "Epoch 6/15\n",
            "195/195 [==============================] - 1s 7ms/step - loss: 0.1972 - accuracy: 0.9179\n",
            "Epoch 7/15\n",
            "195/195 [==============================] - 1s 7ms/step - loss: 0.1740 - accuracy: 0.9287\n",
            "Epoch 8/15\n",
            "195/195 [==============================] - 1s 7ms/step - loss: 0.1551 - accuracy: 0.9383\n",
            "Epoch 9/15\n",
            "195/195 [==============================] - 1s 7ms/step - loss: 0.1503 - accuracy: 0.9401\n",
            "Epoch 10/15\n",
            "195/195 [==============================] - 2s 10ms/step - loss: 0.1367 - accuracy: 0.9468\n",
            "Epoch 11/15\n",
            "195/195 [==============================] - 2s 10ms/step - loss: 0.1297 - accuracy: 0.9512\n",
            "Epoch 12/15\n",
            "195/195 [==============================] - 2s 10ms/step - loss: 0.1260 - accuracy: 0.9511\n",
            "Epoch 13/15\n",
            "195/195 [==============================] - 2s 10ms/step - loss: 0.1154 - accuracy: 0.9559\n",
            "Epoch 14/15\n",
            "195/195 [==============================] - 1s 7ms/step - loss: 0.1077 - accuracy: 0.9579\n",
            "Epoch 15/15\n",
            "195/195 [==============================] - 1s 7ms/step - loss: 0.1097 - accuracy: 0.9587\n",
            "49/49 [==============================] - 1s 9ms/step\n",
            "Epoch 1/15\n"
          ]
        },
        {
          "output_type": "stream",
          "name": "stderr",
          "text": [
            "/usr/local/lib/python3.10/dist-packages/scikeras/wrappers.py:915: UserWarning: ``build_fn`` will be renamed to ``model`` in a future release, at which point use of ``build_fn`` will raise an Error instead.\n",
            "  X, y = self._initialize(X, y)\n"
          ]
        },
        {
          "output_type": "stream",
          "name": "stdout",
          "text": [
            "195/195 [==============================] - 3s 7ms/step - loss: 0.5665 - accuracy: 0.6832\n",
            "Epoch 2/15\n",
            "195/195 [==============================] - 2s 8ms/step - loss: 0.3925 - accuracy: 0.8072\n",
            "Epoch 3/15\n",
            "195/195 [==============================] - 2s 10ms/step - loss: 0.2947 - accuracy: 0.8656\n",
            "Epoch 4/15\n",
            "195/195 [==============================] - 2s 10ms/step - loss: 0.2342 - accuracy: 0.8971\n",
            "Epoch 5/15\n",
            "195/195 [==============================] - 2s 10ms/step - loss: 0.1959 - accuracy: 0.9166\n",
            "Epoch 6/15\n",
            "195/195 [==============================] - 2s 8ms/step - loss: 0.1733 - accuracy: 0.9290\n",
            "Epoch 7/15\n",
            "195/195 [==============================] - 1s 7ms/step - loss: 0.1586 - accuracy: 0.9336\n",
            "Epoch 8/15\n",
            "195/195 [==============================] - 1s 7ms/step - loss: 0.1462 - accuracy: 0.9415\n",
            "Epoch 9/15\n",
            "195/195 [==============================] - 1s 7ms/step - loss: 0.1286 - accuracy: 0.9493\n",
            "Epoch 10/15\n",
            "195/195 [==============================] - 1s 7ms/step - loss: 0.1240 - accuracy: 0.9507\n",
            "Epoch 11/15\n",
            "195/195 [==============================] - 1s 7ms/step - loss: 0.1229 - accuracy: 0.9519\n",
            "Epoch 12/15\n",
            "195/195 [==============================] - 1s 7ms/step - loss: 0.1124 - accuracy: 0.9564\n",
            "Epoch 13/15\n",
            "195/195 [==============================] - 2s 8ms/step - loss: 0.1030 - accuracy: 0.9600\n",
            "Epoch 14/15\n",
            "195/195 [==============================] - 2s 10ms/step - loss: 0.1023 - accuracy: 0.9599\n",
            "Epoch 15/15\n",
            "195/195 [==============================] - 2s 11ms/step - loss: 0.0956 - accuracy: 0.9622\n",
            "49/49 [==============================] - 0s 3ms/step\n",
            "Epoch 1/15\n"
          ]
        },
        {
          "output_type": "stream",
          "name": "stderr",
          "text": [
            "/usr/local/lib/python3.10/dist-packages/scikeras/wrappers.py:915: UserWarning: ``build_fn`` will be renamed to ``model`` in a future release, at which point use of ``build_fn`` will raise an Error instead.\n",
            "  X, y = self._initialize(X, y)\n"
          ]
        },
        {
          "output_type": "stream",
          "name": "stdout",
          "text": [
            "195/195 [==============================] - 3s 7ms/step - loss: 0.5871 - accuracy: 0.6690\n",
            "Epoch 2/15\n",
            "195/195 [==============================] - 1s 7ms/step - loss: 0.4377 - accuracy: 0.7763\n",
            "Epoch 3/15\n",
            "195/195 [==============================] - 1s 7ms/step - loss: 0.3287 - accuracy: 0.8433\n",
            "Epoch 4/15\n",
            "195/195 [==============================] - 1s 7ms/step - loss: 0.2658 - accuracy: 0.8792\n",
            "Epoch 5/15\n",
            "195/195 [==============================] - 1s 7ms/step - loss: 0.2381 - accuracy: 0.8939\n",
            "Epoch 6/15\n",
            "195/195 [==============================] - 2s 8ms/step - loss: 0.2092 - accuracy: 0.9087\n",
            "Epoch 7/15\n",
            "195/195 [==============================] - 2s 10ms/step - loss: 0.1903 - accuracy: 0.9190\n",
            "Epoch 8/15\n",
            "195/195 [==============================] - 2s 11ms/step - loss: 0.1676 - accuracy: 0.9315\n",
            "Epoch 9/15\n",
            "195/195 [==============================] - 2s 10ms/step - loss: 0.1642 - accuracy: 0.9334\n",
            "Epoch 10/15\n",
            "195/195 [==============================] - 2s 9ms/step - loss: 0.1513 - accuracy: 0.9382\n",
            "Epoch 11/15\n",
            "195/195 [==============================] - 1s 7ms/step - loss: 0.1312 - accuracy: 0.9469\n",
            "Epoch 12/15\n",
            "195/195 [==============================] - 1s 7ms/step - loss: 0.1252 - accuracy: 0.9499\n",
            "Epoch 13/15\n",
            "195/195 [==============================] - 1s 7ms/step - loss: 0.1221 - accuracy: 0.9513\n",
            "Epoch 14/15\n",
            "195/195 [==============================] - 1s 7ms/step - loss: 0.1169 - accuracy: 0.9543\n",
            "Epoch 15/15\n",
            "195/195 [==============================] - 1s 7ms/step - loss: 0.1136 - accuracy: 0.9544\n",
            "49/49 [==============================] - 0s 3ms/step\n",
            "Epoch 1/20\n"
          ]
        },
        {
          "output_type": "stream",
          "name": "stderr",
          "text": [
            "/usr/local/lib/python3.10/dist-packages/scikeras/wrappers.py:915: UserWarning: ``build_fn`` will be renamed to ``model`` in a future release, at which point use of ``build_fn`` will raise an Error instead.\n",
            "  X, y = self._initialize(X, y)\n"
          ]
        },
        {
          "output_type": "stream",
          "name": "stdout",
          "text": [
            "195/195 [==============================] - 3s 9ms/step - loss: 0.5612 - accuracy: 0.6911\n",
            "Epoch 2/20\n",
            "195/195 [==============================] - 2s 11ms/step - loss: 0.3854 - accuracy: 0.8097\n",
            "Epoch 3/20\n",
            "195/195 [==============================] - 2s 10ms/step - loss: 0.2838 - accuracy: 0.8706\n",
            "Epoch 4/20\n",
            "195/195 [==============================] - 2s 10ms/step - loss: 0.2304 - accuracy: 0.8998\n",
            "Epoch 5/20\n",
            "195/195 [==============================] - 2s 8ms/step - loss: 0.2000 - accuracy: 0.9148\n",
            "Epoch 6/20\n",
            "195/195 [==============================] - 1s 7ms/step - loss: 0.1767 - accuracy: 0.9265\n",
            "Epoch 7/20\n",
            "195/195 [==============================] - 1s 7ms/step - loss: 0.1507 - accuracy: 0.9385\n",
            "Epoch 8/20\n",
            "195/195 [==============================] - 1s 7ms/step - loss: 0.1436 - accuracy: 0.9423\n",
            "Epoch 9/20\n",
            "195/195 [==============================] - 1s 7ms/step - loss: 0.1327 - accuracy: 0.9468\n",
            "Epoch 10/20\n",
            "195/195 [==============================] - 1s 7ms/step - loss: 0.1253 - accuracy: 0.9494\n",
            "Epoch 11/20\n",
            "195/195 [==============================] - 1s 7ms/step - loss: 0.1164 - accuracy: 0.9542\n",
            "Epoch 12/20\n",
            "195/195 [==============================] - 2s 9ms/step - loss: 0.1063 - accuracy: 0.9575\n",
            "Epoch 13/20\n",
            "195/195 [==============================] - 2s 10ms/step - loss: 0.1011 - accuracy: 0.9607\n",
            "Epoch 14/20\n",
            "195/195 [==============================] - 2s 10ms/step - loss: 0.1047 - accuracy: 0.9599\n",
            "Epoch 15/20\n",
            "195/195 [==============================] - 2s 11ms/step - loss: 0.0991 - accuracy: 0.9616\n",
            "Epoch 16/20\n",
            "195/195 [==============================] - 2s 8ms/step - loss: 0.0900 - accuracy: 0.9649\n",
            "Epoch 17/20\n",
            "195/195 [==============================] - 1s 7ms/step - loss: 0.0907 - accuracy: 0.9639\n",
            "Epoch 18/20\n",
            "195/195 [==============================] - 1s 7ms/step - loss: 0.0780 - accuracy: 0.9702\n",
            "Epoch 19/20\n",
            "195/195 [==============================] - 1s 7ms/step - loss: 0.0803 - accuracy: 0.9684\n",
            "Epoch 20/20\n",
            "195/195 [==============================] - 1s 7ms/step - loss: 0.0855 - accuracy: 0.9665\n",
            "49/49 [==============================] - 0s 3ms/step\n",
            "Epoch 1/20\n"
          ]
        },
        {
          "output_type": "stream",
          "name": "stderr",
          "text": [
            "/usr/local/lib/python3.10/dist-packages/scikeras/wrappers.py:915: UserWarning: ``build_fn`` will be renamed to ``model`` in a future release, at which point use of ``build_fn`` will raise an Error instead.\n",
            "  X, y = self._initialize(X, y)\n"
          ]
        },
        {
          "output_type": "stream",
          "name": "stdout",
          "text": [
            "195/195 [==============================] - 3s 7ms/step - loss: 0.5406 - accuracy: 0.7043\n",
            "Epoch 2/20\n",
            "195/195 [==============================] - 1s 7ms/step - loss: 0.3606 - accuracy: 0.8247\n",
            "Epoch 3/20\n",
            "195/195 [==============================] - 1s 7ms/step - loss: 0.2740 - accuracy: 0.8750\n",
            "Epoch 4/20\n",
            "195/195 [==============================] - 1s 7ms/step - loss: 0.2261 - accuracy: 0.8997\n",
            "Epoch 5/20\n",
            "195/195 [==============================] - 1s 7ms/step - loss: 0.1948 - accuracy: 0.9178\n",
            "Epoch 6/20\n",
            "195/195 [==============================] - 2s 9ms/step - loss: 0.1698 - accuracy: 0.9297\n",
            "Epoch 7/20\n",
            "195/195 [==============================] - 2s 11ms/step - loss: 0.1600 - accuracy: 0.9339\n",
            "Epoch 8/20\n",
            "195/195 [==============================] - 2s 11ms/step - loss: 0.1465 - accuracy: 0.9404\n",
            "Epoch 9/20\n",
            "195/195 [==============================] - 2s 11ms/step - loss: 0.1351 - accuracy: 0.9458\n",
            "Epoch 10/20\n",
            "195/195 [==============================] - 1s 7ms/step - loss: 0.1312 - accuracy: 0.9471\n",
            "Epoch 11/20\n",
            "195/195 [==============================] - 1s 7ms/step - loss: 0.1178 - accuracy: 0.9538\n",
            "Epoch 12/20\n",
            "195/195 [==============================] - 1s 7ms/step - loss: 0.1140 - accuracy: 0.9551\n",
            "Epoch 13/20\n",
            "195/195 [==============================] - 1s 7ms/step - loss: 0.1050 - accuracy: 0.9600\n",
            "Epoch 14/20\n",
            "195/195 [==============================] - 1s 7ms/step - loss: 0.1051 - accuracy: 0.9583\n",
            "Epoch 15/20\n",
            "195/195 [==============================] - 1s 7ms/step - loss: 0.0995 - accuracy: 0.9607\n",
            "Epoch 16/20\n",
            "195/195 [==============================] - 1s 7ms/step - loss: 0.0950 - accuracy: 0.9634\n",
            "Epoch 17/20\n",
            "195/195 [==============================] - 2s 10ms/step - loss: 0.0909 - accuracy: 0.9660\n",
            "Epoch 18/20\n",
            "195/195 [==============================] - 2s 11ms/step - loss: 0.0914 - accuracy: 0.9636\n",
            "Epoch 19/20\n",
            "195/195 [==============================] - 2s 11ms/step - loss: 0.0835 - accuracy: 0.9672\n",
            "Epoch 20/20\n",
            "195/195 [==============================] - 2s 10ms/step - loss: 0.0812 - accuracy: 0.9689\n",
            "49/49 [==============================] - 0s 3ms/step\n",
            "Epoch 1/20\n"
          ]
        },
        {
          "output_type": "stream",
          "name": "stderr",
          "text": [
            "/usr/local/lib/python3.10/dist-packages/scikeras/wrappers.py:915: UserWarning: ``build_fn`` will be renamed to ``model`` in a future release, at which point use of ``build_fn`` will raise an Error instead.\n",
            "  X, y = self._initialize(X, y)\n"
          ]
        },
        {
          "output_type": "stream",
          "name": "stdout",
          "text": [
            "195/195 [==============================] - 3s 10ms/step - loss: 0.5443 - accuracy: 0.7066\n",
            "Epoch 2/20\n",
            "195/195 [==============================] - 2s 11ms/step - loss: 0.3831 - accuracy: 0.8150\n",
            "Epoch 3/20\n",
            "195/195 [==============================] - 2s 11ms/step - loss: 0.2799 - accuracy: 0.8737\n",
            "Epoch 4/20\n",
            "195/195 [==============================] - 2s 10ms/step - loss: 0.2300 - accuracy: 0.8998\n",
            "Epoch 5/20\n",
            "195/195 [==============================] - 1s 7ms/step - loss: 0.2014 - accuracy: 0.9148\n",
            "Epoch 6/20\n",
            "195/195 [==============================] - 1s 7ms/step - loss: 0.1709 - accuracy: 0.9298\n",
            "Epoch 7/20\n",
            "195/195 [==============================] - 1s 7ms/step - loss: 0.1561 - accuracy: 0.9368\n",
            "Epoch 8/20\n",
            "195/195 [==============================] - 1s 7ms/step - loss: 0.1501 - accuracy: 0.9424\n",
            "Epoch 9/20\n",
            "195/195 [==============================] - 1s 7ms/step - loss: 0.1346 - accuracy: 0.9488\n",
            "Epoch 10/20\n",
            "195/195 [==============================] - 1s 7ms/step - loss: 0.1224 - accuracy: 0.9533\n",
            "Epoch 11/20\n",
            "195/195 [==============================] - 1s 7ms/step - loss: 0.1189 - accuracy: 0.9548\n",
            "Epoch 12/20\n",
            "195/195 [==============================] - 2s 10ms/step - loss: 0.1071 - accuracy: 0.9595\n",
            "Epoch 13/20\n",
            "195/195 [==============================] - 2s 11ms/step - loss: 0.1046 - accuracy: 0.9596\n",
            "Epoch 14/20\n",
            "195/195 [==============================] - 2s 11ms/step - loss: 0.1027 - accuracy: 0.9614\n",
            "Epoch 15/20\n",
            "195/195 [==============================] - 2s 10ms/step - loss: 0.0927 - accuracy: 0.9645\n",
            "Epoch 16/20\n",
            "195/195 [==============================] - 1s 7ms/step - loss: 0.0914 - accuracy: 0.9654\n",
            "Epoch 17/20\n",
            "195/195 [==============================] - 1s 7ms/step - loss: 0.0911 - accuracy: 0.9655\n",
            "Epoch 18/20\n",
            "195/195 [==============================] - 1s 7ms/step - loss: 0.0816 - accuracy: 0.9686\n",
            "Epoch 19/20\n",
            "195/195 [==============================] - 1s 7ms/step - loss: 0.0829 - accuracy: 0.9688\n",
            "Epoch 20/20\n",
            "195/195 [==============================] - 1s 7ms/step - loss: 0.0809 - accuracy: 0.9686\n",
            "49/49 [==============================] - 0s 3ms/step\n",
            "Epoch 1/20\n"
          ]
        },
        {
          "output_type": "stream",
          "name": "stderr",
          "text": [
            "/usr/local/lib/python3.10/dist-packages/scikeras/wrappers.py:915: UserWarning: ``build_fn`` will be renamed to ``model`` in a future release, at which point use of ``build_fn`` will raise an Error instead.\n",
            "  X, y = self._initialize(X, y)\n"
          ]
        },
        {
          "output_type": "stream",
          "name": "stdout",
          "text": [
            "195/195 [==============================] - 3s 7ms/step - loss: 0.5362 - accuracy: 0.7105\n",
            "Epoch 2/20\n",
            "195/195 [==============================] - 1s 7ms/step - loss: 0.3512 - accuracy: 0.8293\n",
            "Epoch 3/20\n",
            "195/195 [==============================] - 1s 7ms/step - loss: 0.2643 - accuracy: 0.8804\n",
            "Epoch 4/20\n",
            "195/195 [==============================] - 1s 7ms/step - loss: 0.2230 - accuracy: 0.9032\n",
            "Epoch 5/20\n",
            "195/195 [==============================] - 1s 7ms/step - loss: 0.1863 - accuracy: 0.9217\n",
            "Epoch 6/20\n",
            "195/195 [==============================] - 2s 10ms/step - loss: 0.1687 - accuracy: 0.9317\n",
            "Epoch 7/20\n",
            "195/195 [==============================] - 2s 11ms/step - loss: 0.1539 - accuracy: 0.9375\n",
            "Epoch 8/20\n",
            "195/195 [==============================] - 2s 11ms/step - loss: 0.1499 - accuracy: 0.9378\n",
            "Epoch 9/20\n",
            "195/195 [==============================] - 2s 10ms/step - loss: 0.1308 - accuracy: 0.9490\n",
            "Epoch 10/20\n",
            "195/195 [==============================] - 1s 7ms/step - loss: 0.1203 - accuracy: 0.9531\n",
            "Epoch 11/20\n",
            "195/195 [==============================] - 1s 7ms/step - loss: 0.1169 - accuracy: 0.9543\n",
            "Epoch 12/20\n",
            "195/195 [==============================] - 1s 7ms/step - loss: 0.1151 - accuracy: 0.9550\n",
            "Epoch 13/20\n",
            "195/195 [==============================] - 1s 7ms/step - loss: 0.1070 - accuracy: 0.9588\n",
            "Epoch 14/20\n",
            "195/195 [==============================] - 1s 7ms/step - loss: 0.0997 - accuracy: 0.9606\n",
            "Epoch 15/20\n",
            "195/195 [==============================] - 1s 7ms/step - loss: 0.0980 - accuracy: 0.9614\n",
            "Epoch 16/20\n",
            "195/195 [==============================] - 1s 7ms/step - loss: 0.0931 - accuracy: 0.9642\n",
            "Epoch 17/20\n",
            "195/195 [==============================] - 2s 11ms/step - loss: 0.0910 - accuracy: 0.9643\n",
            "Epoch 18/20\n",
            "195/195 [==============================] - 2s 10ms/step - loss: 0.0902 - accuracy: 0.9644\n",
            "Epoch 19/20\n",
            "195/195 [==============================] - 2s 11ms/step - loss: 0.0857 - accuracy: 0.9675\n",
            "Epoch 20/20\n",
            "195/195 [==============================] - 2s 9ms/step - loss: 0.0779 - accuracy: 0.9694\n",
            "49/49 [==============================] - 0s 3ms/step\n",
            "Epoch 1/20\n"
          ]
        },
        {
          "output_type": "stream",
          "name": "stderr",
          "text": [
            "/usr/local/lib/python3.10/dist-packages/scikeras/wrappers.py:915: UserWarning: ``build_fn`` will be renamed to ``model`` in a future release, at which point use of ``build_fn`` will raise an Error instead.\n",
            "  X, y = self._initialize(X, y)\n"
          ]
        },
        {
          "output_type": "stream",
          "name": "stdout",
          "text": [
            "195/195 [==============================] - 3s 7ms/step - loss: 0.5664 - accuracy: 0.6880\n",
            "Epoch 2/20\n",
            "195/195 [==============================] - 1s 7ms/step - loss: 0.3993 - accuracy: 0.8016\n",
            "Epoch 3/20\n",
            "195/195 [==============================] - 1s 7ms/step - loss: 0.2983 - accuracy: 0.8611\n",
            "Epoch 4/20\n",
            "195/195 [==============================] - 1s 7ms/step - loss: 0.2438 - accuracy: 0.8911\n",
            "Epoch 5/20\n",
            "195/195 [==============================] - 1s 7ms/step - loss: 0.2152 - accuracy: 0.9070\n",
            "Epoch 6/20\n",
            "195/195 [==============================] - 2s 8ms/step - loss: 0.1924 - accuracy: 0.9184\n",
            "Epoch 7/20\n",
            "195/195 [==============================] - 2s 11ms/step - loss: 0.1734 - accuracy: 0.9294\n",
            "Epoch 8/20\n",
            "195/195 [==============================] - 2s 11ms/step - loss: 0.1602 - accuracy: 0.9354\n",
            "Epoch 9/20\n",
            "195/195 [==============================] - 2s 11ms/step - loss: 0.1511 - accuracy: 0.9391\n",
            "Epoch 10/20\n",
            "195/195 [==============================] - 2s 8ms/step - loss: 0.1400 - accuracy: 0.9446\n",
            "Epoch 11/20\n",
            "195/195 [==============================] - 1s 7ms/step - loss: 0.1333 - accuracy: 0.9480\n",
            "Epoch 12/20\n",
            "195/195 [==============================] - 1s 7ms/step - loss: 0.1249 - accuracy: 0.9515\n",
            "Epoch 13/20\n",
            "195/195 [==============================] - 1s 7ms/step - loss: 0.1136 - accuracy: 0.9561\n",
            "Epoch 14/20\n",
            "195/195 [==============================] - 1s 7ms/step - loss: 0.1060 - accuracy: 0.9589\n",
            "Epoch 15/20\n",
            "195/195 [==============================] - 1s 7ms/step - loss: 0.1086 - accuracy: 0.9571\n",
            "Epoch 16/20\n",
            "195/195 [==============================] - 1s 7ms/step - loss: 0.1067 - accuracy: 0.9568\n",
            "Epoch 17/20\n",
            "195/195 [==============================] - 2s 10ms/step - loss: 0.1016 - accuracy: 0.9597\n",
            "Epoch 18/20\n",
            "195/195 [==============================] - 2s 11ms/step - loss: 0.0935 - accuracy: 0.9643\n",
            "Epoch 19/20\n",
            "195/195 [==============================] - 2s 11ms/step - loss: 0.0901 - accuracy: 0.9637\n",
            "Epoch 20/20\n",
            "195/195 [==============================] - 2s 11ms/step - loss: 0.0881 - accuracy: 0.9656\n",
            "49/49 [==============================] - 0s 3ms/step\n",
            "Epoch 1/25\n"
          ]
        },
        {
          "output_type": "stream",
          "name": "stderr",
          "text": [
            "/usr/local/lib/python3.10/dist-packages/scikeras/wrappers.py:915: UserWarning: ``build_fn`` will be renamed to ``model`` in a future release, at which point use of ``build_fn`` will raise an Error instead.\n",
            "  X, y = self._initialize(X, y)\n"
          ]
        },
        {
          "output_type": "stream",
          "name": "stdout",
          "text": [
            "195/195 [==============================] - 3s 7ms/step - loss: 0.5555 - accuracy: 0.6938\n",
            "Epoch 2/25\n",
            "195/195 [==============================] - 1s 7ms/step - loss: 0.3807 - accuracy: 0.8147\n",
            "Epoch 3/25\n",
            "195/195 [==============================] - 1s 7ms/step - loss: 0.2709 - accuracy: 0.8788\n",
            "Epoch 4/25\n",
            "195/195 [==============================] - 1s 7ms/step - loss: 0.2429 - accuracy: 0.8915\n",
            "Epoch 5/25\n",
            "195/195 [==============================] - 1s 7ms/step - loss: 0.1973 - accuracy: 0.9170\n",
            "Epoch 6/25\n",
            "195/195 [==============================] - 1s 7ms/step - loss: 0.1784 - accuracy: 0.9246\n",
            "Epoch 7/25\n",
            "195/195 [==============================] - 2s 11ms/step - loss: 0.1656 - accuracy: 0.9324\n",
            "Epoch 8/25\n",
            "195/195 [==============================] - 2s 11ms/step - loss: 0.1460 - accuracy: 0.9411\n",
            "Epoch 9/25\n",
            "195/195 [==============================] - 2s 10ms/step - loss: 0.1420 - accuracy: 0.9424\n",
            "Epoch 10/25\n",
            "195/195 [==============================] - 2s 10ms/step - loss: 0.1323 - accuracy: 0.9469\n",
            "Epoch 11/25\n",
            "195/195 [==============================] - 1s 7ms/step - loss: 0.1241 - accuracy: 0.9506\n",
            "Epoch 12/25\n",
            "195/195 [==============================] - 1s 7ms/step - loss: 0.1140 - accuracy: 0.9547\n",
            "Epoch 13/25\n",
            "195/195 [==============================] - 1s 7ms/step - loss: 0.1028 - accuracy: 0.9597\n",
            "Epoch 14/25\n",
            "195/195 [==============================] - 1s 7ms/step - loss: 0.1037 - accuracy: 0.9598\n",
            "Epoch 15/25\n",
            "195/195 [==============================] - 1s 7ms/step - loss: 0.0987 - accuracy: 0.9615\n",
            "Epoch 16/25\n",
            "195/195 [==============================] - 1s 7ms/step - loss: 0.0916 - accuracy: 0.9640\n",
            "Epoch 17/25\n",
            "195/195 [==============================] - 1s 8ms/step - loss: 0.0960 - accuracy: 0.9626\n",
            "Epoch 18/25\n",
            "195/195 [==============================] - 2s 11ms/step - loss: 0.0854 - accuracy: 0.9667\n",
            "Epoch 19/25\n",
            "195/195 [==============================] - 2s 11ms/step - loss: 0.0829 - accuracy: 0.9678\n",
            "Epoch 20/25\n",
            "195/195 [==============================] - 2s 11ms/step - loss: 0.0802 - accuracy: 0.9685\n",
            "Epoch 21/25\n",
            "195/195 [==============================] - 2s 9ms/step - loss: 0.0752 - accuracy: 0.9706\n",
            "Epoch 22/25\n",
            "195/195 [==============================] - 1s 7ms/step - loss: 0.0778 - accuracy: 0.9694\n",
            "Epoch 23/25\n",
            "195/195 [==============================] - 1s 7ms/step - loss: 0.0712 - accuracy: 0.9722\n",
            "Epoch 24/25\n",
            "195/195 [==============================] - 1s 7ms/step - loss: 0.0733 - accuracy: 0.9709\n",
            "Epoch 25/25\n",
            "195/195 [==============================] - 1s 7ms/step - loss: 0.0733 - accuracy: 0.9714\n",
            "49/49 [==============================] - 0s 3ms/step\n",
            "Epoch 1/25\n"
          ]
        },
        {
          "output_type": "stream",
          "name": "stderr",
          "text": [
            "/usr/local/lib/python3.10/dist-packages/scikeras/wrappers.py:915: UserWarning: ``build_fn`` will be renamed to ``model`` in a future release, at which point use of ``build_fn`` will raise an Error instead.\n",
            "  X, y = self._initialize(X, y)\n"
          ]
        },
        {
          "output_type": "stream",
          "name": "stdout",
          "text": [
            "195/195 [==============================] - 3s 7ms/step - loss: 0.5653 - accuracy: 0.6902\n",
            "Epoch 2/25\n",
            "195/195 [==============================] - 2s 9ms/step - loss: 0.4005 - accuracy: 0.8030\n",
            "Epoch 3/25\n",
            "195/195 [==============================] - 2s 11ms/step - loss: 0.3088 - accuracy: 0.8542\n",
            "Epoch 4/25\n",
            "195/195 [==============================] - 2s 11ms/step - loss: 0.2569 - accuracy: 0.8836\n",
            "Epoch 5/25\n",
            "195/195 [==============================] - 2s 11ms/step - loss: 0.2140 - accuracy: 0.9065\n",
            "Epoch 6/25\n",
            "195/195 [==============================] - 1s 7ms/step - loss: 0.1987 - accuracy: 0.9154\n",
            "Epoch 7/25\n",
            "195/195 [==============================] - 1s 7ms/step - loss: 0.1798 - accuracy: 0.9252\n",
            "Epoch 8/25\n",
            "195/195 [==============================] - 1s 7ms/step - loss: 0.1642 - accuracy: 0.9337\n",
            "Epoch 9/25\n",
            "195/195 [==============================] - 1s 7ms/step - loss: 0.1544 - accuracy: 0.9379\n",
            "Epoch 10/25\n",
            "195/195 [==============================] - 1s 7ms/step - loss: 0.1400 - accuracy: 0.9437\n",
            "Epoch 11/25\n",
            "195/195 [==============================] - 1s 7ms/step - loss: 0.1310 - accuracy: 0.9488\n",
            "Epoch 12/25\n",
            "195/195 [==============================] - 1s 7ms/step - loss: 0.1220 - accuracy: 0.9518\n",
            "Epoch 13/25\n",
            "195/195 [==============================] - 2s 9ms/step - loss: 0.1172 - accuracy: 0.9546\n",
            "Epoch 14/25\n",
            "195/195 [==============================] - 2s 11ms/step - loss: 0.1154 - accuracy: 0.9550\n",
            "Epoch 15/25\n",
            "195/195 [==============================] - 2s 10ms/step - loss: 0.1075 - accuracy: 0.9571\n",
            "Epoch 16/25\n",
            "195/195 [==============================] - 2s 10ms/step - loss: 0.0997 - accuracy: 0.9608\n",
            "Epoch 17/25\n",
            "195/195 [==============================] - 1s 7ms/step - loss: 0.0993 - accuracy: 0.9601\n",
            "Epoch 18/25\n",
            "195/195 [==============================] - 1s 7ms/step - loss: 0.0940 - accuracy: 0.9636\n",
            "Epoch 19/25\n",
            "195/195 [==============================] - 1s 7ms/step - loss: 0.0910 - accuracy: 0.9641\n",
            "Epoch 20/25\n",
            "195/195 [==============================] - 1s 7ms/step - loss: 0.0916 - accuracy: 0.9643\n",
            "Epoch 21/25\n",
            "195/195 [==============================] - 1s 7ms/step - loss: 0.0853 - accuracy: 0.9658\n",
            "Epoch 22/25\n",
            "195/195 [==============================] - 1s 7ms/step - loss: 0.0852 - accuracy: 0.9671\n",
            "Epoch 23/25\n",
            "195/195 [==============================] - 1s 7ms/step - loss: 0.0794 - accuracy: 0.9687\n",
            "Epoch 24/25\n",
            "195/195 [==============================] - 2s 9ms/step - loss: 0.0859 - accuracy: 0.9666\n",
            "Epoch 25/25\n",
            "195/195 [==============================] - 2s 10ms/step - loss: 0.0801 - accuracy: 0.9694\n",
            "49/49 [==============================] - 0s 5ms/step\n"
          ]
        },
        {
          "output_type": "stream",
          "name": "stderr",
          "text": [
            "/usr/local/lib/python3.10/dist-packages/scikeras/wrappers.py:915: UserWarning: ``build_fn`` will be renamed to ``model`` in a future release, at which point use of ``build_fn`` will raise an Error instead.\n",
            "  X, y = self._initialize(X, y)\n"
          ]
        },
        {
          "output_type": "stream",
          "name": "stdout",
          "text": [
            "Epoch 1/25\n",
            "195/195 [==============================] - 4s 8ms/step - loss: 0.5876 - accuracy: 0.6617\n",
            "Epoch 2/25\n",
            "195/195 [==============================] - 1s 7ms/step - loss: 0.4187 - accuracy: 0.7879\n",
            "Epoch 3/25\n",
            "195/195 [==============================] - 1s 7ms/step - loss: 0.3071 - accuracy: 0.8538\n",
            "Epoch 4/25\n",
            "195/195 [==============================] - 1s 7ms/step - loss: 0.2435 - accuracy: 0.8882\n",
            "Epoch 5/25\n",
            "195/195 [==============================] - 1s 7ms/step - loss: 0.2120 - accuracy: 0.9076\n",
            "Epoch 6/25\n",
            "195/195 [==============================] - 1s 7ms/step - loss: 0.1885 - accuracy: 0.9200\n",
            "Epoch 7/25\n",
            "195/195 [==============================] - 1s 7ms/step - loss: 0.1704 - accuracy: 0.9293\n",
            "Epoch 8/25\n",
            "195/195 [==============================] - 2s 10ms/step - loss: 0.1504 - accuracy: 0.9382\n",
            "Epoch 9/25\n",
            "195/195 [==============================] - 2s 11ms/step - loss: 0.1427 - accuracy: 0.9423\n",
            "Epoch 10/25\n",
            "195/195 [==============================] - 2s 11ms/step - loss: 0.1287 - accuracy: 0.9488\n",
            "Epoch 11/25\n",
            "195/195 [==============================] - 2s 11ms/step - loss: 0.1293 - accuracy: 0.9484\n",
            "Epoch 12/25\n",
            "195/195 [==============================] - 1s 7ms/step - loss: 0.1159 - accuracy: 0.9542\n",
            "Epoch 13/25\n",
            "195/195 [==============================] - 1s 7ms/step - loss: 0.1151 - accuracy: 0.9546\n",
            "Epoch 14/25\n",
            "195/195 [==============================] - 1s 7ms/step - loss: 0.1129 - accuracy: 0.9558\n",
            "Epoch 15/25\n",
            "195/195 [==============================] - 1s 7ms/step - loss: 0.1021 - accuracy: 0.9591\n",
            "Epoch 16/25\n",
            "195/195 [==============================] - 1s 8ms/step - loss: 0.0938 - accuracy: 0.9634\n",
            "Epoch 17/25\n",
            "195/195 [==============================] - 1s 7ms/step - loss: 0.0944 - accuracy: 0.9634\n",
            "Epoch 18/25\n",
            "195/195 [==============================] - 1s 7ms/step - loss: 0.0994 - accuracy: 0.9612\n",
            "Epoch 19/25\n",
            "195/195 [==============================] - 2s 11ms/step - loss: 0.0859 - accuracy: 0.9668\n",
            "Epoch 20/25\n",
            "195/195 [==============================] - 2s 11ms/step - loss: 0.0840 - accuracy: 0.9672\n",
            "Epoch 21/25\n",
            "195/195 [==============================] - 2s 11ms/step - loss: 0.0839 - accuracy: 0.9669\n",
            "Epoch 22/25\n",
            "195/195 [==============================] - 2s 9ms/step - loss: 0.0818 - accuracy: 0.9686\n",
            "Epoch 23/25\n",
            "195/195 [==============================] - 1s 7ms/step - loss: 0.0788 - accuracy: 0.9692\n",
            "Epoch 24/25\n",
            "195/195 [==============================] - 1s 7ms/step - loss: 0.0765 - accuracy: 0.9700\n",
            "Epoch 25/25\n",
            "195/195 [==============================] - 1s 7ms/step - loss: 0.0758 - accuracy: 0.9702\n",
            "49/49 [==============================] - 0s 4ms/step\n",
            "Epoch 1/25\n"
          ]
        },
        {
          "output_type": "stream",
          "name": "stderr",
          "text": [
            "/usr/local/lib/python3.10/dist-packages/scikeras/wrappers.py:915: UserWarning: ``build_fn`` will be renamed to ``model`` in a future release, at which point use of ``build_fn`` will raise an Error instead.\n",
            "  X, y = self._initialize(X, y)\n"
          ]
        },
        {
          "output_type": "stream",
          "name": "stdout",
          "text": [
            "195/195 [==============================] - 3s 7ms/step - loss: 0.5824 - accuracy: 0.6724\n",
            "Epoch 2/25\n",
            "195/195 [==============================] - 1s 7ms/step - loss: 0.4212 - accuracy: 0.7916\n",
            "Epoch 3/25\n",
            "195/195 [==============================] - 2s 10ms/step - loss: 0.3096 - accuracy: 0.8584\n",
            "Epoch 4/25\n",
            "195/195 [==============================] - 2s 11ms/step - loss: 0.2478 - accuracy: 0.8911\n",
            "Epoch 5/25\n",
            "195/195 [==============================] - 2s 11ms/step - loss: 0.2087 - accuracy: 0.9096\n",
            "Epoch 6/25\n",
            "195/195 [==============================] - 2s 10ms/step - loss: 0.1844 - accuracy: 0.9220\n",
            "Epoch 7/25\n",
            "195/195 [==============================] - 1s 7ms/step - loss: 0.1602 - accuracy: 0.9328\n",
            "Epoch 8/25\n",
            "195/195 [==============================] - 1s 7ms/step - loss: 0.1463 - accuracy: 0.9408\n",
            "Epoch 9/25\n",
            "195/195 [==============================] - 1s 7ms/step - loss: 0.1373 - accuracy: 0.9452\n",
            "Epoch 10/25\n",
            "195/195 [==============================] - 1s 7ms/step - loss: 0.1257 - accuracy: 0.9488\n",
            "Epoch 11/25\n",
            "195/195 [==============================] - 1s 7ms/step - loss: 0.1241 - accuracy: 0.9499\n",
            "Epoch 12/25\n",
            "195/195 [==============================] - 1s 7ms/step - loss: 0.1116 - accuracy: 0.9558\n",
            "Epoch 13/25\n",
            "195/195 [==============================] - 1s 7ms/step - loss: 0.1035 - accuracy: 0.9588\n",
            "Epoch 14/25\n",
            "195/195 [==============================] - 2s 11ms/step - loss: 0.1023 - accuracy: 0.9586\n",
            "Epoch 15/25\n",
            "195/195 [==============================] - 2s 11ms/step - loss: 0.0946 - accuracy: 0.9624\n",
            "Epoch 16/25\n",
            "195/195 [==============================] - 2s 11ms/step - loss: 0.0940 - accuracy: 0.9629\n",
            "Epoch 17/25\n",
            "195/195 [==============================] - 2s 9ms/step - loss: 0.0863 - accuracy: 0.9658\n",
            "Epoch 18/25\n",
            "195/195 [==============================] - 1s 7ms/step - loss: 0.0878 - accuracy: 0.9652\n",
            "Epoch 19/25\n",
            "195/195 [==============================] - 1s 7ms/step - loss: 0.0834 - accuracy: 0.9676\n",
            "Epoch 20/25\n",
            "195/195 [==============================] - 1s 7ms/step - loss: 0.0793 - accuracy: 0.9695\n",
            "Epoch 21/25\n",
            "195/195 [==============================] - 1s 7ms/step - loss: 0.0814 - accuracy: 0.9678\n",
            "Epoch 22/25\n",
            "195/195 [==============================] - 1s 7ms/step - loss: 0.0771 - accuracy: 0.9701\n",
            "Epoch 23/25\n",
            "195/195 [==============================] - 1s 7ms/step - loss: 0.0778 - accuracy: 0.9688\n",
            "Epoch 24/25\n",
            "195/195 [==============================] - 2s 9ms/step - loss: 0.0773 - accuracy: 0.9695\n",
            "Epoch 25/25\n",
            "195/195 [==============================] - 2s 11ms/step - loss: 0.0785 - accuracy: 0.9699\n",
            "49/49 [==============================] - 0s 4ms/step\n"
          ]
        },
        {
          "output_type": "stream",
          "name": "stderr",
          "text": [
            "/usr/local/lib/python3.10/dist-packages/scikeras/wrappers.py:915: UserWarning: ``build_fn`` will be renamed to ``model`` in a future release, at which point use of ``build_fn`` will raise an Error instead.\n",
            "  X, y = self._initialize(X, y)\n"
          ]
        },
        {
          "output_type": "stream",
          "name": "stdout",
          "text": [
            "Epoch 1/25\n",
            "195/195 [==============================] - 4s 11ms/step - loss: 0.5566 - accuracy: 0.6964\n",
            "Epoch 2/25\n",
            "195/195 [==============================] - 2s 11ms/step - loss: 0.3775 - accuracy: 0.8175\n",
            "Epoch 3/25\n",
            "195/195 [==============================] - 2s 8ms/step - loss: 0.2741 - accuracy: 0.8777\n",
            "Epoch 4/25\n",
            "195/195 [==============================] - 1s 7ms/step - loss: 0.2305 - accuracy: 0.8981\n",
            "Epoch 5/25\n",
            "195/195 [==============================] - 1s 7ms/step - loss: 0.1951 - accuracy: 0.9178\n",
            "Epoch 6/25\n",
            "195/195 [==============================] - 1s 7ms/step - loss: 0.1746 - accuracy: 0.9286\n",
            "Epoch 7/25\n",
            "195/195 [==============================] - 1s 7ms/step - loss: 0.1582 - accuracy: 0.9361\n",
            "Epoch 8/25\n",
            "195/195 [==============================] - 1s 7ms/step - loss: 0.1416 - accuracy: 0.9446\n",
            "Epoch 9/25\n",
            "195/195 [==============================] - 1s 7ms/step - loss: 0.1294 - accuracy: 0.9500\n",
            "Epoch 10/25\n",
            "195/195 [==============================] - 2s 9ms/step - loss: 0.1234 - accuracy: 0.9510\n",
            "Epoch 11/25\n",
            "195/195 [==============================] - 2s 11ms/step - loss: 0.1151 - accuracy: 0.9549\n",
            "Epoch 12/25\n",
            "195/195 [==============================] - 2s 10ms/step - loss: 0.1127 - accuracy: 0.9552\n",
            "Epoch 13/25\n",
            "195/195 [==============================] - 2s 11ms/step - loss: 0.1053 - accuracy: 0.9584\n",
            "Epoch 14/25\n",
            "195/195 [==============================] - 2s 8ms/step - loss: 0.1045 - accuracy: 0.9595\n",
            "Epoch 15/25\n",
            "195/195 [==============================] - 1s 7ms/step - loss: 0.0998 - accuracy: 0.9602\n",
            "Epoch 16/25\n",
            "195/195 [==============================] - 1s 7ms/step - loss: 0.0932 - accuracy: 0.9629\n",
            "Epoch 17/25\n",
            "195/195 [==============================] - 1s 7ms/step - loss: 0.0862 - accuracy: 0.9651\n",
            "Epoch 18/25\n",
            "195/195 [==============================] - 1s 7ms/step - loss: 0.0843 - accuracy: 0.9675\n",
            "Epoch 19/25\n",
            "195/195 [==============================] - 1s 7ms/step - loss: 0.0825 - accuracy: 0.9673\n",
            "Epoch 20/25\n",
            "195/195 [==============================] - 1s 7ms/step - loss: 0.0879 - accuracy: 0.9660\n",
            "Epoch 21/25\n",
            "195/195 [==============================] - 2s 10ms/step - loss: 0.0742 - accuracy: 0.9705\n",
            "Epoch 22/25\n",
            "195/195 [==============================] - 2s 11ms/step - loss: 0.0787 - accuracy: 0.9692\n",
            "Epoch 23/25\n",
            "195/195 [==============================] - 2s 11ms/step - loss: 0.0765 - accuracy: 0.9698\n",
            "Epoch 24/25\n",
            "195/195 [==============================] - 2s 11ms/step - loss: 0.0744 - accuracy: 0.9699\n",
            "Epoch 25/25\n",
            "195/195 [==============================] - 1s 7ms/step - loss: 0.0695 - accuracy: 0.9722\n",
            "49/49 [==============================] - 0s 4ms/step\n",
            "Epoch 1/25\n"
          ]
        },
        {
          "output_type": "stream",
          "name": "stderr",
          "text": [
            "/usr/local/lib/python3.10/dist-packages/scikeras/wrappers.py:915: UserWarning: ``build_fn`` will be renamed to ``model`` in a future release, at which point use of ``build_fn`` will raise an Error instead.\n",
            "  X, y = self._initialize(X, y)\n"
          ]
        },
        {
          "output_type": "stream",
          "name": "stdout",
          "text": [
            "244/244 [==============================] - 3s 7ms/step - loss: 0.5142 - accuracy: 0.7244\n",
            "Epoch 2/25\n",
            "244/244 [==============================] - 2s 7ms/step - loss: 0.3181 - accuracy: 0.8484\n",
            "Epoch 3/25\n",
            "244/244 [==============================] - 2s 7ms/step - loss: 0.2428 - accuracy: 0.8939\n",
            "Epoch 4/25\n",
            "244/244 [==============================] - 2s 8ms/step - loss: 0.2074 - accuracy: 0.9106\n",
            "Epoch 5/25\n",
            "244/244 [==============================] - 3s 10ms/step - loss: 0.1792 - accuracy: 0.9251\n",
            "Epoch 6/25\n",
            "244/244 [==============================] - 3s 11ms/step - loss: 0.1547 - accuracy: 0.9394\n",
            "Epoch 7/25\n",
            "244/244 [==============================] - 2s 10ms/step - loss: 0.1417 - accuracy: 0.9438\n",
            "Epoch 8/25\n",
            "244/244 [==============================] - 2s 7ms/step - loss: 0.1321 - accuracy: 0.9487\n",
            "Epoch 9/25\n",
            "244/244 [==============================] - 2s 7ms/step - loss: 0.1195 - accuracy: 0.9528\n",
            "Epoch 10/25\n",
            "244/244 [==============================] - 2s 7ms/step - loss: 0.1109 - accuracy: 0.9570\n",
            "Epoch 11/25\n",
            "244/244 [==============================] - 2s 7ms/step - loss: 0.1038 - accuracy: 0.9595\n",
            "Epoch 12/25\n",
            "244/244 [==============================] - 2s 7ms/step - loss: 0.0980 - accuracy: 0.9625\n",
            "Epoch 13/25\n",
            "244/244 [==============================] - 2s 10ms/step - loss: 0.0950 - accuracy: 0.9632\n",
            "Epoch 14/25\n",
            "244/244 [==============================] - 3s 11ms/step - loss: 0.0969 - accuracy: 0.9629\n",
            "Epoch 15/25\n",
            "244/244 [==============================] - 3s 11ms/step - loss: 0.0849 - accuracy: 0.9669\n",
            "Epoch 16/25\n",
            "244/244 [==============================] - 2s 9ms/step - loss: 0.0841 - accuracy: 0.9675\n",
            "Epoch 17/25\n",
            "244/244 [==============================] - 2s 7ms/step - loss: 0.0816 - accuracy: 0.9688\n",
            "Epoch 18/25\n",
            "244/244 [==============================] - 2s 7ms/step - loss: 0.0808 - accuracy: 0.9683\n",
            "Epoch 19/25\n",
            "244/244 [==============================] - 2s 7ms/step - loss: 0.0806 - accuracy: 0.9689\n",
            "Epoch 20/25\n",
            "244/244 [==============================] - 2s 7ms/step - loss: 0.0766 - accuracy: 0.9699\n",
            "Epoch 21/25\n",
            "244/244 [==============================] - 2s 7ms/step - loss: 0.0776 - accuracy: 0.9700\n",
            "Epoch 22/25\n",
            "244/244 [==============================] - 3s 10ms/step - loss: 0.0716 - accuracy: 0.9725\n",
            "Epoch 23/25\n",
            "244/244 [==============================] - 3s 11ms/step - loss: 0.0707 - accuracy: 0.9725\n",
            "Epoch 24/25\n",
            "244/244 [==============================] - 3s 11ms/step - loss: 0.0729 - accuracy: 0.9723\n",
            "Epoch 25/25\n",
            "244/244 [==============================] - 2s 7ms/step - loss: 0.0708 - accuracy: 0.9724\n"
          ]
        },
        {
          "output_type": "execute_result",
          "data": {
            "text/plain": [
              "RandomizedSearchCV(estimator=KerasClassifier(build_fn=<function build_ann at 0x7f5a7e7cd090>),\n",
              "                   n_iter=4,\n",
              "                   param_distributions={'batch_size': [200, 250],\n",
              "                                        'epochs': [15, 20, 25]})"
            ],
            "text/html": [
              "<style>#sk-container-id-2 {color: black;background-color: white;}#sk-container-id-2 pre{padding: 0;}#sk-container-id-2 div.sk-toggleable {background-color: white;}#sk-container-id-2 label.sk-toggleable__label {cursor: pointer;display: block;width: 100%;margin-bottom: 0;padding: 0.3em;box-sizing: border-box;text-align: center;}#sk-container-id-2 label.sk-toggleable__label-arrow:before {content: \"▸\";float: left;margin-right: 0.25em;color: #696969;}#sk-container-id-2 label.sk-toggleable__label-arrow:hover:before {color: black;}#sk-container-id-2 div.sk-estimator:hover label.sk-toggleable__label-arrow:before {color: black;}#sk-container-id-2 div.sk-toggleable__content {max-height: 0;max-width: 0;overflow: hidden;text-align: left;background-color: #f0f8ff;}#sk-container-id-2 div.sk-toggleable__content pre {margin: 0.2em;color: black;border-radius: 0.25em;background-color: #f0f8ff;}#sk-container-id-2 input.sk-toggleable__control:checked~div.sk-toggleable__content {max-height: 200px;max-width: 100%;overflow: auto;}#sk-container-id-2 input.sk-toggleable__control:checked~label.sk-toggleable__label-arrow:before {content: \"▾\";}#sk-container-id-2 div.sk-estimator input.sk-toggleable__control:checked~label.sk-toggleable__label {background-color: #d4ebff;}#sk-container-id-2 div.sk-label input.sk-toggleable__control:checked~label.sk-toggleable__label {background-color: #d4ebff;}#sk-container-id-2 input.sk-hidden--visually {border: 0;clip: rect(1px 1px 1px 1px);clip: rect(1px, 1px, 1px, 1px);height: 1px;margin: -1px;overflow: hidden;padding: 0;position: absolute;width: 1px;}#sk-container-id-2 div.sk-estimator {font-family: monospace;background-color: #f0f8ff;border: 1px dotted black;border-radius: 0.25em;box-sizing: border-box;margin-bottom: 0.5em;}#sk-container-id-2 div.sk-estimator:hover {background-color: #d4ebff;}#sk-container-id-2 div.sk-parallel-item::after {content: \"\";width: 100%;border-bottom: 1px solid gray;flex-grow: 1;}#sk-container-id-2 div.sk-label:hover label.sk-toggleable__label {background-color: #d4ebff;}#sk-container-id-2 div.sk-serial::before {content: \"\";position: absolute;border-left: 1px solid gray;box-sizing: border-box;top: 0;bottom: 0;left: 50%;z-index: 0;}#sk-container-id-2 div.sk-serial {display: flex;flex-direction: column;align-items: center;background-color: white;padding-right: 0.2em;padding-left: 0.2em;position: relative;}#sk-container-id-2 div.sk-item {position: relative;z-index: 1;}#sk-container-id-2 div.sk-parallel {display: flex;align-items: stretch;justify-content: center;background-color: white;position: relative;}#sk-container-id-2 div.sk-item::before, #sk-container-id-2 div.sk-parallel-item::before {content: \"\";position: absolute;border-left: 1px solid gray;box-sizing: border-box;top: 0;bottom: 0;left: 50%;z-index: -1;}#sk-container-id-2 div.sk-parallel-item {display: flex;flex-direction: column;z-index: 1;position: relative;background-color: white;}#sk-container-id-2 div.sk-parallel-item:first-child::after {align-self: flex-end;width: 50%;}#sk-container-id-2 div.sk-parallel-item:last-child::after {align-self: flex-start;width: 50%;}#sk-container-id-2 div.sk-parallel-item:only-child::after {width: 0;}#sk-container-id-2 div.sk-dashed-wrapped {border: 1px dashed gray;margin: 0 0.4em 0.5em 0.4em;box-sizing: border-box;padding-bottom: 0.4em;background-color: white;}#sk-container-id-2 div.sk-label label {font-family: monospace;font-weight: bold;display: inline-block;line-height: 1.2em;}#sk-container-id-2 div.sk-label-container {text-align: center;}#sk-container-id-2 div.sk-container {/* jupyter's `normalize.less` sets `[hidden] { display: none; }` but bootstrap.min.css set `[hidden] { display: none !important; }` so we also need the `!important` here to be able to override the default hidden behavior on the sphinx rendered scikit-learn.org. See: https://github.com/scikit-learn/scikit-learn/issues/21755 */display: inline-block !important;position: relative;}#sk-container-id-2 div.sk-text-repr-fallback {display: none;}</style><div id=\"sk-container-id-2\" class=\"sk-top-container\"><div class=\"sk-text-repr-fallback\"><pre>RandomizedSearchCV(estimator=KerasClassifier(build_fn=&lt;function build_ann at 0x7f5a7e7cd090&gt;),\n",
              "                   n_iter=4,\n",
              "                   param_distributions={&#x27;batch_size&#x27;: [200, 250],\n",
              "                                        &#x27;epochs&#x27;: [15, 20, 25]})</pre><b>In a Jupyter environment, please rerun this cell to show the HTML representation or trust the notebook. <br />On GitHub, the HTML representation is unable to render, please try loading this page with nbviewer.org.</b></div><div class=\"sk-container\" hidden><div class=\"sk-item sk-dashed-wrapped\"><div class=\"sk-label-container\"><div class=\"sk-label sk-toggleable\"><input class=\"sk-toggleable__control sk-hidden--visually\" id=\"sk-estimator-id-4\" type=\"checkbox\" ><label for=\"sk-estimator-id-4\" class=\"sk-toggleable__label sk-toggleable__label-arrow\">RandomizedSearchCV</label><div class=\"sk-toggleable__content\"><pre>RandomizedSearchCV(estimator=KerasClassifier(build_fn=&lt;function build_ann at 0x7f5a7e7cd090&gt;),\n",
              "                   n_iter=4,\n",
              "                   param_distributions={&#x27;batch_size&#x27;: [200, 250],\n",
              "                                        &#x27;epochs&#x27;: [15, 20, 25]})</pre></div></div></div><div class=\"sk-parallel\"><div class=\"sk-parallel-item\"><div class=\"sk-item\"><div class=\"sk-label-container\"><div class=\"sk-label sk-toggleable\"><input class=\"sk-toggleable__control sk-hidden--visually\" id=\"sk-estimator-id-5\" type=\"checkbox\" ><label for=\"sk-estimator-id-5\" class=\"sk-toggleable__label sk-toggleable__label-arrow\">estimator: KerasClassifier</label><div class=\"sk-toggleable__content\"><pre>KerasClassifier(\n",
              "\tmodel=None\n",
              "\tbuild_fn=&lt;function build_ann at 0x7f5a7e7cd090&gt;\n",
              "\twarm_start=False\n",
              "\trandom_state=None\n",
              "\toptimizer=rmsprop\n",
              "\tloss=None\n",
              "\tmetrics=None\n",
              "\tbatch_size=None\n",
              "\tvalidation_batch_size=None\n",
              "\tverbose=1\n",
              "\tcallbacks=None\n",
              "\tvalidation_split=0.0\n",
              "\tshuffle=True\n",
              "\trun_eagerly=False\n",
              "\tepochs=1\n",
              "\tclass_weight=None\n",
              ")</pre></div></div></div><div class=\"sk-serial\"><div class=\"sk-item\"><div class=\"sk-estimator sk-toggleable\"><input class=\"sk-toggleable__control sk-hidden--visually\" id=\"sk-estimator-id-6\" type=\"checkbox\" ><label for=\"sk-estimator-id-6\" class=\"sk-toggleable__label sk-toggleable__label-arrow\">KerasClassifier</label><div class=\"sk-toggleable__content\"><pre>KerasClassifier(\n",
              "\tmodel=None\n",
              "\tbuild_fn=&lt;function build_ann at 0x7f5a7e7cd090&gt;\n",
              "\twarm_start=False\n",
              "\trandom_state=None\n",
              "\toptimizer=rmsprop\n",
              "\tloss=None\n",
              "\tmetrics=None\n",
              "\tbatch_size=None\n",
              "\tvalidation_batch_size=None\n",
              "\tverbose=1\n",
              "\tcallbacks=None\n",
              "\tvalidation_split=0.0\n",
              "\tshuffle=True\n",
              "\trun_eagerly=False\n",
              "\tepochs=1\n",
              "\tclass_weight=None\n",
              ")</pre></div></div></div></div></div></div></div></div></div></div>"
            ]
          },
          "metadata": {},
          "execution_count": 39
        }
      ],
      "source": [
        "!pip install scikeras\n",
        "from tensorflow.keras import models, datasets, layers, optimizers\n",
        "#from keras.wrappers.scikit_learn import KerasClassifier\n",
        "from scikeras.wrappers import KerasClassifier\n",
        "from scikeras.wrappers import KerasClassifier\n",
        "\n",
        "# Function to build ann model\n",
        "def build_ann():\n",
        "  # creating the layers of the NN\n",
        "  ann = models.Sequential()\n",
        "  ann.add(layers.Input(shape=(len(X_train_selected.columns), )))\n",
        "  ann.add(layers.Dense(units=56, activation='relu'))\n",
        "  ann.add(layers.Dense(units=128, activation='relu'))\n",
        "  ann.add(layers.Dense(units=256, activation='relu'))\n",
        "  ann.add(layers.Dense(units=128, activation='relu'))\n",
        "  ann.add(layers.Dense(units=56, activation='relu'))\n",
        "  ann.add(layers.Dense(units=1, activation='sigmoid'))\n",
        "  ann.compile(optimizer = 'adam', loss = 'binary_crossentropy', metrics = ['accuracy'])\n",
        "  return ann\n",
        "\n",
        "model = KerasClassifier(build_fn=build_ann)\n",
        "# Set params to test for in GridSeach\n",
        "params={'batch_size':[200, 250],\n",
        "        'epochs':[15, 20, 25]\n",
        "        }\n",
        "\n",
        "# Instantiate the RandomizedSearchCV object:\n",
        "random_search_ann = RandomizedSearchCV(estimator=model, param_distributions=params, n_iter = 4)\n",
        "\n",
        "# Fit trained dataset with the best seeacrh\n",
        "random_search_ann.fit(X_train_selected, y_train)"
      ]
    },
    {
      "cell_type": "code",
      "execution_count": 40,
      "metadata": {
        "colab": {
          "base_uri": "https://localhost:8080/"
        },
        "id": "XHyTtyfontJp",
        "outputId": "72892218-1af4-4f54-8a2e-078fde47a75d"
      },
      "outputs": [
        {
          "output_type": "execute_result",
          "data": {
            "text/plain": [
              "{'epochs': 25, 'batch_size': 200}"
            ]
          },
          "metadata": {},
          "execution_count": 40
        }
      ],
      "source": [
        "# Get the best ANN parameters\n",
        "params = random_search_ann.best_params_\n",
        "params"
      ]
    },
    {
      "cell_type": "code",
      "execution_count": 41,
      "metadata": {
        "colab": {
          "base_uri": "https://localhost:8080/",
          "height": 251
        },
        "id": "FJ3A2vbVpue0",
        "outputId": "6675a2a4-83c1-4f72-baca-e41060587e6a"
      },
      "outputs": [
        {
          "output_type": "execute_result",
          "data": {
            "text/plain": [
              "KerasClassifier(\n",
              "\tmodel=None\n",
              "\tbuild_fn=<function build_ann at 0x7f5a7e7cd090>\n",
              "\twarm_start=False\n",
              "\trandom_state=None\n",
              "\toptimizer=rmsprop\n",
              "\tloss=None\n",
              "\tmetrics=None\n",
              "\tbatch_size=200\n",
              "\tvalidation_batch_size=None\n",
              "\tverbose=1\n",
              "\tcallbacks=None\n",
              "\tvalidation_split=0.0\n",
              "\tshuffle=True\n",
              "\trun_eagerly=False\n",
              "\tepochs=25\n",
              "\tclass_weight=None\n",
              ")"
            ],
            "text/html": [
              "<style>#sk-container-id-3 {color: black;background-color: white;}#sk-container-id-3 pre{padding: 0;}#sk-container-id-3 div.sk-toggleable {background-color: white;}#sk-container-id-3 label.sk-toggleable__label {cursor: pointer;display: block;width: 100%;margin-bottom: 0;padding: 0.3em;box-sizing: border-box;text-align: center;}#sk-container-id-3 label.sk-toggleable__label-arrow:before {content: \"▸\";float: left;margin-right: 0.25em;color: #696969;}#sk-container-id-3 label.sk-toggleable__label-arrow:hover:before {color: black;}#sk-container-id-3 div.sk-estimator:hover label.sk-toggleable__label-arrow:before {color: black;}#sk-container-id-3 div.sk-toggleable__content {max-height: 0;max-width: 0;overflow: hidden;text-align: left;background-color: #f0f8ff;}#sk-container-id-3 div.sk-toggleable__content pre {margin: 0.2em;color: black;border-radius: 0.25em;background-color: #f0f8ff;}#sk-container-id-3 input.sk-toggleable__control:checked~div.sk-toggleable__content {max-height: 200px;max-width: 100%;overflow: auto;}#sk-container-id-3 input.sk-toggleable__control:checked~label.sk-toggleable__label-arrow:before {content: \"▾\";}#sk-container-id-3 div.sk-estimator input.sk-toggleable__control:checked~label.sk-toggleable__label {background-color: #d4ebff;}#sk-container-id-3 div.sk-label input.sk-toggleable__control:checked~label.sk-toggleable__label {background-color: #d4ebff;}#sk-container-id-3 input.sk-hidden--visually {border: 0;clip: rect(1px 1px 1px 1px);clip: rect(1px, 1px, 1px, 1px);height: 1px;margin: -1px;overflow: hidden;padding: 0;position: absolute;width: 1px;}#sk-container-id-3 div.sk-estimator {font-family: monospace;background-color: #f0f8ff;border: 1px dotted black;border-radius: 0.25em;box-sizing: border-box;margin-bottom: 0.5em;}#sk-container-id-3 div.sk-estimator:hover {background-color: #d4ebff;}#sk-container-id-3 div.sk-parallel-item::after {content: \"\";width: 100%;border-bottom: 1px solid gray;flex-grow: 1;}#sk-container-id-3 div.sk-label:hover label.sk-toggleable__label {background-color: #d4ebff;}#sk-container-id-3 div.sk-serial::before {content: \"\";position: absolute;border-left: 1px solid gray;box-sizing: border-box;top: 0;bottom: 0;left: 50%;z-index: 0;}#sk-container-id-3 div.sk-serial {display: flex;flex-direction: column;align-items: center;background-color: white;padding-right: 0.2em;padding-left: 0.2em;position: relative;}#sk-container-id-3 div.sk-item {position: relative;z-index: 1;}#sk-container-id-3 div.sk-parallel {display: flex;align-items: stretch;justify-content: center;background-color: white;position: relative;}#sk-container-id-3 div.sk-item::before, #sk-container-id-3 div.sk-parallel-item::before {content: \"\";position: absolute;border-left: 1px solid gray;box-sizing: border-box;top: 0;bottom: 0;left: 50%;z-index: -1;}#sk-container-id-3 div.sk-parallel-item {display: flex;flex-direction: column;z-index: 1;position: relative;background-color: white;}#sk-container-id-3 div.sk-parallel-item:first-child::after {align-self: flex-end;width: 50%;}#sk-container-id-3 div.sk-parallel-item:last-child::after {align-self: flex-start;width: 50%;}#sk-container-id-3 div.sk-parallel-item:only-child::after {width: 0;}#sk-container-id-3 div.sk-dashed-wrapped {border: 1px dashed gray;margin: 0 0.4em 0.5em 0.4em;box-sizing: border-box;padding-bottom: 0.4em;background-color: white;}#sk-container-id-3 div.sk-label label {font-family: monospace;font-weight: bold;display: inline-block;line-height: 1.2em;}#sk-container-id-3 div.sk-label-container {text-align: center;}#sk-container-id-3 div.sk-container {/* jupyter's `normalize.less` sets `[hidden] { display: none; }` but bootstrap.min.css set `[hidden] { display: none !important; }` so we also need the `!important` here to be able to override the default hidden behavior on the sphinx rendered scikit-learn.org. See: https://github.com/scikit-learn/scikit-learn/issues/21755 */display: inline-block !important;position: relative;}#sk-container-id-3 div.sk-text-repr-fallback {display: none;}</style><div id=\"sk-container-id-3\" class=\"sk-top-container\"><div class=\"sk-text-repr-fallback\"><pre>KerasClassifier(\n",
              "\tmodel=None\n",
              "\tbuild_fn=&lt;function build_ann at 0x7f5a7e7cd090&gt;\n",
              "\twarm_start=False\n",
              "\trandom_state=None\n",
              "\toptimizer=rmsprop\n",
              "\tloss=None\n",
              "\tmetrics=None\n",
              "\tbatch_size=200\n",
              "\tvalidation_batch_size=None\n",
              "\tverbose=1\n",
              "\tcallbacks=None\n",
              "\tvalidation_split=0.0\n",
              "\tshuffle=True\n",
              "\trun_eagerly=False\n",
              "\tepochs=25\n",
              "\tclass_weight=None\n",
              ")</pre><b>In a Jupyter environment, please rerun this cell to show the HTML representation or trust the notebook. <br />On GitHub, the HTML representation is unable to render, please try loading this page with nbviewer.org.</b></div><div class=\"sk-container\" hidden><div class=\"sk-item\"><div class=\"sk-estimator sk-toggleable\"><input class=\"sk-toggleable__control sk-hidden--visually\" id=\"sk-estimator-id-7\" type=\"checkbox\" checked><label for=\"sk-estimator-id-7\" class=\"sk-toggleable__label sk-toggleable__label-arrow\">KerasClassifier</label><div class=\"sk-toggleable__content\"><pre>KerasClassifier(\n",
              "\tmodel=None\n",
              "\tbuild_fn=&lt;function build_ann at 0x7f5a7e7cd090&gt;\n",
              "\twarm_start=False\n",
              "\trandom_state=None\n",
              "\toptimizer=rmsprop\n",
              "\tloss=None\n",
              "\tmetrics=None\n",
              "\tbatch_size=200\n",
              "\tvalidation_batch_size=None\n",
              "\tverbose=1\n",
              "\tcallbacks=None\n",
              "\tvalidation_split=0.0\n",
              "\tshuffle=True\n",
              "\trun_eagerly=False\n",
              "\tepochs=25\n",
              "\tclass_weight=None\n",
              ")</pre></div></div></div></div></div>"
            ]
          },
          "metadata": {},
          "execution_count": 41
        }
      ],
      "source": [
        "# Best ANN estimator\n",
        "estimator = random_search_ann.best_estimator_\n",
        "estimator"
      ]
    },
    {
      "cell_type": "code",
      "execution_count": 42,
      "metadata": {
        "colab": {
          "base_uri": "https://localhost:8080/",
          "height": 1000
        },
        "id": "lbL6CoDcp6S2",
        "outputId": "cc84e7cb-284e-4048-eefa-71c432cb0195"
      },
      "outputs": [
        {
          "output_type": "stream",
          "name": "stdout",
          "text": [
            "Epoch 1/25\n"
          ]
        },
        {
          "output_type": "stream",
          "name": "stderr",
          "text": [
            "/usr/local/lib/python3.10/dist-packages/scikeras/wrappers.py:915: UserWarning: ``build_fn`` will be renamed to ``model`` in a future release, at which point use of ``build_fn`` will raise an Error instead.\n",
            "  X, y = self._initialize(X, y)\n"
          ]
        },
        {
          "output_type": "stream",
          "name": "stdout",
          "text": [
            "244/244 [==============================] - 3s 8ms/step - loss: 0.5307 - accuracy: 0.7144\n",
            "Epoch 2/25\n",
            "244/244 [==============================] - 3s 11ms/step - loss: 0.3408 - accuracy: 0.8362\n",
            "Epoch 3/25\n",
            "244/244 [==============================] - 3s 13ms/step - loss: 0.2662 - accuracy: 0.8778\n",
            "Epoch 4/25\n",
            "244/244 [==============================] - 4s 16ms/step - loss: 0.2191 - accuracy: 0.9036\n",
            "Epoch 5/25\n",
            "244/244 [==============================] - 4s 16ms/step - loss: 0.1910 - accuracy: 0.9194\n",
            "Epoch 6/25\n",
            "244/244 [==============================] - 3s 11ms/step - loss: 0.1691 - accuracy: 0.9302\n",
            "Epoch 7/25\n",
            "244/244 [==============================] - 3s 11ms/step - loss: 0.1442 - accuracy: 0.9424\n",
            "Epoch 8/25\n",
            "244/244 [==============================] - 3s 11ms/step - loss: 0.1396 - accuracy: 0.9442\n",
            "Epoch 9/25\n",
            "244/244 [==============================] - 4s 14ms/step - loss: 0.1235 - accuracy: 0.9517\n",
            "Epoch 10/25\n",
            "244/244 [==============================] - 4s 18ms/step - loss: 0.1147 - accuracy: 0.9543\n",
            "Epoch 11/25\n",
            "244/244 [==============================] - 4s 15ms/step - loss: 0.1090 - accuracy: 0.9578\n",
            "Epoch 12/25\n",
            "244/244 [==============================] - 3s 14ms/step - loss: 0.1029 - accuracy: 0.9592\n",
            "Epoch 13/25\n",
            "244/244 [==============================] - 3s 12ms/step - loss: 0.1001 - accuracy: 0.9606\n",
            "Epoch 14/25\n",
            "244/244 [==============================] - 3s 12ms/step - loss: 0.0980 - accuracy: 0.9619\n",
            "Epoch 15/25\n",
            "244/244 [==============================] - 5s 20ms/step - loss: 0.0890 - accuracy: 0.9649\n",
            "Epoch 16/25\n",
            "244/244 [==============================] - 4s 17ms/step - loss: 0.0871 - accuracy: 0.9669\n",
            "Epoch 17/25\n",
            "244/244 [==============================] - 3s 11ms/step - loss: 0.0858 - accuracy: 0.9665\n",
            "Epoch 18/25\n",
            "244/244 [==============================] - 3s 11ms/step - loss: 0.0792 - accuracy: 0.9692\n",
            "Epoch 19/25\n",
            "244/244 [==============================] - 3s 11ms/step - loss: 0.0807 - accuracy: 0.9681\n",
            "Epoch 20/25\n",
            "244/244 [==============================] - 2s 9ms/step - loss: 0.0755 - accuracy: 0.9708\n",
            "Epoch 21/25\n",
            "244/244 [==============================] - 3s 11ms/step - loss: 0.0799 - accuracy: 0.9694\n",
            "Epoch 22/25\n",
            "244/244 [==============================] - 3s 11ms/step - loss: 0.0727 - accuracy: 0.9713\n",
            "Epoch 23/25\n",
            "244/244 [==============================] - 2s 9ms/step - loss: 0.0782 - accuracy: 0.9694\n",
            "Epoch 24/25\n",
            "244/244 [==============================] - 2s 7ms/step - loss: 0.0700 - accuracy: 0.9726\n",
            "Epoch 25/25\n",
            "244/244 [==============================] - 2s 7ms/step - loss: 0.0732 - accuracy: 0.9711\n"
          ]
        },
        {
          "output_type": "execute_result",
          "data": {
            "text/plain": [
              "KerasClassifier(\n",
              "\tmodel=None\n",
              "\tbuild_fn=<function build_ann at 0x7f5a7e7cd090>\n",
              "\twarm_start=False\n",
              "\trandom_state=None\n",
              "\toptimizer=rmsprop\n",
              "\tloss=None\n",
              "\tmetrics=None\n",
              "\tbatch_size=200\n",
              "\tvalidation_batch_size=None\n",
              "\tverbose=1\n",
              "\tcallbacks=None\n",
              "\tvalidation_split=0.0\n",
              "\tshuffle=True\n",
              "\trun_eagerly=False\n",
              "\tepochs=25\n",
              "\tclass_weight=None\n",
              ")"
            ],
            "text/html": [
              "<style>#sk-container-id-4 {color: black;background-color: white;}#sk-container-id-4 pre{padding: 0;}#sk-container-id-4 div.sk-toggleable {background-color: white;}#sk-container-id-4 label.sk-toggleable__label {cursor: pointer;display: block;width: 100%;margin-bottom: 0;padding: 0.3em;box-sizing: border-box;text-align: center;}#sk-container-id-4 label.sk-toggleable__label-arrow:before {content: \"▸\";float: left;margin-right: 0.25em;color: #696969;}#sk-container-id-4 label.sk-toggleable__label-arrow:hover:before {color: black;}#sk-container-id-4 div.sk-estimator:hover label.sk-toggleable__label-arrow:before {color: black;}#sk-container-id-4 div.sk-toggleable__content {max-height: 0;max-width: 0;overflow: hidden;text-align: left;background-color: #f0f8ff;}#sk-container-id-4 div.sk-toggleable__content pre {margin: 0.2em;color: black;border-radius: 0.25em;background-color: #f0f8ff;}#sk-container-id-4 input.sk-toggleable__control:checked~div.sk-toggleable__content {max-height: 200px;max-width: 100%;overflow: auto;}#sk-container-id-4 input.sk-toggleable__control:checked~label.sk-toggleable__label-arrow:before {content: \"▾\";}#sk-container-id-4 div.sk-estimator input.sk-toggleable__control:checked~label.sk-toggleable__label {background-color: #d4ebff;}#sk-container-id-4 div.sk-label input.sk-toggleable__control:checked~label.sk-toggleable__label {background-color: #d4ebff;}#sk-container-id-4 input.sk-hidden--visually {border: 0;clip: rect(1px 1px 1px 1px);clip: rect(1px, 1px, 1px, 1px);height: 1px;margin: -1px;overflow: hidden;padding: 0;position: absolute;width: 1px;}#sk-container-id-4 div.sk-estimator {font-family: monospace;background-color: #f0f8ff;border: 1px dotted black;border-radius: 0.25em;box-sizing: border-box;margin-bottom: 0.5em;}#sk-container-id-4 div.sk-estimator:hover {background-color: #d4ebff;}#sk-container-id-4 div.sk-parallel-item::after {content: \"\";width: 100%;border-bottom: 1px solid gray;flex-grow: 1;}#sk-container-id-4 div.sk-label:hover label.sk-toggleable__label {background-color: #d4ebff;}#sk-container-id-4 div.sk-serial::before {content: \"\";position: absolute;border-left: 1px solid gray;box-sizing: border-box;top: 0;bottom: 0;left: 50%;z-index: 0;}#sk-container-id-4 div.sk-serial {display: flex;flex-direction: column;align-items: center;background-color: white;padding-right: 0.2em;padding-left: 0.2em;position: relative;}#sk-container-id-4 div.sk-item {position: relative;z-index: 1;}#sk-container-id-4 div.sk-parallel {display: flex;align-items: stretch;justify-content: center;background-color: white;position: relative;}#sk-container-id-4 div.sk-item::before, #sk-container-id-4 div.sk-parallel-item::before {content: \"\";position: absolute;border-left: 1px solid gray;box-sizing: border-box;top: 0;bottom: 0;left: 50%;z-index: -1;}#sk-container-id-4 div.sk-parallel-item {display: flex;flex-direction: column;z-index: 1;position: relative;background-color: white;}#sk-container-id-4 div.sk-parallel-item:first-child::after {align-self: flex-end;width: 50%;}#sk-container-id-4 div.sk-parallel-item:last-child::after {align-self: flex-start;width: 50%;}#sk-container-id-4 div.sk-parallel-item:only-child::after {width: 0;}#sk-container-id-4 div.sk-dashed-wrapped {border: 1px dashed gray;margin: 0 0.4em 0.5em 0.4em;box-sizing: border-box;padding-bottom: 0.4em;background-color: white;}#sk-container-id-4 div.sk-label label {font-family: monospace;font-weight: bold;display: inline-block;line-height: 1.2em;}#sk-container-id-4 div.sk-label-container {text-align: center;}#sk-container-id-4 div.sk-container {/* jupyter's `normalize.less` sets `[hidden] { display: none; }` but bootstrap.min.css set `[hidden] { display: none !important; }` so we also need the `!important` here to be able to override the default hidden behavior on the sphinx rendered scikit-learn.org. See: https://github.com/scikit-learn/scikit-learn/issues/21755 */display: inline-block !important;position: relative;}#sk-container-id-4 div.sk-text-repr-fallback {display: none;}</style><div id=\"sk-container-id-4\" class=\"sk-top-container\"><div class=\"sk-text-repr-fallback\"><pre>KerasClassifier(\n",
              "\tmodel=None\n",
              "\tbuild_fn=&lt;function build_ann at 0x7f5a7e7cd090&gt;\n",
              "\twarm_start=False\n",
              "\trandom_state=None\n",
              "\toptimizer=rmsprop\n",
              "\tloss=None\n",
              "\tmetrics=None\n",
              "\tbatch_size=200\n",
              "\tvalidation_batch_size=None\n",
              "\tverbose=1\n",
              "\tcallbacks=None\n",
              "\tvalidation_split=0.0\n",
              "\tshuffle=True\n",
              "\trun_eagerly=False\n",
              "\tepochs=25\n",
              "\tclass_weight=None\n",
              ")</pre><b>In a Jupyter environment, please rerun this cell to show the HTML representation or trust the notebook. <br />On GitHub, the HTML representation is unable to render, please try loading this page with nbviewer.org.</b></div><div class=\"sk-container\" hidden><div class=\"sk-item\"><div class=\"sk-estimator sk-toggleable\"><input class=\"sk-toggleable__control sk-hidden--visually\" id=\"sk-estimator-id-8\" type=\"checkbox\" checked><label for=\"sk-estimator-id-8\" class=\"sk-toggleable__label sk-toggleable__label-arrow\">KerasClassifier</label><div class=\"sk-toggleable__content\"><pre>KerasClassifier(\n",
              "\tmodel=None\n",
              "\tbuild_fn=&lt;function build_ann at 0x7f5a7e7cd090&gt;\n",
              "\twarm_start=False\n",
              "\trandom_state=None\n",
              "\toptimizer=rmsprop\n",
              "\tloss=None\n",
              "\tmetrics=None\n",
              "\tbatch_size=200\n",
              "\tvalidation_batch_size=None\n",
              "\tverbose=1\n",
              "\tcallbacks=None\n",
              "\tvalidation_split=0.0\n",
              "\tshuffle=True\n",
              "\trun_eagerly=False\n",
              "\tepochs=25\n",
              "\tclass_weight=None\n",
              ")</pre></div></div></div></div></div>"
            ]
          },
          "metadata": {},
          "execution_count": 42
        }
      ],
      "source": [
        "# Train the best ANN model with train data\n",
        "estimator.fit(X_train_selected, y_train)"
      ]
    },
    {
      "cell_type": "code",
      "execution_count": 43,
      "metadata": {
        "colab": {
          "base_uri": "https://localhost:8080/"
        },
        "id": "9qT2SVZzqQW9",
        "outputId": "34a60472-1863-40c2-ae07-ffeeb7fe2f2c"
      },
      "outputs": [
        {
          "output_type": "stream",
          "name": "stdout",
          "text": [
            "61/61 [==============================] - 0s 5ms/step\n"
          ]
        }
      ],
      "source": [
        "# Prediction with test data\n",
        "predictions = estimator.predict(X_test_selected)"
      ]
    },
    {
      "cell_type": "code",
      "execution_count": 44,
      "metadata": {
        "colab": {
          "base_uri": "https://localhost:8080/"
        },
        "id": "CiqWJjUCqgIJ",
        "outputId": "a80c5440-db02-44ef-aca1-9270f950775e"
      },
      "outputs": [
        {
          "output_type": "stream",
          "name": "stdout",
          "text": [
            "Extreme ML Model Accuracy with Hyperparameters {'epochs': 25, 'batch_size': 200} : 97.325\n"
          ]
        }
      ],
      "source": [
        "accuracy_EML_best = accuracy_score(y_test, predictions)*100\n",
        "print(f'Extreme ML Model Accuracy with Hyperparameters {random_search_ann.best_params_} : {round(accuracy_EML_best,3)}')"
      ]
    },
    {
      "cell_type": "code",
      "source": [
        "# summarize scores\n",
        "print('No Skill: ROC AUC=%.3f' % (ns_auc))\n",
        "print('Extreme ML: ROC AUC=%.3f' % (lr_auc))\n",
        "\n",
        "# calculate roc curves\n",
        "ns_fpr, ns_tpr, _ = roc_curve(y_test, ns_probs)\n",
        "lr_fpr, lr_tpr, _ = roc_curve(y_test, predictions)\n",
        "\n",
        "# plot the roc curve for the model\n",
        "fig = plt.figure(figsize=(3, 2))\n",
        "plt.plot(ns_fpr, ns_tpr, linestyle='--', color='orange', label='No Skill')\n",
        "plt.plot(lr_fpr, lr_tpr, marker='.', color='blue', label='Extreme ML')\n",
        "\n",
        "# axis labels\n",
        "plt.xlabel('False Positive Rate')\n",
        "plt.ylabel('True Positive Rate')\n",
        "\n",
        "# show the legend\n",
        "plt.legend(fontsize = 9)\n",
        "\n",
        "# show the plot\n",
        "plt.show()"
      ],
      "metadata": {
        "colab": {
          "base_uri": "https://localhost:8080/",
          "height": 268
        },
        "id": "sRNtuNexgIwq",
        "outputId": "73cef7a0-e447-4124-c26b-ce98869ac528"
      },
      "execution_count": 45,
      "outputs": [
        {
          "output_type": "stream",
          "name": "stdout",
          "text": [
            "No Skill: ROC AUC=0.500\n",
            "Extreme ML: ROC AUC=0.979\n"
          ]
        },
        {
          "output_type": "display_data",
          "data": {
            "text/plain": [
              "<Figure size 300x200 with 1 Axes>"
            ],
            "image/png": "[encoded data removed]"
          },
          "metadata": {}
        }
      ]
    },
    {
      "cell_type": "markdown",
      "metadata": {
        "id": "JdppR2atrOf8"
      },
      "source": [
        "## Deep Learning Model with two hidden layers - Each hidden layer with 100 neurons"
      ]
    },
    {
      "cell_type": "code",
      "execution_count": 46,
      "metadata": {
        "id": "fQdjrvz5ryIu"
      },
      "outputs": [],
      "source": [
        "# Define neural network with two hidden layers\n",
        "model = MLPClassifier(hidden_layer_sizes=(100,100))\n",
        "nn = model.fit(X_train_selected, y_train)\n",
        "\n"
      ]
    },
    {
      "cell_type": "code",
      "execution_count": 47,
      "metadata": {
        "id": "O-LZjyLMs_w-"
      },
      "outputs": [],
      "source": [
        "# Model fit with training data\n",
        "y_train_predict = nn.predict(X_train_selected)\n",
        "# Make predictions on the test data\n",
        "y_pred = nn.predict(X_test_selected)\n",
        "\n",
        "# Evaluate performance metric for training and testing data\n",
        "Train_PM = Perf_Metric(y_train,y_train_predict)\n",
        "Test_PM = Perf_Metric(y_test,y_pred)\n",
        "\n",
        "NN_Train_PM = Train_PM\n",
        "NN_Test_PM = Test_PM"
      ]
    },
    {
      "cell_type": "code",
      "execution_count": 48,
      "metadata": {
        "colab": {
          "base_uri": "https://localhost:8080/",
          "height": 111
        },
        "id": "eQbsE4bqut_v",
        "outputId": "6d30e564-398f-4c18-e4ab-6d386db09b9a"
      },
      "outputs": [
        {
          "output_type": "execute_result",
          "data": {
            "text/plain": [
              "  Dataset  Accuracy Score  F1 Score  Precision  Recall\n",
              "0   Train           0.967     0.971      0.948   0.994\n",
              "1    Test           0.962     0.967      0.942   0.993"
            ],
            "text/html": [
              "\n",
              "  <div id=\"df-1db02f9a-e7fa-4633-851e-2e6ac1e5b3bc\" class=\"colab-df-container\">\n",
              "    <div>\n",
              "<style scoped>\n",
              "    .dataframe tbody tr th:only-of-type {\n",
              "        vertical-align: middle;\n",
              "    }\n",
              "\n",
              "    .dataframe tbody tr th {\n",
              "        vertical-align: top;\n",
              "    }\n",
              "\n",
              "    .dataframe thead th {\n",
              "        text-align: right;\n",
              "    }\n",
              "</style>\n",
              "<table border=\"1\" class=\"dataframe\">\n",
              "  <thead>\n",
              "    <tr style=\"text-align: right;\">\n",
              "      <th></th>\n",
              "      <th>Dataset</th>\n",
              "      <th>Accuracy Score</th>\n",
              "      <th>F1 Score</th>\n",
              "      <th>Precision</th>\n",
              "      <th>Recall</th>\n",
              "    </tr>\n",
              "  </thead>\n",
              "  <tbody>\n",
              "    <tr>\n",
              "      <th>0</th>\n",
              "      <td>Train</td>\n",
              "      <td>0.967</td>\n",
              "      <td>0.971</td>\n",
              "      <td>0.948</td>\n",
              "      <td>0.994</td>\n",
              "    </tr>\n",
              "    <tr>\n",
              "      <th>1</th>\n",
              "      <td>Test</td>\n",
              "      <td>0.962</td>\n",
              "      <td>0.967</td>\n",
              "      <td>0.942</td>\n",
              "      <td>0.993</td>\n",
              "    </tr>\n",
              "  </tbody>\n",
              "</table>\n",
              "</div>\n",
              "    <div class=\"colab-df-buttons\">\n",
              "\n",
              "  <div class=\"colab-df-container\">\n",
              "    <button class=\"colab-df-convert\" onclick=\"convertToInteractive('df-1db02f9a-e7fa-4633-851e-2e6ac1e5b3bc')\"\n",
              "            title=\"Convert this dataframe to an interactive table.\"\n",
              "            style=\"display:none;\">\n",
              "\n",
              "  <svg xmlns=\"http://www.w3.org/2000/svg\" height=\"24px\" viewBox=\"0 -960 960 960\">\n",
              "    <path d=\"M120-120v-720h720v720H120Zm60-500h600v-160H180v160Zm220 220h160v-160H400v160Zm0 220h160v-160H400v160ZM180-400h160v-160H180v160Zm440 0h160v-160H620v160ZM180-180h160v-160H180v160Zm440 0h160v-160H620v160Z\"/>\n",
              "  </svg>\n",
              "    </button>\n",
              "\n",
              "  <style>\n",
              "    .colab-df-container {\n",
              "      display:flex;\n",
              "      gap: 12px;\n",
              "    }\n",
              "\n",
              "    .colab-df-convert {\n",
              "      background-color: #E8F0FE;\n",
              "      border: none;\n",
              "      border-radius: 50%;\n",
              "      cursor: pointer;\n",
              "      display: none;\n",
              "      fill: #1967D2;\n",
              "      height: 32px;\n",
              "      padding: 0 0 0 0;\n",
              "      width: 32px;\n",
              "    }\n",
              "\n",
              "    .colab-df-convert:hover {\n",
              "      background-color: #E2EBFA;\n",
              "      box-shadow: 0px 1px 2px rgba(60, 64, 67, 0.3), 0px 1px 3px 1px rgba(60, 64, 67, 0.15);\n",
              "      fill: #174EA6;\n",
              "    }\n",
              "\n",
              "    .colab-df-buttons div {\n",
              "      margin-bottom: 4px;\n",
              "    }\n",
              "\n",
              "    [theme=dark] .colab-df-convert {\n",
              "      background-color: #3B4455;\n",
              "      fill: #D2E3FC;\n",
              "    }\n",
              "\n",
              "    [theme=dark] .colab-df-convert:hover {\n",
              "      background-color: #434B5C;\n",
              "      box-shadow: 0px 1px 3px 1px rgba(0, 0, 0, 0.15);\n",
              "      filter: drop-shadow(0px 1px 2px rgba(0, 0, 0, 0.3));\n",
              "      fill: #FFFFFF;\n",
              "    }\n",
              "  </style>\n",
              "\n",
              "    <script>\n",
              "      const buttonEl =\n",
              "        document.querySelector('#df-1db02f9a-e7fa-4633-851e-2e6ac1e5b3bc button.colab-df-convert');\n",
              "      buttonEl.style.display =\n",
              "        google.colab.kernel.accessAllowed ? 'block' : 'none';\n",
              "\n",
              "      async function convertToInteractive(key) {\n",
              "        const element = document.querySelector('#df-1db02f9a-e7fa-4633-851e-2e6ac1e5b3bc');\n",
              "        const dataTable =\n",
              "          await google.colab.kernel.invokeFunction('convertToInteractive',\n",
              "                                                    [key], {});\n",
              "        if (!dataTable) return;\n",
              "\n",
              "        const docLinkHtml = 'Like what you see? Visit the ' +\n",
              "          '<a target=\"_blank\" href=https://colab.research.google.com/notebooks/data_table.ipynb>data table notebook</a>'\n",
              "          + ' to learn more about interactive tables.';\n",
              "        element.innerHTML = '';\n",
              "        dataTable['output_type'] = 'display_data';\n",
              "        await google.colab.output.renderOutput(dataTable, element);\n",
              "        const docLink = document.createElement('div');\n",
              "        docLink.innerHTML = docLinkHtml;\n",
              "        element.appendChild(docLink);\n",
              "      }\n",
              "    </script>\n",
              "  </div>\n",
              "\n",
              "\n",
              "<div id=\"df-737da031-1c28-46af-ad61-d344f2e1edcd\">\n",
              "  <button class=\"colab-df-quickchart\" onclick=\"quickchart('df-737da031-1c28-46af-ad61-d344f2e1edcd')\"\n",
              "            title=\"Suggest charts\"\n",
              "            style=\"display:none;\">\n",
              "\n",
              "<svg xmlns=\"http://www.w3.org/2000/svg\" height=\"24px\"viewBox=\"0 0 24 24\"\n",
              "     width=\"24px\">\n",
              "    <g>\n",
              "        <path d=\"M19 3H5c-1.1 0-2 .9-2 2v14c0 1.1.9 2 2 2h14c1.1 0 2-.9 2-2V5c0-1.1-.9-2-2-2zM9 17H7v-7h2v7zm4 0h-2V7h2v10zm4 0h-2v-4h2v4z\"/>\n",
              "    </g>\n",
              "</svg>\n",
              "  </button>\n",
              "\n",
              "<style>\n",
              "  .colab-df-quickchart {\n",
              "      --bg-color: #E8F0FE;\n",
              "      --fill-color: #1967D2;\n",
              "      --hover-bg-color: #E2EBFA;\n",
              "      --hover-fill-color: #174EA6;\n",
              "      --disabled-fill-color: #AAA;\n",
              "      --disabled-bg-color: #DDD;\n",
              "  }\n",
              "\n",
              "  [theme=dark] .colab-df-quickchart {\n",
              "      --bg-color: #3B4455;\n",
              "      --fill-color: #D2E3FC;\n",
              "      --hover-bg-color: #434B5C;\n",
              "      --hover-fill-color: #FFFFFF;\n",
              "      --disabled-bg-color: #3B4455;\n",
              "      --disabled-fill-color: #666;\n",
              "  }\n",
              "\n",
              "  .colab-df-quickchart {\n",
              "    background-color: var(--bg-color);\n",
              "    border: none;\n",
              "    border-radius: 50%;\n",
              "    cursor: pointer;\n",
              "    display: none;\n",
              "    fill: var(--fill-color);\n",
              "    height: 32px;\n",
              "    padding: 0;\n",
              "    width: 32px;\n",
              "  }\n",
              "\n",
              "  .colab-df-quickchart:hover {\n",
              "    background-color: var(--hover-bg-color);\n",
              "    box-shadow: 0 1px 2px rgba(60, 64, 67, 0.3), 0 1px 3px 1px rgba(60, 64, 67, 0.15);\n",
              "    fill: var(--button-hover-fill-color);\n",
              "  }\n",
              "\n",
              "  .colab-df-quickchart-complete:disabled,\n",
              "  .colab-df-quickchart-complete:disabled:hover {\n",
              "    background-color: var(--disabled-bg-color);\n",
              "    fill: var(--disabled-fill-color);\n",
              "    box-shadow: none;\n",
              "  }\n",
              "\n",
              "  .colab-df-spinner {\n",
              "    border: 2px solid var(--fill-color);\n",
              "    border-color: transparent;\n",
              "    border-bottom-color: var(--fill-color);\n",
              "    animation:\n",
              "      spin 1s steps(1) infinite;\n",
              "  }\n",
              "\n",
              "  @keyframes spin {\n",
              "    0% {\n",
              "      border-color: transparent;\n",
              "      border-bottom-color: var(--fill-color);\n",
              "      border-left-color: var(--fill-color);\n",
              "    }\n",
              "    20% {\n",
              "      border-color: transparent;\n",
              "      border-left-color: var(--fill-color);\n",
              "      border-top-color: var(--fill-color);\n",
              "    }\n",
              "    30% {\n",
              "      border-color: transparent;\n",
              "      border-left-color: var(--fill-color);\n",
              "      border-top-color: var(--fill-color);\n",
              "      border-right-color: var(--fill-color);\n",
              "    }\n",
              "    40% {\n",
              "      border-color: transparent;\n",
              "      border-right-color: var(--fill-color);\n",
              "      border-top-color: var(--fill-color);\n",
              "    }\n",
              "    60% {\n",
              "      border-color: transparent;\n",
              "      border-right-color: var(--fill-color);\n",
              "    }\n",
              "    80% {\n",
              "      border-color: transparent;\n",
              "      border-right-color: var(--fill-color);\n",
              "      border-bottom-color: var(--fill-color);\n",
              "    }\n",
              "    90% {\n",
              "      border-color: transparent;\n",
              "      border-bottom-color: var(--fill-color);\n",
              "    }\n",
              "  }\n",
              "</style>\n",
              "\n",
              "  <script>\n",
              "    async function quickchart(key) {\n",
              "      const quickchartButtonEl =\n",
              "        document.querySelector('#' + key + ' button');\n",
              "      quickchartButtonEl.disabled = true;  // To prevent multiple clicks.\n",
              "      quickchartButtonEl.classList.add('colab-df-spinner');\n",
              "      try {\n",
              "        const charts = await google.colab.kernel.invokeFunction(\n",
              "            'suggestCharts', [key], {});\n",
              "      } catch (error) {\n",
              "        console.error('Error during call to suggestCharts:', error);\n",
              "      }\n",
              "      quickchartButtonEl.classList.remove('colab-df-spinner');\n",
              "      quickchartButtonEl.classList.add('colab-df-quickchart-complete');\n",
              "    }\n",
              "    (() => {\n",
              "      let quickchartButtonEl =\n",
              "        document.querySelector('#df-737da031-1c28-46af-ad61-d344f2e1edcd button');\n",
              "      quickchartButtonEl.style.display =\n",
              "        google.colab.kernel.accessAllowed ? 'block' : 'none';\n",
              "    })();\n",
              "  </script>\n",
              "</div>\n",
              "    </div>\n",
              "  </div>\n"
            ]
          },
          "metadata": {},
          "execution_count": 48
        }
      ],
      "source": [
        "# Create a table comparing the preformance on training and test data\n",
        "models = pd.DataFrame({\n",
        "    #'Model': ['RF'],\n",
        "    'Dataset': [\"Train\",\"Test\"],\n",
        "    'Accuracy Score': [Train_PM[0], Test_PM[0]],\n",
        "    'F1 Score': [Train_PM[1], Test_PM[1]],\n",
        "    'Precision': [Train_PM[2], Test_PM[2]],\n",
        "    'Recall': [Train_PM[3], Test_PM[3]],\n",
        "})\n",
        "models"
      ]
    },
    {
      "cell_type": "code",
      "execution_count": 49,
      "metadata": {
        "colab": {
          "base_uri": "https://localhost:8080/",
          "height": 234
        },
        "id": "uvRgCorBux95",
        "outputId": "6f32e26b-ab61-4a5d-b041-e824ca13749e"
      },
      "outputs": [
        {
          "output_type": "display_data",
          "data": {
            "text/plain": [
              "<Figure size 300x200 with 2 Axes>"
            ],
            "image/png": "[encoded data removed]"
          },
          "metadata": {}
        }
      ],
      "source": [
        "# Plot Confusion matrix\n",
        "cm = confusion_matrix(y_test, y_pred)\n",
        "fig = plt.figure(figsize=(3, 2))\n",
        "sns.heatmap(cm,\n",
        "           annot=True,\n",
        "           annot_kws={\"size\":10},\n",
        "           xticklabels=['Edible', 'Poisonous'],\n",
        "           yticklabels=['Edible', 'Poisonous'],)\n",
        "plt.xlabel('Predicted',fontweight='bold')\n",
        "plt.ylabel('Actual',fontweight='bold');"
      ]
    },
    {
      "cell_type": "code",
      "source": [
        "# summarize scores\n",
        "print('No Skill: ROC AUC=%.3f' % (ns_auc))\n",
        "print('DL Neural Network: ROC AUC=%.3f' % (lr_auc))\n",
        "\n",
        "# calculate roc curves\n",
        "ns_fpr, ns_tpr, _ = roc_curve(y_test, ns_probs)\n",
        "lr_fpr, lr_tpr, _ = roc_curve(y_test, y_pred)\n",
        "\n",
        "# plot the roc curve for the model\n",
        "fig = plt.figure(figsize=(3, 2))\n",
        "plt.plot(ns_fpr, ns_tpr, linestyle='--', color='orange', label='No Skill')\n",
        "plt.plot(lr_fpr, lr_tpr, marker='.', color='blue', label='DL Neural Network')\n",
        "\n",
        "# axis labels\n",
        "plt.xlabel('False Positive Rate')\n",
        "plt.ylabel('True Positive Rate')\n",
        "\n",
        "# show the legend\n",
        "plt.legend(fontsize = 9)\n",
        "\n",
        "# show the plot\n",
        "plt.show()"
      ],
      "metadata": {
        "id": "Nm-ZJiPNV2Ys",
        "colab": {
          "base_uri": "https://localhost:8080/",
          "height": 268
        },
        "outputId": "19e77894-f60d-417a-e4a2-8709c3831329"
      },
      "execution_count": 50,
      "outputs": [
        {
          "output_type": "stream",
          "name": "stdout",
          "text": [
            "No Skill: ROC AUC=0.500\n",
            "DL Neural Network: ROC AUC=0.979\n"
          ]
        },
        {
          "output_type": "display_data",
          "data": {
            "text/plain": [
              "<Figure size 300x200 with 1 Axes>"
            ],
            "image/png": "[encoded data removed]"
          },
          "metadata": {}
        }
      ]
    },
    {
      "cell_type": "code",
      "execution_count": 51,
      "metadata": {
        "colab": {
          "base_uri": "https://localhost:8080/",
          "height": 509
        },
        "id": "BXVyRTYn1H56",
        "outputId": "bd26f283-496c-477a-ad81-d41e4f0257cd"
      },
      "outputs": [
        {
          "output_type": "display_data",
          "data": {
            "text/plain": [
              "<Figure size 1000x300 with 1 Axes>"
            ],
            "image/png": "[encoded data removed]"
          },
          "metadata": {}
        }
      ],
      "source": [
        "# Comparison of machine learning models with selected features from Step 2\n",
        "# The\n",
        "mlmodel_names = [\"Random Forest\",\"KNN\",\"Decision Tree\",\"XGBoost\",\"Extreme Machine Learning Model\",\"Neural Network with 2 hidden layers\"]\n",
        "mlmodel_acc = [97.940, 97.948, 96.225, round(XGB_Test_PM[0]*100,3), round(accuracy_EML_best,3), round((NN_Test_PM[0]*100),3)]\n",
        "\n",
        "# Plot the bar graph using matplotlib\n",
        "fig = plt.figure(figsize=(10, 3))\n",
        "bars = plt.bar(mlmodel_names, mlmodel_acc)\n",
        "plt.title('Comparison of Accuracy Scores for Machine Learning Models', fontsize=12, fontweight='bold')\n",
        "plt.xlabel('Model Name')\n",
        "plt.ylabel('Accuracy Score')\n",
        "plt.xticks(rotation=45, ha='right')  # Rotate x-axis labels for better visibility\n",
        "plt.ylim([96, 100])\n",
        "#plt.tight_layout()\n",
        "# Adding value labels on top of each bar\n",
        "for bar in bars:\n",
        "    plt.text(bar.get_x() + bar.get_width() / 2, bar.get_height(), str(bar.get_height()), ha='center', va='bottom')\n",
        "plt.show()\n",
        "\n",
        "\n"
      ]
    },
    {
      "cell_type": "markdown",
      "metadata": {
        "id": "05CfZa_t13QK"
      },
      "source": [
        "Observations: Random Forest, KNN, and XGBoost are found to be giving high accuracy. So these three models are considered for ensembling"
      ]
    },
    {
      "cell_type": "markdown",
      "source": [],
      "metadata": {
        "id": "wQm7vFPbX0Tr"
      }
    },
    {
      "cell_type": "markdown",
      "source": [
        "## Ensemble model with Random Forest, KNN and XGBoost"
      ],
      "metadata": {
        "id": "ItdU10mv_Rsc"
      }
    },
    {
      "cell_type": "code",
      "source": [
        "# Define top three machine learning in accuracy for ensembling\n",
        "M1 = RandomForestClassifier(n_estimators= 100, min_samples_split= 10, min_samples_leaf = 1, max_depth= 30)\n",
        "M2 = KNeighborsClassifier(weights ='distance', p = 1, n_neighbors = 7)\n",
        "M3 = XGBClassifier(n_estimators=1000 ,random_state=42)\n",
        "\n",
        "# Assign weights to three machine learning models\n",
        "eclf = VotingClassifier(estimators=[('rf', M1 ), ('knn', M2), ('xgb', M3)], voting='hard', weights=[4,4,2])\n",
        "\n",
        "# Fir the model\n",
        "eclf.fit(X_train_selected, y_train)\n",
        "\n",
        "#Model fit with trainig data\n",
        "y_train_ensemble_predict = eclf.predict(X_train_selected)\n",
        "\n",
        "#Model predictions on the test data\n",
        "y_pred_ensemble = eclf.predict(X_test_selected)"
      ],
      "metadata": {
        "id": "hajiALLN_Tv3"
      },
      "execution_count": 52,
      "outputs": []
    },
    {
      "cell_type": "code",
      "source": [
        "# Evaluate performance metric for training and testing data\n",
        "Train_PM = Perf_Metric(y_train,y_train_ensemble_predict)\n",
        "Test_PM = Perf_Metric(y_test,y_pred_ensemble)\n",
        "\n",
        "Ensemble_Train_PM = Train_PM\n",
        "Ensemble_Test_PM = Test_PM"
      ],
      "metadata": {
        "id": "DaveRZmo_YU1"
      },
      "execution_count": 53,
      "outputs": []
    },
    {
      "cell_type": "code",
      "source": [
        "# Create a table comparing the preformance on training and test data\n",
        "models = pd.DataFrame({\n",
        "    #'Model': ['RF'],\n",
        "    'Dataset': [\"Train\",\"Test\"],\n",
        "    'Accuracy Score': [Train_PM[0], Test_PM[0]],\n",
        "    'F1 Score': [Train_PM[1], Test_PM[1]],\n",
        "    'Precision': [Train_PM[2], Test_PM[2]],\n",
        "    'Recall': [Train_PM[3], Test_PM[3]],\n",
        "})\n",
        "models"
      ],
      "metadata": {
        "colab": {
          "base_uri": "https://localhost:8080/",
          "height": 111
        },
        "id": "B_c7iKFU_bm2",
        "outputId": "733d91a6-a349-48ca-d5a2-8e9f9ecefead"
      },
      "execution_count": 54,
      "outputs": [
        {
          "output_type": "execute_result",
          "data": {
            "text/plain": [
              "  Dataset  Accuracy Score  F1 Score  Precision  Recall\n",
              "0   Train           0.999     0.999      0.999   0.999\n",
              "1    Test           0.981     0.983      0.981   0.984"
            ],
            "text/html": [
              "\n",
              "  <div id=\"df-a361ac81-d39c-4600-acc1-043c77a4b314\" class=\"colab-df-container\">\n",
              "    <div>\n",
              "<style scoped>\n",
              "    .dataframe tbody tr th:only-of-type {\n",
              "        vertical-align: middle;\n",
              "    }\n",
              "\n",
              "    .dataframe tbody tr th {\n",
              "        vertical-align: top;\n",
              "    }\n",
              "\n",
              "    .dataframe thead th {\n",
              "        text-align: right;\n",
              "    }\n",
              "</style>\n",
              "<table border=\"1\" class=\"dataframe\">\n",
              "  <thead>\n",
              "    <tr style=\"text-align: right;\">\n",
              "      <th></th>\n",
              "      <th>Dataset</th>\n",
              "      <th>Accuracy Score</th>\n",
              "      <th>F1 Score</th>\n",
              "      <th>Precision</th>\n",
              "      <th>Recall</th>\n",
              "    </tr>\n",
              "  </thead>\n",
              "  <tbody>\n",
              "    <tr>\n",
              "      <th>0</th>\n",
              "      <td>Train</td>\n",
              "      <td>0.999</td>\n",
              "      <td>0.999</td>\n",
              "      <td>0.999</td>\n",
              "      <td>0.999</td>\n",
              "    </tr>\n",
              "    <tr>\n",
              "      <th>1</th>\n",
              "      <td>Test</td>\n",
              "      <td>0.981</td>\n",
              "      <td>0.983</td>\n",
              "      <td>0.981</td>\n",
              "      <td>0.984</td>\n",
              "    </tr>\n",
              "  </tbody>\n",
              "</table>\n",
              "</div>\n",
              "    <div class=\"colab-df-buttons\">\n",
              "\n",
              "  <div class=\"colab-df-container\">\n",
              "    <button class=\"colab-df-convert\" onclick=\"convertToInteractive('df-a361ac81-d39c-4600-acc1-043c77a4b314')\"\n",
              "            title=\"Convert this dataframe to an interactive table.\"\n",
              "            style=\"display:none;\">\n",
              "\n",
              "  <svg xmlns=\"http://www.w3.org/2000/svg\" height=\"24px\" viewBox=\"0 -960 960 960\">\n",
              "    <path d=\"M120-120v-720h720v720H120Zm60-500h600v-160H180v160Zm220 220h160v-160H400v160Zm0 220h160v-160H400v160ZM180-400h160v-160H180v160Zm440 0h160v-160H620v160ZM180-180h160v-160H180v160Zm440 0h160v-160H620v160Z\"/>\n",
              "  </svg>\n",
              "    </button>\n",
              "\n",
              "  <style>\n",
              "    .colab-df-container {\n",
              "      display:flex;\n",
              "      gap: 12px;\n",
              "    }\n",
              "\n",
              "    .colab-df-convert {\n",
              "      background-color: #E8F0FE;\n",
              "      border: none;\n",
              "      border-radius: 50%;\n",
              "      cursor: pointer;\n",
              "      display: none;\n",
              "      fill: #1967D2;\n",
              "      height: 32px;\n",
              "      padding: 0 0 0 0;\n",
              "      width: 32px;\n",
              "    }\n",
              "\n",
              "    .colab-df-convert:hover {\n",
              "      background-color: #E2EBFA;\n",
              "      box-shadow: 0px 1px 2px rgba(60, 64, 67, 0.3), 0px 1px 3px 1px rgba(60, 64, 67, 0.15);\n",
              "      fill: #174EA6;\n",
              "    }\n",
              "\n",
              "    .colab-df-buttons div {\n",
              "      margin-bottom: 4px;\n",
              "    }\n",
              "\n",
              "    [theme=dark] .colab-df-convert {\n",
              "      background-color: #3B4455;\n",
              "      fill: #D2E3FC;\n",
              "    }\n",
              "\n",
              "    [theme=dark] .colab-df-convert:hover {\n",
              "      background-color: #434B5C;\n",
              "      box-shadow: 0px 1px 3px 1px rgba(0, 0, 0, 0.15);\n",
              "      filter: drop-shadow(0px 1px 2px rgba(0, 0, 0, 0.3));\n",
              "      fill: #FFFFFF;\n",
              "    }\n",
              "  </style>\n",
              "\n",
              "    <script>\n",
              "      const buttonEl =\n",
              "        document.querySelector('#df-a361ac81-d39c-4600-acc1-043c77a4b314 button.colab-df-convert');\n",
              "      buttonEl.style.display =\n",
              "        google.colab.kernel.accessAllowed ? 'block' : 'none';\n",
              "\n",
              "      async function convertToInteractive(key) {\n",
              "        const element = document.querySelector('#df-a361ac81-d39c-4600-acc1-043c77a4b314');\n",
              "        const dataTable =\n",
              "          await google.colab.kernel.invokeFunction('convertToInteractive',\n",
              "                                                    [key], {});\n",
              "        if (!dataTable) return;\n",
              "\n",
              "        const docLinkHtml = 'Like what you see? Visit the ' +\n",
              "          '<a target=\"_blank\" href=https://colab.research.google.com/notebooks/data_table.ipynb>data table notebook</a>'\n",
              "          + ' to learn more about interactive tables.';\n",
              "        element.innerHTML = '';\n",
              "        dataTable['output_type'] = 'display_data';\n",
              "        await google.colab.output.renderOutput(dataTable, element);\n",
              "        const docLink = document.createElement('div');\n",
              "        docLink.innerHTML = docLinkHtml;\n",
              "        element.appendChild(docLink);\n",
              "      }\n",
              "    </script>\n",
              "  </div>\n",
              "\n",
              "\n",
              "<div id=\"df-4a622d16-edec-492d-b056-864b73cc921a\">\n",
              "  <button class=\"colab-df-quickchart\" onclick=\"quickchart('df-4a622d16-edec-492d-b056-864b73cc921a')\"\n",
              "            title=\"Suggest charts\"\n",
              "            style=\"display:none;\">\n",
              "\n",
              "<svg xmlns=\"http://www.w3.org/2000/svg\" height=\"24px\"viewBox=\"0 0 24 24\"\n",
              "     width=\"24px\">\n",
              "    <g>\n",
              "        <path d=\"M19 3H5c-1.1 0-2 .9-2 2v14c0 1.1.9 2 2 2h14c1.1 0 2-.9 2-2V5c0-1.1-.9-2-2-2zM9 17H7v-7h2v7zm4 0h-2V7h2v10zm4 0h-2v-4h2v4z\"/>\n",
              "    </g>\n",
              "</svg>\n",
              "  </button>\n",
              "\n",
              "<style>\n",
              "  .colab-df-quickchart {\n",
              "      --bg-color: #E8F0FE;\n",
              "      --fill-color: #1967D2;\n",
              "      --hover-bg-color: #E2EBFA;\n",
              "      --hover-fill-color: #174EA6;\n",
              "      --disabled-fill-color: #AAA;\n",
              "      --disabled-bg-color: #DDD;\n",
              "  }\n",
              "\n",
              "  [theme=dark] .colab-df-quickchart {\n",
              "      --bg-color: #3B4455;\n",
              "      --fill-color: #D2E3FC;\n",
              "      --hover-bg-color: #434B5C;\n",
              "      --hover-fill-color: #FFFFFF;\n",
              "      --disabled-bg-color: #3B4455;\n",
              "      --disabled-fill-color: #666;\n",
              "  }\n",
              "\n",
              "  .colab-df-quickchart {\n",
              "    background-color: var(--bg-color);\n",
              "    border: none;\n",
              "    border-radius: 50%;\n",
              "    cursor: pointer;\n",
              "    display: none;\n",
              "    fill: var(--fill-color);\n",
              "    height: 32px;\n",
              "    padding: 0;\n",
              "    width: 32px;\n",
              "  }\n",
              "\n",
              "  .colab-df-quickchart:hover {\n",
              "    background-color: var(--hover-bg-color);\n",
              "    box-shadow: 0 1px 2px rgba(60, 64, 67, 0.3), 0 1px 3px 1px rgba(60, 64, 67, 0.15);\n",
              "    fill: var(--button-hover-fill-color);\n",
              "  }\n",
              "\n",
              "  .colab-df-quickchart-complete:disabled,\n",
              "  .colab-df-quickchart-complete:disabled:hover {\n",
              "    background-color: var(--disabled-bg-color);\n",
              "    fill: var(--disabled-fill-color);\n",
              "    box-shadow: none;\n",
              "  }\n",
              "\n",
              "  .colab-df-spinner {\n",
              "    border: 2px solid var(--fill-color);\n",
              "    border-color: transparent;\n",
              "    border-bottom-color: var(--fill-color);\n",
              "    animation:\n",
              "      spin 1s steps(1) infinite;\n",
              "  }\n",
              "\n",
              "  @keyframes spin {\n",
              "    0% {\n",
              "      border-color: transparent;\n",
              "      border-bottom-color: var(--fill-color);\n",
              "      border-left-color: var(--fill-color);\n",
              "    }\n",
              "    20% {\n",
              "      border-color: transparent;\n",
              "      border-left-color: var(--fill-color);\n",
              "      border-top-color: var(--fill-color);\n",
              "    }\n",
              "    30% {\n",
              "      border-color: transparent;\n",
              "      border-left-color: var(--fill-color);\n",
              "      border-top-color: var(--fill-color);\n",
              "      border-right-color: var(--fill-color);\n",
              "    }\n",
              "    40% {\n",
              "      border-color: transparent;\n",
              "      border-right-color: var(--fill-color);\n",
              "      border-top-color: var(--fill-color);\n",
              "    }\n",
              "    60% {\n",
              "      border-color: transparent;\n",
              "      border-right-color: var(--fill-color);\n",
              "    }\n",
              "    80% {\n",
              "      border-color: transparent;\n",
              "      border-right-color: var(--fill-color);\n",
              "      border-bottom-color: var(--fill-color);\n",
              "    }\n",
              "    90% {\n",
              "      border-color: transparent;\n",
              "      border-bottom-color: var(--fill-color);\n",
              "    }\n",
              "  }\n",
              "</style>\n",
              "\n",
              "  <script>\n",
              "    async function quickchart(key) {\n",
              "      const quickchartButtonEl =\n",
              "        document.querySelector('#' + key + ' button');\n",
              "      quickchartButtonEl.disabled = true;  // To prevent multiple clicks.\n",
              "      quickchartButtonEl.classList.add('colab-df-spinner');\n",
              "      try {\n",
              "        const charts = await google.colab.kernel.invokeFunction(\n",
              "            'suggestCharts', [key], {});\n",
              "      } catch (error) {\n",
              "        console.error('Error during call to suggestCharts:', error);\n",
              "      }\n",
              "      quickchartButtonEl.classList.remove('colab-df-spinner');\n",
              "      quickchartButtonEl.classList.add('colab-df-quickchart-complete');\n",
              "    }\n",
              "    (() => {\n",
              "      let quickchartButtonEl =\n",
              "        document.querySelector('#df-4a622d16-edec-492d-b056-864b73cc921a button');\n",
              "      quickchartButtonEl.style.display =\n",
              "        google.colab.kernel.accessAllowed ? 'block' : 'none';\n",
              "    })();\n",
              "  </script>\n",
              "</div>\n",
              "    </div>\n",
              "  </div>\n"
            ]
          },
          "metadata": {},
          "execution_count": 54
        }
      ]
    },
    {
      "cell_type": "code",
      "source": [
        "# summarize scores\n",
        "print('No Skill: ROC AUC=%.3f' % (ns_auc))\n",
        "print('Ensemble: ROC AUC=%.3f' % (lr_auc))\n",
        "\n",
        "# calculate roc curves\n",
        "ns_fpr, ns_tpr, _ = roc_curve(y_test, ns_probs)\n",
        "lr_fpr, lr_tpr, _ = roc_curve(y_test, y_pred)\n",
        "\n",
        "# plot the roc curve for the model\n",
        "fig = plt.figure(figsize=(3, 2))\n",
        "plt.plot(ns_fpr, ns_tpr, linestyle='--', color='orange', label='No Skill')\n",
        "plt.plot(lr_fpr, lr_tpr, marker='.', color='blue', label='Ensemble Model')\n",
        "\n",
        "# axis labels\n",
        "plt.xlabel('False Positive Rate')\n",
        "plt.ylabel('True Positive Rate')\n",
        "\n",
        "# show the legend\n",
        "plt.legend(fontsize = 9)\n",
        "\n",
        "# show the plot\n",
        "plt.show()"
      ],
      "metadata": {
        "colab": {
          "base_uri": "https://localhost:8080/",
          "height": 268
        },
        "id": "2mYUAGH0gRcG",
        "outputId": "96ffba56-bd0b-4d1b-da74-4bc8c3f6d225"
      },
      "execution_count": 55,
      "outputs": [
        {
          "output_type": "stream",
          "name": "stdout",
          "text": [
            "No Skill: ROC AUC=0.500\n",
            "Ensemble: ROC AUC=0.979\n"
          ]
        },
        {
          "output_type": "display_data",
          "data": {
            "text/plain": [
              "<Figure size 300x200 with 1 Axes>"
            ],
            "image/png": "[encoded data removed]"
          },
          "metadata": {}
        }
      ]
    }
  ]
}