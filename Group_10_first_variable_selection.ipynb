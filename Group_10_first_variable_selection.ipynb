{
  "nbformat": 4,
  "nbformat_minor": 0,
  "metadata": {
    "colab": {
      "provenance": []
    },
    "kernelspec": {
      "name": "python3",
      "display_name": "Python 3"
    },
    "language_info": {
      "name": "python"
    }
  },
  "cells": [
    {
      "cell_type": "markdown",
      "source": [
        "# EDS6340 - Introduction to Data Science - Project Phase 2\n",
        "\n",
        "## Group 10\n",
        "Achanta, Sai Praneeth | 2302324 <br>\n",
        "Montanez, Derek N | 1920577 <br>\n",
        "Sai Kiran Anugam | 2312298 <br>\n",
        "Sandeep Kokkula | 2102358 <br>\n",
        "Seelam, Gayathri | 2297215 <br>\n",
        "Venkata Kaushik Belusonti | 2284811"
      ],
      "metadata": {
        "id": "xNCKJ4xEfcEK"
      }
    },
    {
      "cell_type": "code",
      "source": [
        "# Mount Google Drive\n",
        "from google.colab import drive\n",
        "drive.mount('/content/drive')"
      ],
      "metadata": {
        "colab": {
          "base_uri": "https://localhost:8080/",
          "height": 0
        },
        "id": "N1E4-yJafoT2",
        "outputId": "b0489de4-910b-4757-c46c-9de0652f3a2a"
      },
      "execution_count": 20,
      "outputs": [
        {
          "output_type": "stream",
          "name": "stdout",
          "text": [
            "Drive already mounted at /content/drive; to attempt to forcibly remount, call drive.mount(\"/content/drive\", force_remount=True).\n"
          ]
        }
      ]
    },
    {
      "cell_type": "code",
      "execution_count": 21,
      "metadata": {
        "id": "1vpHKU7h7mn2"
      },
      "outputs": [],
      "source": [
        "# Import the necessary libraries\n",
        "import pandas as pd\n",
        "import numpy as np\n",
        "import matplotlib.pyplot as plt\n",
        "import seaborn as sns\n",
        "\n",
        "# Import machine learning models\n",
        "from sklearn.model_selection import train_test_split, GridSearchCV, RandomizedSearchCV\n",
        "from sklearn.linear_model import LogisticRegression, Lasso\n",
        "from sklearn.neighbors import KNeighborsClassifier\n",
        "from sklearn.ensemble import RandomForestClassifier, VotingClassifier\n",
        "from sklearn.svm import SVC\n",
        "from sklearn.tree import DecisionTreeClassifier\n",
        "from scipy.stats import randint\n",
        "from xgboost import XGBClassifier\n",
        "from sklearn.neural_network import MLPClassifier\n",
        "from sklearn.metrics import accuracy_score, precision_score, recall_score, f1_score, confusion_matrix\n",
        "from sklearn.feature_selection import SelectKBest, f_classif\n"
      ]
    },
    {
      "cell_type": "markdown",
      "source": [
        "### Review the cleaned dataset from Phase 2"
      ],
      "metadata": {
        "id": "vUT1mfiygOF6"
      }
    },
    {
      "cell_type": "code",
      "source": [
        "# Read the clean dataset\n",
        "df = pd.read_csv(\"/content/drive/MyDrive/Colab Notebooks/DS_Project_Group10/Secondary_Mushroom_Dataset/Group_10_Data_Cleaning.csv\")\n",
        "df = df.drop(['Unnamed: 0'], axis = 1)\n",
        "# Display the first few tuples of the dataset\n",
        "df.head()"
      ],
      "metadata": {
        "id": "C860tlkJ8sQT",
        "colab": {
          "base_uri": "https://localhost:8080/",
          "height": 221
        },
        "outputId": "2cecbdc2-2517-4597-fbb4-876597e4efc4"
      },
      "execution_count": 22,
      "outputs": [
        {
          "output_type": "execute_result",
          "data": {
            "text/plain": [
              "   class  cap-diameter  cap-shape  cap-surface  cap-color  \\\n",
              "0      1      2.340396          6            2          6   \n",
              "1      1      2.340396          6            2          6   \n",
              "2      1      2.053072          6            2          6   \n",
              "3      1      2.079925          2            3          1   \n",
              "4      1      2.206132          6            3          6   \n",
              "\n",
              "   does-bruise-or-bleed  gill-attachment  gill-color  stem-height  stem-width  \\\n",
              "0                     0                2          10     2.409448    0.675929   \n",
              "1                     0                2          10     2.409448    0.812813   \n",
              "2                     0                2          10     2.409448    0.756815   \n",
              "3                     0                2          10     2.409448    0.537799   \n",
              "4                     0                2          10     2.409448    0.689617   \n",
              "\n",
              "   stem-color  has-ring  ring-type  habitat  season  \n",
              "0          11         1          2        0       3  \n",
              "1          11         1          2        0       2  \n",
              "2          11         1          2        0       3  \n",
              "3          11         1          5        0       3  \n",
              "4          11         1          5        0       3  "
            ],
            "text/html": [
              "\n",
              "  <div id=\"df-94edb176-05a9-4df6-8967-d4bb4ba579b7\" class=\"colab-df-container\">\n",
              "    <div>\n",
              "<style scoped>\n",
              "    .dataframe tbody tr th:only-of-type {\n",
              "        vertical-align: middle;\n",
              "    }\n",
              "\n",
              "    .dataframe tbody tr th {\n",
              "        vertical-align: top;\n",
              "    }\n",
              "\n",
              "    .dataframe thead th {\n",
              "        text-align: right;\n",
              "    }\n",
              "</style>\n",
              "<table border=\"1\" class=\"dataframe\">\n",
              "  <thead>\n",
              "    <tr style=\"text-align: right;\">\n",
              "      <th></th>\n",
              "      <th>class</th>\n",
              "      <th>cap-diameter</th>\n",
              "      <th>cap-shape</th>\n",
              "      <th>cap-surface</th>\n",
              "      <th>cap-color</th>\n",
              "      <th>does-bruise-or-bleed</th>\n",
              "      <th>gill-attachment</th>\n",
              "      <th>gill-color</th>\n",
              "      <th>stem-height</th>\n",
              "      <th>stem-width</th>\n",
              "      <th>stem-color</th>\n",
              "      <th>has-ring</th>\n",
              "      <th>ring-type</th>\n",
              "      <th>habitat</th>\n",
              "      <th>season</th>\n",
              "    </tr>\n",
              "  </thead>\n",
              "  <tbody>\n",
              "    <tr>\n",
              "      <th>0</th>\n",
              "      <td>1</td>\n",
              "      <td>2.340396</td>\n",
              "      <td>6</td>\n",
              "      <td>2</td>\n",
              "      <td>6</td>\n",
              "      <td>0</td>\n",
              "      <td>2</td>\n",
              "      <td>10</td>\n",
              "      <td>2.409448</td>\n",
              "      <td>0.675929</td>\n",
              "      <td>11</td>\n",
              "      <td>1</td>\n",
              "      <td>2</td>\n",
              "      <td>0</td>\n",
              "      <td>3</td>\n",
              "    </tr>\n",
              "    <tr>\n",
              "      <th>1</th>\n",
              "      <td>1</td>\n",
              "      <td>2.340396</td>\n",
              "      <td>6</td>\n",
              "      <td>2</td>\n",
              "      <td>6</td>\n",
              "      <td>0</td>\n",
              "      <td>2</td>\n",
              "      <td>10</td>\n",
              "      <td>2.409448</td>\n",
              "      <td>0.812813</td>\n",
              "      <td>11</td>\n",
              "      <td>1</td>\n",
              "      <td>2</td>\n",
              "      <td>0</td>\n",
              "      <td>2</td>\n",
              "    </tr>\n",
              "    <tr>\n",
              "      <th>2</th>\n",
              "      <td>1</td>\n",
              "      <td>2.053072</td>\n",
              "      <td>6</td>\n",
              "      <td>2</td>\n",
              "      <td>6</td>\n",
              "      <td>0</td>\n",
              "      <td>2</td>\n",
              "      <td>10</td>\n",
              "      <td>2.409448</td>\n",
              "      <td>0.756815</td>\n",
              "      <td>11</td>\n",
              "      <td>1</td>\n",
              "      <td>2</td>\n",
              "      <td>0</td>\n",
              "      <td>3</td>\n",
              "    </tr>\n",
              "    <tr>\n",
              "      <th>3</th>\n",
              "      <td>1</td>\n",
              "      <td>2.079925</td>\n",
              "      <td>2</td>\n",
              "      <td>3</td>\n",
              "      <td>1</td>\n",
              "      <td>0</td>\n",
              "      <td>2</td>\n",
              "      <td>10</td>\n",
              "      <td>2.409448</td>\n",
              "      <td>0.537799</td>\n",
              "      <td>11</td>\n",
              "      <td>1</td>\n",
              "      <td>5</td>\n",
              "      <td>0</td>\n",
              "      <td>3</td>\n",
              "    </tr>\n",
              "    <tr>\n",
              "      <th>4</th>\n",
              "      <td>1</td>\n",
              "      <td>2.206132</td>\n",
              "      <td>6</td>\n",
              "      <td>3</td>\n",
              "      <td>6</td>\n",
              "      <td>0</td>\n",
              "      <td>2</td>\n",
              "      <td>10</td>\n",
              "      <td>2.409448</td>\n",
              "      <td>0.689617</td>\n",
              "      <td>11</td>\n",
              "      <td>1</td>\n",
              "      <td>5</td>\n",
              "      <td>0</td>\n",
              "      <td>3</td>\n",
              "    </tr>\n",
              "  </tbody>\n",
              "</table>\n",
              "</div>\n",
              "    <div class=\"colab-df-buttons\">\n",
              "\n",
              "  <div class=\"colab-df-container\">\n",
              "    <button class=\"colab-df-convert\" onclick=\"convertToInteractive('df-94edb176-05a9-4df6-8967-d4bb4ba579b7')\"\n",
              "            title=\"Convert this dataframe to an interactive table.\"\n",
              "            style=\"display:none;\">\n",
              "\n",
              "  <svg xmlns=\"http://www.w3.org/2000/svg\" height=\"24px\" viewBox=\"0 -960 960 960\">\n",
              "    <path d=\"M120-120v-720h720v720H120Zm60-500h600v-160H180v160Zm220 220h160v-160H400v160Zm0 220h160v-160H400v160ZM180-400h160v-160H180v160Zm440 0h160v-160H620v160ZM180-180h160v-160H180v160Zm440 0h160v-160H620v160Z\"/>\n",
              "  </svg>\n",
              "    </button>\n",
              "\n",
              "  <style>\n",
              "    .colab-df-container {\n",
              "      display:flex;\n",
              "      gap: 12px;\n",
              "    }\n",
              "\n",
              "    .colab-df-convert {\n",
              "      background-color: #E8F0FE;\n",
              "      border: none;\n",
              "      border-radius: 50%;\n",
              "      cursor: pointer;\n",
              "      display: none;\n",
              "      fill: #1967D2;\n",
              "      height: 32px;\n",
              "      padding: 0 0 0 0;\n",
              "      width: 32px;\n",
              "    }\n",
              "\n",
              "    .colab-df-convert:hover {\n",
              "      background-color: #E2EBFA;\n",
              "      box-shadow: 0px 1px 2px rgba(60, 64, 67, 0.3), 0px 1px 3px 1px rgba(60, 64, 67, 0.15);\n",
              "      fill: #174EA6;\n",
              "    }\n",
              "\n",
              "    .colab-df-buttons div {\n",
              "      margin-bottom: 4px;\n",
              "    }\n",
              "\n",
              "    [theme=dark] .colab-df-convert {\n",
              "      background-color: #3B4455;\n",
              "      fill: #D2E3FC;\n",
              "    }\n",
              "\n",
              "    [theme=dark] .colab-df-convert:hover {\n",
              "      background-color: #434B5C;\n",
              "      box-shadow: 0px 1px 3px 1px rgba(0, 0, 0, 0.15);\n",
              "      filter: drop-shadow(0px 1px 2px rgba(0, 0, 0, 0.3));\n",
              "      fill: #FFFFFF;\n",
              "    }\n",
              "  </style>\n",
              "\n",
              "    <script>\n",
              "      const buttonEl =\n",
              "        document.querySelector('#df-94edb176-05a9-4df6-8967-d4bb4ba579b7 button.colab-df-convert');\n",
              "      buttonEl.style.display =\n",
              "        google.colab.kernel.accessAllowed ? 'block' : 'none';\n",
              "\n",
              "      async function convertToInteractive(key) {\n",
              "        const element = document.querySelector('#df-94edb176-05a9-4df6-8967-d4bb4ba579b7');\n",
              "        const dataTable =\n",
              "          await google.colab.kernel.invokeFunction('convertToInteractive',\n",
              "                                                    [key], {});\n",
              "        if (!dataTable) return;\n",
              "\n",
              "        const docLinkHtml = 'Like what you see? Visit the ' +\n",
              "          '<a target=\"_blank\" href=https://colab.research.google.com/notebooks/data_table.ipynb>data table notebook</a>'\n",
              "          + ' to learn more about interactive tables.';\n",
              "        element.innerHTML = '';\n",
              "        dataTable['output_type'] = 'display_data';\n",
              "        await google.colab.output.renderOutput(dataTable, element);\n",
              "        const docLink = document.createElement('div');\n",
              "        docLink.innerHTML = docLinkHtml;\n",
              "        element.appendChild(docLink);\n",
              "      }\n",
              "    </script>\n",
              "  </div>\n",
              "\n",
              "\n",
              "<div id=\"df-fa29bd7d-3a30-4ccf-9a4f-eab888687214\">\n",
              "  <button class=\"colab-df-quickchart\" onclick=\"quickchart('df-fa29bd7d-3a30-4ccf-9a4f-eab888687214')\"\n",
              "            title=\"Suggest charts\"\n",
              "            style=\"display:none;\">\n",
              "\n",
              "<svg xmlns=\"http://www.w3.org/2000/svg\" height=\"24px\"viewBox=\"0 0 24 24\"\n",
              "     width=\"24px\">\n",
              "    <g>\n",
              "        <path d=\"M19 3H5c-1.1 0-2 .9-2 2v14c0 1.1.9 2 2 2h14c1.1 0 2-.9 2-2V5c0-1.1-.9-2-2-2zM9 17H7v-7h2v7zm4 0h-2V7h2v10zm4 0h-2v-4h2v4z\"/>\n",
              "    </g>\n",
              "</svg>\n",
              "  </button>\n",
              "\n",
              "<style>\n",
              "  .colab-df-quickchart {\n",
              "      --bg-color: #E8F0FE;\n",
              "      --fill-color: #1967D2;\n",
              "      --hover-bg-color: #E2EBFA;\n",
              "      --hover-fill-color: #174EA6;\n",
              "      --disabled-fill-color: #AAA;\n",
              "      --disabled-bg-color: #DDD;\n",
              "  }\n",
              "\n",
              "  [theme=dark] .colab-df-quickchart {\n",
              "      --bg-color: #3B4455;\n",
              "      --fill-color: #D2E3FC;\n",
              "      --hover-bg-color: #434B5C;\n",
              "      --hover-fill-color: #FFFFFF;\n",
              "      --disabled-bg-color: #3B4455;\n",
              "      --disabled-fill-color: #666;\n",
              "  }\n",
              "\n",
              "  .colab-df-quickchart {\n",
              "    background-color: var(--bg-color);\n",
              "    border: none;\n",
              "    border-radius: 50%;\n",
              "    cursor: pointer;\n",
              "    display: none;\n",
              "    fill: var(--fill-color);\n",
              "    height: 32px;\n",
              "    padding: 0;\n",
              "    width: 32px;\n",
              "  }\n",
              "\n",
              "  .colab-df-quickchart:hover {\n",
              "    background-color: var(--hover-bg-color);\n",
              "    box-shadow: 0 1px 2px rgba(60, 64, 67, 0.3), 0 1px 3px 1px rgba(60, 64, 67, 0.15);\n",
              "    fill: var(--button-hover-fill-color);\n",
              "  }\n",
              "\n",
              "  .colab-df-quickchart-complete:disabled,\n",
              "  .colab-df-quickchart-complete:disabled:hover {\n",
              "    background-color: var(--disabled-bg-color);\n",
              "    fill: var(--disabled-fill-color);\n",
              "    box-shadow: none;\n",
              "  }\n",
              "\n",
              "  .colab-df-spinner {\n",
              "    border: 2px solid var(--fill-color);\n",
              "    border-color: transparent;\n",
              "    border-bottom-color: var(--fill-color);\n",
              "    animation:\n",
              "      spin 1s steps(1) infinite;\n",
              "  }\n",
              "\n",
              "  @keyframes spin {\n",
              "    0% {\n",
              "      border-color: transparent;\n",
              "      border-bottom-color: var(--fill-color);\n",
              "      border-left-color: var(--fill-color);\n",
              "    }\n",
              "    20% {\n",
              "      border-color: transparent;\n",
              "      border-left-color: var(--fill-color);\n",
              "      border-top-color: var(--fill-color);\n",
              "    }\n",
              "    30% {\n",
              "      border-color: transparent;\n",
              "      border-left-color: var(--fill-color);\n",
              "      border-top-color: var(--fill-color);\n",
              "      border-right-color: var(--fill-color);\n",
              "    }\n",
              "    40% {\n",
              "      border-color: transparent;\n",
              "      border-right-color: var(--fill-color);\n",
              "      border-top-color: var(--fill-color);\n",
              "    }\n",
              "    60% {\n",
              "      border-color: transparent;\n",
              "      border-right-color: var(--fill-color);\n",
              "    }\n",
              "    80% {\n",
              "      border-color: transparent;\n",
              "      border-right-color: var(--fill-color);\n",
              "      border-bottom-color: var(--fill-color);\n",
              "    }\n",
              "    90% {\n",
              "      border-color: transparent;\n",
              "      border-bottom-color: var(--fill-color);\n",
              "    }\n",
              "  }\n",
              "</style>\n",
              "\n",
              "  <script>\n",
              "    async function quickchart(key) {\n",
              "      const quickchartButtonEl =\n",
              "        document.querySelector('#' + key + ' button');\n",
              "      quickchartButtonEl.disabled = true;  // To prevent multiple clicks.\n",
              "      quickchartButtonEl.classList.add('colab-df-spinner');\n",
              "      try {\n",
              "        const charts = await google.colab.kernel.invokeFunction(\n",
              "            'suggestCharts', [key], {});\n",
              "      } catch (error) {\n",
              "        console.error('Error during call to suggestCharts:', error);\n",
              "      }\n",
              "      quickchartButtonEl.classList.remove('colab-df-spinner');\n",
              "      quickchartButtonEl.classList.add('colab-df-quickchart-complete');\n",
              "    }\n",
              "    (() => {\n",
              "      let quickchartButtonEl =\n",
              "        document.querySelector('#df-fa29bd7d-3a30-4ccf-9a4f-eab888687214 button');\n",
              "      quickchartButtonEl.style.display =\n",
              "        google.colab.kernel.accessAllowed ? 'block' : 'none';\n",
              "    })();\n",
              "  </script>\n",
              "</div>\n",
              "    </div>\n",
              "  </div>\n"
            ]
          },
          "metadata": {},
          "execution_count": 22
        }
      ]
    },
    {
      "cell_type": "code",
      "source": [
        "# Display the column information\n",
        "df.info()"
      ],
      "metadata": {
        "colab": {
          "base_uri": "https://localhost:8080/",
          "height": 0
        },
        "id": "1qps3MzsgUiu",
        "outputId": "12528b94-84bf-47a1-8f9f-6609d1c2b9cf"
      },
      "execution_count": 23,
      "outputs": [
        {
          "output_type": "stream",
          "name": "stdout",
          "text": [
            "<class 'pandas.core.frame.DataFrame'>\n",
            "RangeIndex: 60923 entries, 0 to 60922\n",
            "Data columns (total 15 columns):\n",
            " #   Column                Non-Null Count  Dtype  \n",
            "---  ------                --------------  -----  \n",
            " 0   class                 60923 non-null  int64  \n",
            " 1   cap-diameter          60923 non-null  float64\n",
            " 2   cap-shape             60923 non-null  int64  \n",
            " 3   cap-surface           60923 non-null  int64  \n",
            " 4   cap-color             60923 non-null  int64  \n",
            " 5   does-bruise-or-bleed  60923 non-null  int64  \n",
            " 6   gill-attachment       60923 non-null  int64  \n",
            " 7   gill-color            60923 non-null  int64  \n",
            " 8   stem-height           60923 non-null  float64\n",
            " 9   stem-width            60923 non-null  float64\n",
            " 10  stem-color            60923 non-null  int64  \n",
            " 11  has-ring              60923 non-null  int64  \n",
            " 12  ring-type             60923 non-null  int64  \n",
            " 13  habitat               60923 non-null  int64  \n",
            " 14  season                60923 non-null  int64  \n",
            "dtypes: float64(3), int64(12)\n",
            "memory usage: 7.0 MB\n"
          ]
        }
      ]
    },
    {
      "cell_type": "markdown",
      "source": [],
      "metadata": {
        "id": "r_lnCyMl01IT"
      }
    },
    {
      "cell_type": "markdown",
      "source": [
        "#### Split the features into predicted features and target feature"
      ],
      "metadata": {
        "id": "wb3xgIfXiPB-"
      }
    },
    {
      "cell_type": "code",
      "source": [
        "# Split the features to predicted (X) and target (y)\n",
        "X = df.drop('class', axis=1)\n",
        "y = df['class']"
      ],
      "metadata": {
        "id": "gxRmXIU2iJ92"
      },
      "execution_count": 24,
      "outputs": []
    },
    {
      "cell_type": "markdown",
      "source": [
        "#### Dataset splitted to Train (80%) and Test (20%)"
      ],
      "metadata": {
        "id": "DvpFe68ziWo1"
      }
    },
    {
      "cell_type": "code",
      "source": [
        "# Split the dataset into train and test\n",
        "#X_train, X_test, y_train, y_test = train_test_split(X, y, test_size=0.2, random_state=42)\n",
        "\n",
        "# Read the data from pickles\n",
        "X_train = pd.read_pickle(\"/content/drive/MyDrive/Colab Notebooks/DS_Project_Group10/ipynb_Files/dummy_Xtrain.pkl\")\n",
        "X_test = pd.read_pickle(\"/content/drive/MyDrive/Colab Notebooks/DS_Project_Group10/ipynb_Files/dummy_Xtest.pkl\")\n",
        "y_train = pd.read_pickle(\"/content/drive/MyDrive/Colab Notebooks/DS_Project_Group10/ipynb_Files/dummy_ytrain.pkl\")\n",
        "y_test = pd.read_pickle(\"/content/drive/MyDrive/Colab Notebooks/DS_Project_Group10/ipynb_Files/dummy_ytest.pkl\")"
      ],
      "metadata": {
        "id": "LvNnj0GRiXsu"
      },
      "execution_count": 25,
      "outputs": []
    },
    {
      "cell_type": "markdown",
      "source": [
        "### Define functions to estimate the performance metrics\n"
      ],
      "metadata": {
        "id": "UjvhN_3yifDn"
      }
    },
    {
      "cell_type": "code",
      "source": [
        "# Function for perfromance metric of data\n",
        "def Perf_Metric(Actual_Ouput, Prediction_Output):\n",
        "  # Actual_Ouput is the actual output of training data taken from the dataset\n",
        "  # TrainData_Prediction is the predicted output from the model for the training data\n",
        "  Accuracy = round(accuracy_score(Actual_Ouput, Prediction_Output),3)\n",
        "  F1Score = round(f1_score(Actual_Ouput, Prediction_Output),3)\n",
        "  Precision = round(precision_score(Actual_Ouput, Prediction_Output),3)\n",
        "  Recall = round(recall_score(Actual_Ouput, Prediction_Output),3)\n",
        "  return [Accuracy, F1Score, Precision, Recall]"
      ],
      "metadata": {
        "id": "q3ElR8R6igJU"
      },
      "execution_count": 26,
      "outputs": []
    },
    {
      "cell_type": "markdown",
      "source": [
        "# Step 2 - Variable Selection"
      ],
      "metadata": {
        "id": "-FM_P8HeL-po"
      }
    },
    {
      "cell_type": "markdown",
      "source": [
        "1. XGBoost:\n",
        "* XGBoost is an optimized gradient boosting algorithm used for supervised learning tasks.\n",
        "* Suited for both regression and classification problems, especially with structured/tabular data.\n",
        "* It's an advanced boosting method that iteratively builds an ensemble of weak learners to make accurate predictions by learning from data patterns.\n",
        "2. Extreme Learning Machine Model:\n",
        "*  Extreme Learning Machines (ELMs) are single-layer feedforward neural networks.\n",
        "* Efficient for regression and classification tasks, particularly with large-scale datasets.\n",
        "* ELMs initialize input weights randomly, compute output weights analytically, and deliver rapid learning with minimal hyperparameter tuning.\n",
        "3. Basic Deep Learning Model with Two Hidden Layers:\n",
        "* A basic neural network architecture comprising an input layer, a hidden layer, and an output layer.\n",
        "* Suitable for diverse problems, learning complex patterns from data in supervised settings.\n",
        "* This model extracts hierarchical representations from data, making it effective for various machine learning tasks."
      ],
      "metadata": {
        "id": "4Jv90hwWYmUP"
      }
    },
    {
      "cell_type": "markdown",
      "source": [
        "## Lasso Technique"
      ],
      "metadata": {
        "id": "j_CcuHwTMGzR"
      }
    },
    {
      "cell_type": "markdown",
      "source": [
        "Lasso technique estimates the importance, lasso coefficient of the features on the target variable. The closer the lasso coefficient to zero means the lesser the importance of the variable."
      ],
      "metadata": {
        "id": "j-xs0-zoRwbX"
      }
    },
    {
      "cell_type": "code",
      "source": [
        "# Lasso model to estimate the best features\n",
        "lasso_model = Lasso(alpha=0.001)\n",
        "lasso_model.fit(X, y)\n",
        "\n",
        "# Estimate the lasso coefficients and make all to positive for better representation\n",
        "#lasso_coef = np.abs(lasso_model.coef_)\n",
        "lasso_coef = lasso_model.coef_\n",
        "\n",
        "# Select features with non-zero coefficients\n",
        "selected_features = X_train.columns[lasso_model.coef_ != 0]\n",
        "\n",
        "# plotting the Column Names and Importance of Columns.\n",
        "plt.bar(list(selected_features), lasso_coef)\n",
        "#plt.grid()\n",
        "plt.title(\"Feature Selection Based on Lasso\")\n",
        "plt.xlabel(\"Features\")\n",
        "plt.ylabel(\"Importance\")\n",
        "plt.xticks(rotation=45, ha='right')  # Rotate x-axis labels for better visibility\n",
        "plt.show()\n",
        "\n"
      ],
      "metadata": {
        "colab": {
          "base_uri": "https://localhost:8080/",
          "height": 569
        },
        "id": "hDfOsJNmMF6a",
        "outputId": "08f57819-9434-4816-e9ec-2881f71167e6"
      },
      "execution_count": 27,
      "outputs": [
        {
          "output_type": "display_data",
          "data": {
            "text/plain": [
              "<Figure size 640x480 with 1 Axes>"
            ],
            "image/png": "[encoded data removed]"
          },
          "metadata": {}
        }
      ]
    },
    {
      "cell_type": "markdown",
      "source": [
        "There are four features which has importance value less than 0.1. So. eliminating the features with importance magnitude less than 0.008."
      ],
      "metadata": {
        "id": "JzYBME1Qra8c"
      }
    },
    {
      "cell_type": "code",
      "source": [
        "# Select features with magnitude of coefficients greater than 0.1\n",
        "selected_features = X_train.columns[abs(lasso_model.coef_) > 0.008]\n",
        "# Display selected features\n",
        "selected_features"
      ],
      "metadata": {
        "colab": {
          "base_uri": "https://localhost:8080/",
          "height": 0
        },
        "id": "gBurJyZTjRdB",
        "outputId": "605fc02d-69c8-4bac-c358-3255cc8dd66a"
      },
      "execution_count": 28,
      "outputs": [
        {
          "output_type": "execute_result",
          "data": {
            "text/plain": [
              "Index(['cap-diameter', 'cap-shape', 'cap-color', 'does-bruise-or-bleed',\n",
              "       'stem-width', 'stem-color', 'has-ring', 'ring-type', 'habitat',\n",
              "       'season'],\n",
              "      dtype='object')"
            ]
          },
          "metadata": {},
          "execution_count": 28
        }
      ]
    },
    {
      "cell_type": "markdown",
      "source": [
        "Observation: 10 of the 15 feaures selected using Lasso"
      ],
      "metadata": {
        "id": "j436jKOk2DjH"
      }
    },
    {
      "cell_type": "markdown",
      "source": [
        "## KNN"
      ],
      "metadata": {
        "id": "Ms4ivhCl2lmg"
      }
    },
    {
      "cell_type": "code",
      "source": [
        "# Instantiate KNN model\n",
        "knn_model = KNeighborsClassifier(n_neighbors=3)\n",
        "# Fit KNN model\n",
        "knn_model.fit(X, y)\n",
        "\n",
        "# Select top k features based on ANOVA F-statistic\n",
        "knn_feature_selection = SelectKBest(score_func=f_classif, k=5)\n",
        "X_knn = knn_feature_selection.fit_transform(X, y)\n",
        "\n",
        "# Display selected features\n",
        "selected_features_knn = pd.DataFrame(knn_feature_selection.get_support(), index=X.columns, columns=['Selected'])\n",
        "print(selected_features_knn)"
      ],
      "metadata": {
        "colab": {
          "base_uri": "https://localhost:8080/",
          "height": 0
        },
        "id": "3bjopKT_2uvo",
        "outputId": "b208e88d-8d3b-4622-f022-b9b9e8def2f0"
      },
      "execution_count": 29,
      "outputs": [
        {
          "output_type": "stream",
          "name": "stdout",
          "text": [
            "                      Selected\n",
            "cap-diameter              True\n",
            "cap-shape                 True\n",
            "cap-surface              False\n",
            "cap-color                False\n",
            "does-bruise-or-bleed     False\n",
            "gill-attachment          False\n",
            "gill-color               False\n",
            "stem-height              False\n",
            "stem-width                True\n",
            "stem-color                True\n",
            "has-ring                 False\n",
            "ring-type                 True\n",
            "habitat                  False\n",
            "season                   False\n"
          ]
        }
      ]
    },
    {
      "cell_type": "markdown",
      "source": [
        "Observation: Less features are selected when compared to Lasso. Ignoring KNN as Lasso has advantages"
      ],
      "metadata": {
        "id": "WpwKqmdZ2_sK"
      }
    },
    {
      "cell_type": "markdown",
      "source": [
        "## Correlation"
      ],
      "metadata": {
        "id": "MzwT0eW13Jyu"
      }
    },
    {
      "cell_type": "code",
      "source": [
        "# Calculate the correlation matrix\n",
        "correlation_matrix = X.corr()\n",
        "\n",
        "# Set a threshold for correlation (e.g., 0.7)\n",
        "threshold = 0.7\n",
        "\n",
        "# Find and drop highly correlated features\n",
        "highly_correlated_features = set()\n",
        "for i in range(len(correlation_matrix.columns)):\n",
        "    for j in range(i):\n",
        "        if abs(correlation_matrix.iloc[i, j]) > threshold:\n",
        "            colname = correlation_matrix.columns[i]\n",
        "            highly_correlated_features.add(colname)\n",
        "\n",
        "X_correlation = X.drop(columns=highly_correlated_features)\n",
        "\n",
        "# Display selected features\n",
        "selected_features_correlation = pd.DataFrame(X_correlation.columns, columns=['Selected'])\n",
        "print(selected_features_correlation)"
      ],
      "metadata": {
        "colab": {
          "base_uri": "https://localhost:8080/",
          "height": 0
        },
        "id": "tETQ9VTD3SNB",
        "outputId": "59ddc937-6871-47ed-d03c-4170c4e73df5"
      },
      "execution_count": 30,
      "outputs": [
        {
          "output_type": "stream",
          "name": "stdout",
          "text": [
            "                Selected\n",
            "0           cap-diameter\n",
            "1              cap-shape\n",
            "2            cap-surface\n",
            "3              cap-color\n",
            "4   does-bruise-or-bleed\n",
            "5        gill-attachment\n",
            "6             gill-color\n",
            "7            stem-height\n",
            "8             stem-color\n",
            "9               has-ring\n",
            "10             ring-type\n",
            "11               habitat\n",
            "12                season\n"
          ]
        }
      ]
    },
    {
      "cell_type": "code",
      "source": [
        "# Correlation coefficient plot\n",
        "plt.figure(figsize=(4, 4))\n",
        "sns.barplot(x = df.corr()['class'], y=df.corr()['class'].index)\n",
        "plt.title(\"Correlation coefficient of features with repect to Target Variable, class\", fontsize=15)\n",
        "plt.xlabel(\"Correlation coeffiecient\")\n",
        "plt.ylabel(\"Feature Name / Target Variable Name\")"
      ],
      "metadata": {
        "colab": {
          "base_uri": "https://localhost:8080/",
          "height": 429
        },
        "id": "QVaSEaotHNax",
        "outputId": "9ad8b8a6-01c9-4eee-e746-3322868a6a34"
      },
      "execution_count": 31,
      "outputs": [
        {
          "output_type": "execute_result",
          "data": {
            "text/plain": [
              "Text(0, 0.5, 'Feature Name / Target Variable Name')"
            ]
          },
          "metadata": {},
          "execution_count": 31
        },
        {
          "output_type": "display_data",
          "data": {
            "text/plain": [
              "<Figure size 400x400 with 1 Axes>"
            ],
            "image/png": "[encoded data removed]"
          },
          "metadata": {}
        }
      ]
    },
    {
      "cell_type": "markdown",
      "source": [
        "Observation: More features are selected when compared to Lasso as high correlation coefficient of 0.7 is considered."
      ],
      "metadata": {
        "id": "No-2Skm83sty"
      }
    },
    {
      "cell_type": "markdown",
      "source": [
        "### Why Lasso over KNN and Correlation for Feature Selection?\n",
        "From the  lasso feature selection output we can observe that features like \"stem-width,\" \"stem-color,\" and \"ring-type\" were selected, while other potentially correlated features like \"stem-height\" and \"has-ring\" were excluded. This is the example for elimination of multicollinearity. This is nothing but indicating that these features contribute significantly to the model. Other correlated features like \"stem-height\" and \"has-ring\" were effectively eliminated by assigning coefficients close to zero reducing redundancy. <br>\n",
        "This is in contrast to KNN, which inherently considers all features without explicitly handling multicollinearity, and correlation-based methods that might not address the issue directly. <br>\n",
        "Lasso's ability to balance simplicity, interpretability, encourages sparsity helps to classify whether mushroom is edible or poisonous"
      ],
      "metadata": {
        "id": "ywhvZeyB31H1"
      }
    },
    {
      "cell_type": "markdown",
      "source": [
        "### Selected features from Lasso"
      ],
      "metadata": {
        "id": "0PHhSQRf5Qgi"
      }
    },
    {
      "cell_type": "code",
      "source": [
        "# Get the training and test data for the selected features\n",
        "X_train_selected = X_train[selected_features]\n",
        "X_test_selected = X_test[selected_features]\n",
        "X_train_selected.info()"
      ],
      "metadata": {
        "colab": {
          "base_uri": "https://localhost:8080/",
          "height": 0
        },
        "id": "GKT77mMq4UkB",
        "outputId": "953e5352-0385-4b6a-d6d6-fe5a4edb9ccb"
      },
      "execution_count": 32,
      "outputs": [
        {
          "output_type": "stream",
          "name": "stdout",
          "text": [
            "<class 'pandas.core.frame.DataFrame'>\n",
            "Int64Index: 48738 entries, 8113 to 56422\n",
            "Data columns (total 10 columns):\n",
            " #   Column                Non-Null Count  Dtype  \n",
            "---  ------                --------------  -----  \n",
            " 0   cap-diameter          48738 non-null  float64\n",
            " 1   cap-shape             48738 non-null  int64  \n",
            " 2   cap-color             48738 non-null  int64  \n",
            " 3   does-bruise-or-bleed  48738 non-null  int64  \n",
            " 4   stem-width            48738 non-null  float64\n",
            " 5   stem-color            48738 non-null  int64  \n",
            " 6   has-ring              48738 non-null  int64  \n",
            " 7   ring-type             48738 non-null  int64  \n",
            " 8   habitat               48738 non-null  int64  \n",
            " 9   season                48738 non-null  int64  \n",
            "dtypes: float64(2), int64(8)\n",
            "memory usage: 4.1 MB\n"
          ]
        }
      ]
    },
    {
      "cell_type": "markdown",
      "source": [],
      "metadata": {
        "id": "nHDfkUs35iA_"
      }
    },
    {
      "cell_type": "markdown",
      "source": [
        "# Step-3 Model structure selection to tune hyper-parameters"
      ],
      "metadata": {
        "id": "drDcy974d9_n"
      }
    },
    {
      "cell_type": "markdown",
      "source": [
        "## Best Random Forest hypertuning parameters estimation with randomized serach\n",
        "\n",
        "\n"
      ],
      "metadata": {
        "id": "zn6HQiO62ea8"
      }
    },
    {
      "cell_type": "code",
      "source": [
        "# Random Forest before randomized serach\n",
        "# Fit the model from training data using Random Forest\n",
        "model = RandomForestClassifier()\n",
        "rf_bef_random = model.fit(X_train_selected, y_train)\n",
        "\n",
        "# Model fit with training data\n",
        "#y_train_predict = rf_bef_random.predict(X_train)\n",
        "# Make predictions on the test data\n",
        "rf_y_pred_bef_random = rf_bef_random.predict(X_test_selected)\n",
        "\n",
        "# Evaluate the model after Randomized Search\n",
        "accuracy_rf_bef_random = accuracy_score(y_test, rf_y_pred_bef_random)\n",
        "print(f'Random Forest Accuracy before Randomized Search: {accuracy_rf_bef_random:.4f}')"
      ],
      "metadata": {
        "colab": {
          "base_uri": "https://localhost:8080/",
          "height": 0
        },
        "id": "C6z11OT40L5h",
        "outputId": "e0737b20-a5e9-4261-bcc2-d196526a7909"
      },
      "execution_count": 33,
      "outputs": [
        {
          "output_type": "stream",
          "name": "stdout",
          "text": [
            "Random Forest Accuracy before Randomized Search: 0.9794\n"
          ]
        }
      ]
    },
    {
      "cell_type": "code",
      "source": [
        "# Randomized Search for Random Forest\n",
        "param_dist_rf = {\n",
        "    'n_estimators': [50, 100, 150, 200],\n",
        "    'max_depth': [None, 10, 20, 30],\n",
        "    'min_samples_split': [2, 5, 10],\n",
        "    'min_samples_leaf': [1, 2, 4]\n",
        "}\n",
        "\n",
        "random_search_rf = RandomizedSearchCV(estimator=RandomForestClassifier(), param_distributions=param_dist_rf,\n",
        "                                       n_iter=10, cv=5, scoring='accuracy', random_state=42)\n",
        "random_search_rf.fit(X_train_selected, y_train)"
      ],
      "metadata": {
        "colab": {
          "base_uri": "https://localhost:8080/",
          "height": 115
        },
        "id": "uhQPnfxjxN0Y",
        "outputId": "bb86f9a1-d33c-4c0e-caa0-1ef97d103a59"
      },
      "execution_count": 34,
      "outputs": [
        {
          "output_type": "execute_result",
          "data": {
            "text/plain": [
              "RandomizedSearchCV(cv=5, estimator=RandomForestClassifier(),\n",
              "                   param_distributions={'max_depth': [None, 10, 20, 30],\n",
              "                                        'min_samples_leaf': [1, 2, 4],\n",
              "                                        'min_samples_split': [2, 5, 10],\n",
              "                                        'n_estimators': [50, 100, 150, 200]},\n",
              "                   random_state=42, scoring='accuracy')"
            ],
            "text/html": [
              "<style>#sk-container-id-1 {color: black;background-color: white;}#sk-container-id-1 pre{padding: 0;}#sk-container-id-1 div.sk-toggleable {background-color: white;}#sk-container-id-1 label.sk-toggleable__label {cursor: pointer;display: block;width: 100%;margin-bottom: 0;padding: 0.3em;box-sizing: border-box;text-align: center;}#sk-container-id-1 label.sk-toggleable__label-arrow:before {content: \"▸\";float: left;margin-right: 0.25em;color: #696969;}#sk-container-id-1 label.sk-toggleable__label-arrow:hover:before {color: black;}#sk-container-id-1 div.sk-estimator:hover label.sk-toggleable__label-arrow:before {color: black;}#sk-container-id-1 div.sk-toggleable__content {max-height: 0;max-width: 0;overflow: hidden;text-align: left;background-color: #f0f8ff;}#sk-container-id-1 div.sk-toggleable__content pre {margin: 0.2em;color: black;border-radius: 0.25em;background-color: #f0f8ff;}#sk-container-id-1 input.sk-toggleable__control:checked~div.sk-toggleable__content {max-height: 200px;max-width: 100%;overflow: auto;}#sk-container-id-1 input.sk-toggleable__control:checked~label.sk-toggleable__label-arrow:before {content: \"▾\";}#sk-container-id-1 div.sk-estimator input.sk-toggleable__control:checked~label.sk-toggleable__label {background-color: #d4ebff;}#sk-container-id-1 div.sk-label input.sk-toggleable__control:checked~label.sk-toggleable__label {background-color: #d4ebff;}#sk-container-id-1 input.sk-hidden--visually {border: 0;clip: rect(1px 1px 1px 1px);clip: rect(1px, 1px, 1px, 1px);height: 1px;margin: -1px;overflow: hidden;padding: 0;position: absolute;width: 1px;}#sk-container-id-1 div.sk-estimator {font-family: monospace;background-color: #f0f8ff;border: 1px dotted black;border-radius: 0.25em;box-sizing: border-box;margin-bottom: 0.5em;}#sk-container-id-1 div.sk-estimator:hover {background-color: #d4ebff;}#sk-container-id-1 div.sk-parallel-item::after {content: \"\";width: 100%;border-bottom: 1px solid gray;flex-grow: 1;}#sk-container-id-1 div.sk-label:hover label.sk-toggleable__label {background-color: #d4ebff;}#sk-container-id-1 div.sk-serial::before {content: \"\";position: absolute;border-left: 1px solid gray;box-sizing: border-box;top: 0;bottom: 0;left: 50%;z-index: 0;}#sk-container-id-1 div.sk-serial {display: flex;flex-direction: column;align-items: center;background-color: white;padding-right: 0.2em;padding-left: 0.2em;position: relative;}#sk-container-id-1 div.sk-item {position: relative;z-index: 1;}#sk-container-id-1 div.sk-parallel {display: flex;align-items: stretch;justify-content: center;background-color: white;position: relative;}#sk-container-id-1 div.sk-item::before, #sk-container-id-1 div.sk-parallel-item::before {content: \"\";position: absolute;border-left: 1px solid gray;box-sizing: border-box;top: 0;bottom: 0;left: 50%;z-index: -1;}#sk-container-id-1 div.sk-parallel-item {display: flex;flex-direction: column;z-index: 1;position: relative;background-color: white;}#sk-container-id-1 div.sk-parallel-item:first-child::after {align-self: flex-end;width: 50%;}#sk-container-id-1 div.sk-parallel-item:last-child::after {align-self: flex-start;width: 50%;}#sk-container-id-1 div.sk-parallel-item:only-child::after {width: 0;}#sk-container-id-1 div.sk-dashed-wrapped {border: 1px dashed gray;margin: 0 0.4em 0.5em 0.4em;box-sizing: border-box;padding-bottom: 0.4em;background-color: white;}#sk-container-id-1 div.sk-label label {font-family: monospace;font-weight: bold;display: inline-block;line-height: 1.2em;}#sk-container-id-1 div.sk-label-container {text-align: center;}#sk-container-id-1 div.sk-container {/* jupyter's `normalize.less` sets `[hidden] { display: none; }` but bootstrap.min.css set `[hidden] { display: none !important; }` so we also need the `!important` here to be able to override the default hidden behavior on the sphinx rendered scikit-learn.org. See: https://github.com/scikit-learn/scikit-learn/issues/21755 */display: inline-block !important;position: relative;}#sk-container-id-1 div.sk-text-repr-fallback {display: none;}</style><div id=\"sk-container-id-1\" class=\"sk-top-container\"><div class=\"sk-text-repr-fallback\"><pre>RandomizedSearchCV(cv=5, estimator=RandomForestClassifier(),\n",
              "                   param_distributions={&#x27;max_depth&#x27;: [None, 10, 20, 30],\n",
              "                                        &#x27;min_samples_leaf&#x27;: [1, 2, 4],\n",
              "                                        &#x27;min_samples_split&#x27;: [2, 5, 10],\n",
              "                                        &#x27;n_estimators&#x27;: [50, 100, 150, 200]},\n",
              "                   random_state=42, scoring=&#x27;accuracy&#x27;)</pre><b>In a Jupyter environment, please rerun this cell to show the HTML representation or trust the notebook. <br />On GitHub, the HTML representation is unable to render, please try loading this page with nbviewer.org.</b></div><div class=\"sk-container\" hidden><div class=\"sk-item sk-dashed-wrapped\"><div class=\"sk-label-container\"><div class=\"sk-label sk-toggleable\"><input class=\"sk-toggleable__control sk-hidden--visually\" id=\"sk-estimator-id-1\" type=\"checkbox\" ><label for=\"sk-estimator-id-1\" class=\"sk-toggleable__label sk-toggleable__label-arrow\">RandomizedSearchCV</label><div class=\"sk-toggleable__content\"><pre>RandomizedSearchCV(cv=5, estimator=RandomForestClassifier(),\n",
              "                   param_distributions={&#x27;max_depth&#x27;: [None, 10, 20, 30],\n",
              "                                        &#x27;min_samples_leaf&#x27;: [1, 2, 4],\n",
              "                                        &#x27;min_samples_split&#x27;: [2, 5, 10],\n",
              "                                        &#x27;n_estimators&#x27;: [50, 100, 150, 200]},\n",
              "                   random_state=42, scoring=&#x27;accuracy&#x27;)</pre></div></div></div><div class=\"sk-parallel\"><div class=\"sk-parallel-item\"><div class=\"sk-item\"><div class=\"sk-label-container\"><div class=\"sk-label sk-toggleable\"><input class=\"sk-toggleable__control sk-hidden--visually\" id=\"sk-estimator-id-2\" type=\"checkbox\" ><label for=\"sk-estimator-id-2\" class=\"sk-toggleable__label sk-toggleable__label-arrow\">estimator: RandomForestClassifier</label><div class=\"sk-toggleable__content\"><pre>RandomForestClassifier()</pre></div></div></div><div class=\"sk-serial\"><div class=\"sk-item\"><div class=\"sk-estimator sk-toggleable\"><input class=\"sk-toggleable__control sk-hidden--visually\" id=\"sk-estimator-id-3\" type=\"checkbox\" ><label for=\"sk-estimator-id-3\" class=\"sk-toggleable__label sk-toggleable__label-arrow\">RandomForestClassifier</label><div class=\"sk-toggleable__content\"><pre>RandomForestClassifier()</pre></div></div></div></div></div></div></div></div></div></div>"
            ]
          },
          "metadata": {},
          "execution_count": 34
        }
      ]
    },
    {
      "cell_type": "code",
      "source": [
        "# Get the best hyperparameters for Random Forest\n",
        "best_params_rf_random = random_search_rf.best_params_\n",
        "\n",
        "# Fit the model with the best hyperparameters on the entire training set\n",
        "best_rf_model_random = RandomForestClassifier(**best_params_rf_random)\n",
        "best_rf_model_random.fit(X_train_selected, y_train)\n",
        "\n",
        "# Predictions on the test set for Random Forest\n",
        "rf_y_pred_after_random = best_rf_model_random.predict(X_test_selected)\n",
        "\n",
        "# Evaluate the model after Randomized Search\n",
        "accuracy_rf_after_random = accuracy_score(y_test, rf_y_pred_after_random)\n",
        "print(f'Random Forest Accuracy after Randomized Search: {accuracy_rf_after_random:.4f}')"
      ],
      "metadata": {
        "colab": {
          "base_uri": "https://localhost:8080/",
          "height": 0
        },
        "id": "_fDcUvmIy7dV",
        "outputId": "1f2d2061-3354-45b1-d440-0a0e7ebc114d"
      },
      "execution_count": 35,
      "outputs": [
        {
          "output_type": "stream",
          "name": "stdout",
          "text": [
            "Random Forest Accuracy after Randomized Search: 0.9809\n"
          ]
        }
      ]
    },
    {
      "cell_type": "code",
      "source": [
        "# Display the best hyper-parameters for random forest\n",
        "best_params_rf_random"
      ],
      "metadata": {
        "colab": {
          "base_uri": "https://localhost:8080/",
          "height": 0
        },
        "id": "UfYUF_nbzTMh",
        "outputId": "1d988122-6fe9-40ca-eb4b-0edbc403b564"
      },
      "execution_count": 36,
      "outputs": [
        {
          "output_type": "execute_result",
          "data": {
            "text/plain": [
              "{'n_estimators': 100,\n",
              " 'min_samples_split': 10,\n",
              " 'min_samples_leaf': 1,\n",
              " 'max_depth': 30}"
            ]
          },
          "metadata": {},
          "execution_count": 36
        }
      ]
    },
    {
      "cell_type": "markdown",
      "source": [
        "## Best KNN hypertuning parameters estimation with randomized serach\n"
      ],
      "metadata": {
        "id": "Fv4Ddxi62spb"
      }
    },
    {
      "cell_type": "code",
      "source": [
        "# KNN before randomized search\n",
        "model = KNeighborsClassifier()\n",
        "knn_bef_random = model.fit(X_train_selected, y_train)\n",
        "\n",
        "# Make predictions on the test data\n",
        "knn_y_pred_bef_random = knn_bef_random.predict(X_test_selected)\n",
        "\n",
        "# Evaluate the model after Randomized Search\n",
        "accuracy_knn_bef_random = accuracy_score(y_test, knn_y_pred_bef_random)\n",
        "print(f'KNN Accuracy before Randomized Search: {accuracy_knn_bef_random:.4f}')"
      ],
      "metadata": {
        "colab": {
          "base_uri": "https://localhost:8080/",
          "height": 0
        },
        "id": "1uM6cIGz7ffd",
        "outputId": "b58d9da6-9e4e-42ea-fe68-7a9c523be8d8"
      },
      "execution_count": 37,
      "outputs": [
        {
          "output_type": "stream",
          "name": "stdout",
          "text": [
            "KNN Accuracy before Randomized Search: 0.9795\n"
          ]
        }
      ]
    },
    {
      "cell_type": "code",
      "source": [
        "# Randomized Search for K-Nearest Neighbors\n",
        "param_dist_knn = {\n",
        "    'n_neighbors': [3, 5, 7, 9],\n",
        "    'weights': ['uniform', 'distance'],\n",
        "    'p': [1, 2]\n",
        "}\n",
        "\n",
        "random_search_knn = RandomizedSearchCV(estimator=KNeighborsClassifier(), param_distributions=param_dist_knn,\n",
        "                                        n_iter=10, cv=5, scoring='accuracy', random_state=42)\n",
        "random_search_knn.fit(X_train_selected, y_train)\n",
        "\n",
        "# Get the best hyperparameters for K-Nearest Neighbors\n",
        "best_params_knn_random = random_search_knn.best_params_\n",
        "\n",
        "# Fit the model with the best hyperparameters on the entire training set\n",
        "best_knn_model_random = KNeighborsClassifier(**best_params_knn_random)\n",
        "best_knn_model_random.fit(X_train_selected, y_train)\n",
        "\n",
        "# Predictions on the test set for K-Nearest Neighbors\n",
        "knn_y_pred_after_random = best_knn_model_random.predict(X_test_selected)\n",
        "\n",
        "# Evaluate the model after Randomized Search\n",
        "accuracy_knn_after_random = accuracy_score(y_test, knn_y_pred_after_random)\n",
        "print(f'K-Nearest Neighbors Accuracy after Randomized Search: {accuracy_knn_after_random:.4f}')"
      ],
      "metadata": {
        "colab": {
          "base_uri": "https://localhost:8080/",
          "height": 0
        },
        "id": "6mLKqgBr2-X8",
        "outputId": "937580cb-1ec5-4749-d7da-0fb5a83a44fc"
      },
      "execution_count": 38,
      "outputs": [
        {
          "output_type": "stream",
          "name": "stdout",
          "text": [
            "K-Nearest Neighbors Accuracy after Randomized Search: 0.9807\n"
          ]
        }
      ]
    },
    {
      "cell_type": "code",
      "source": [
        "# Display the best hyper-parameters for KNN\n",
        "best_params_knn_random"
      ],
      "metadata": {
        "colab": {
          "base_uri": "https://localhost:8080/",
          "height": 0
        },
        "id": "h6HmwcxK3BjI",
        "outputId": "c16021fc-108f-4dbf-dc9d-1ca92c671213"
      },
      "execution_count": 39,
      "outputs": [
        {
          "output_type": "execute_result",
          "data": {
            "text/plain": [
              "{'weights': 'distance', 'p': 1, 'n_neighbors': 7}"
            ]
          },
          "metadata": {},
          "execution_count": 39
        }
      ]
    },
    {
      "cell_type": "markdown",
      "source": [
        "## Best Decision Tree hypertuning parameters estimation with randomized serach\n"
      ],
      "metadata": {
        "id": "sqYLdnJa-aH4"
      }
    },
    {
      "cell_type": "code",
      "source": [
        "# Decision Tree before randomized search\n",
        "model = DecisionTreeClassifier(max_depth = 20, criterion = \"gini\")\n",
        "dt_bef_random = model.fit(X_train_selected, y_train)\n",
        "\n",
        "# Make predictions on the test data\n",
        "dt_y_pred_bef_random = dt_bef_random.predict(X_test_selected)\n",
        "\n",
        "# Evaluate the model after Randomized Search\n",
        "accuracy_dt_bef_random = accuracy_score(y_test, dt_y_pred_bef_random)\n",
        "print(f'Decision Tree Accuracy before Randomized Search: {accuracy_dt_bef_random:.4f}')"
      ],
      "metadata": {
        "colab": {
          "base_uri": "https://localhost:8080/",
          "height": 0
        },
        "id": "SaMO0UNMCOuz",
        "outputId": "a37fe720-2732-4950-a107-665239be493f"
      },
      "execution_count": 40,
      "outputs": [
        {
          "output_type": "stream",
          "name": "stdout",
          "text": [
            "Decision Tree Accuracy before Randomized Search: 0.9622\n"
          ]
        }
      ]
    },
    {
      "cell_type": "code",
      "source": [
        "# Randomized Search for Decision Tree\n",
        "param_dist_dt = {\"max_depth\": [3, None],\n",
        "              \"max_features\": randint(1, 9),\n",
        "              \"min_samples_leaf\": randint(1, 9),\n",
        "              \"criterion\": [\"gini\", \"entropy\"]}\n",
        "\n",
        "# Instantiate a Decision Tree classifier: tree\n",
        "treeclassifier = DecisionTreeClassifier()\n",
        "\n",
        "# Instantiate the RandomizedSearchCV object: tree_cv\n",
        "random_search_dt = RandomizedSearchCV(treeclassifier, param_dist_dt, cv=5)\n",
        "\n",
        "random_search_dt.fit(X_train_selected, y_train)\n",
        "\n",
        "# Get the best hyperparameters for Decision Tree\n",
        "best_params_dt_random = random_search_dt.best_params_\n",
        "\n",
        "# Fit the model with the best hyperparameters on the entire training set\n",
        "best_dt_model_random = DecisionTreeClassifier(**best_params_dt_random)\n",
        "best_dt_model_random.fit(X_train_selected, y_train)\n",
        "\n",
        "# Predictions on the test set for K-Nearest Neighbors\n",
        "dt_y_pred_after_random = best_dt_model_random.predict(X_test_selected)\n",
        "\n",
        "# Evaluate the model after Randomized Search\n",
        "accuracy_dt_after_random = accuracy_score(y_test, dt_y_pred_after_random)\n",
        "print(f'Decision Tree Accuracy after Randomized Search: {accuracy_dt_after_random:.4f}')\n",
        "\n"
      ],
      "metadata": {
        "colab": {
          "base_uri": "https://localhost:8080/",
          "height": 0
        },
        "id": "Q4h_Wdpw-fTx",
        "outputId": "c0d15170-06fb-43e8-cdce-0648799a624a"
      },
      "execution_count": 41,
      "outputs": [
        {
          "output_type": "stream",
          "name": "stdout",
          "text": [
            "Decision Tree Accuracy after Randomized Search: 0.9631\n"
          ]
        }
      ]
    },
    {
      "cell_type": "code",
      "source": [
        "# Display the best hyper-parameters for Decision Tree\n",
        "best_params_dt_random"
      ],
      "metadata": {
        "colab": {
          "base_uri": "https://localhost:8080/",
          "height": 0
        },
        "id": "En257f4ACF63",
        "outputId": "22d27746-9104-4ef6-cc02-ff96a55982cb"
      },
      "execution_count": 42,
      "outputs": [
        {
          "output_type": "execute_result",
          "data": {
            "text/plain": [
              "{'criterion': 'gini',\n",
              " 'max_depth': None,\n",
              " 'max_features': 5,\n",
              " 'min_samples_leaf': 1}"
            ]
          },
          "metadata": {},
          "execution_count": 42
        }
      ]
    },
    {
      "cell_type": "markdown",
      "source": [
        "### Comparisons for before and after random search"
      ],
      "metadata": {
        "id": "4LWY2cbbGAIo"
      }
    },
    {
      "cell_type": "code",
      "source": [
        "# Create a table comparing the performance on training and test data\n",
        "models = pd.DataFrame({\n",
        "    'Model': ['Random Forest','KNN','Decision Tree'],\n",
        "    'Accuracy Score with no hyperparameter tuning': [round(accuracy_rf_bef_random*100,3), round(accuracy_knn_bef_random*100,3), round(accuracy_dt_bef_random*100,3)],\n",
        "    'Accuracy Score with randomized search hyperparameter tuning': [round(accuracy_rf_after_random*100,3), round(accuracy_knn_after_random*100,3), round(accuracy_dt_after_random*100,3)],\n",
        "})\n",
        "models"
      ],
      "metadata": {
        "colab": {
          "base_uri": "https://localhost:8080/",
          "height": 142
        },
        "id": "0lSN9TlFGHmB",
        "outputId": "2916a5a2-8d01-4112-beeb-ceb0438cd08c"
      },
      "execution_count": 43,
      "outputs": [
        {
          "output_type": "execute_result",
          "data": {
            "text/plain": [
              "           Model  Accuracy Score with no hyperparameter tuning  \\\n",
              "0  Random Forest                                        97.940   \n",
              "1            KNN                                        97.948   \n",
              "2  Decision Tree                                        96.225   \n",
              "\n",
              "   Accuracy Score with randomized search hyperparameter tuning  \n",
              "0                                             98.088            \n",
              "1                                             98.071            \n",
              "2                                             96.307            "
            ],
            "text/html": [
              "\n",
              "  <div id=\"df-3b02a4ac-27de-4c69-8373-0090b0b00dd0\" class=\"colab-df-container\">\n",
              "    <div>\n",
              "<style scoped>\n",
              "    .dataframe tbody tr th:only-of-type {\n",
              "        vertical-align: middle;\n",
              "    }\n",
              "\n",
              "    .dataframe tbody tr th {\n",
              "        vertical-align: top;\n",
              "    }\n",
              "\n",
              "    .dataframe thead th {\n",
              "        text-align: right;\n",
              "    }\n",
              "</style>\n",
              "<table border=\"1\" class=\"dataframe\">\n",
              "  <thead>\n",
              "    <tr style=\"text-align: right;\">\n",
              "      <th></th>\n",
              "      <th>Model</th>\n",
              "      <th>Accuracy Score with no hyperparameter tuning</th>\n",
              "      <th>Accuracy Score with randomized search hyperparameter tuning</th>\n",
              "    </tr>\n",
              "  </thead>\n",
              "  <tbody>\n",
              "    <tr>\n",
              "      <th>0</th>\n",
              "      <td>Random Forest</td>\n",
              "      <td>97.940</td>\n",
              "      <td>98.088</td>\n",
              "    </tr>\n",
              "    <tr>\n",
              "      <th>1</th>\n",
              "      <td>KNN</td>\n",
              "      <td>97.948</td>\n",
              "      <td>98.071</td>\n",
              "    </tr>\n",
              "    <tr>\n",
              "      <th>2</th>\n",
              "      <td>Decision Tree</td>\n",
              "      <td>96.225</td>\n",
              "      <td>96.307</td>\n",
              "    </tr>\n",
              "  </tbody>\n",
              "</table>\n",
              "</div>\n",
              "    <div class=\"colab-df-buttons\">\n",
              "\n",
              "  <div class=\"colab-df-container\">\n",
              "    <button class=\"colab-df-convert\" onclick=\"convertToInteractive('df-3b02a4ac-27de-4c69-8373-0090b0b00dd0')\"\n",
              "            title=\"Convert this dataframe to an interactive table.\"\n",
              "            style=\"display:none;\">\n",
              "\n",
              "  <svg xmlns=\"http://www.w3.org/2000/svg\" height=\"24px\" viewBox=\"0 -960 960 960\">\n",
              "    <path d=\"M120-120v-720h720v720H120Zm60-500h600v-160H180v160Zm220 220h160v-160H400v160Zm0 220h160v-160H400v160ZM180-400h160v-160H180v160Zm440 0h160v-160H620v160ZM180-180h160v-160H180v160Zm440 0h160v-160H620v160Z\"/>\n",
              "  </svg>\n",
              "    </button>\n",
              "\n",
              "  <style>\n",
              "    .colab-df-container {\n",
              "      display:flex;\n",
              "      gap: 12px;\n",
              "    }\n",
              "\n",
              "    .colab-df-convert {\n",
              "      background-color: #E8F0FE;\n",
              "      border: none;\n",
              "      border-radius: 50%;\n",
              "      cursor: pointer;\n",
              "      display: none;\n",
              "      fill: #1967D2;\n",
              "      height: 32px;\n",
              "      padding: 0 0 0 0;\n",
              "      width: 32px;\n",
              "    }\n",
              "\n",
              "    .colab-df-convert:hover {\n",
              "      background-color: #E2EBFA;\n",
              "      box-shadow: 0px 1px 2px rgba(60, 64, 67, 0.3), 0px 1px 3px 1px rgba(60, 64, 67, 0.15);\n",
              "      fill: #174EA6;\n",
              "    }\n",
              "\n",
              "    .colab-df-buttons div {\n",
              "      margin-bottom: 4px;\n",
              "    }\n",
              "\n",
              "    [theme=dark] .colab-df-convert {\n",
              "      background-color: #3B4455;\n",
              "      fill: #D2E3FC;\n",
              "    }\n",
              "\n",
              "    [theme=dark] .colab-df-convert:hover {\n",
              "      background-color: #434B5C;\n",
              "      box-shadow: 0px 1px 3px 1px rgba(0, 0, 0, 0.15);\n",
              "      filter: drop-shadow(0px 1px 2px rgba(0, 0, 0, 0.3));\n",
              "      fill: #FFFFFF;\n",
              "    }\n",
              "  </style>\n",
              "\n",
              "    <script>\n",
              "      const buttonEl =\n",
              "        document.querySelector('#df-3b02a4ac-27de-4c69-8373-0090b0b00dd0 button.colab-df-convert');\n",
              "      buttonEl.style.display =\n",
              "        google.colab.kernel.accessAllowed ? 'block' : 'none';\n",
              "\n",
              "      async function convertToInteractive(key) {\n",
              "        const element = document.querySelector('#df-3b02a4ac-27de-4c69-8373-0090b0b00dd0');\n",
              "        const dataTable =\n",
              "          await google.colab.kernel.invokeFunction('convertToInteractive',\n",
              "                                                    [key], {});\n",
              "        if (!dataTable) return;\n",
              "\n",
              "        const docLinkHtml = 'Like what you see? Visit the ' +\n",
              "          '<a target=\"_blank\" href=https://colab.research.google.com/notebooks/data_table.ipynb>data table notebook</a>'\n",
              "          + ' to learn more about interactive tables.';\n",
              "        element.innerHTML = '';\n",
              "        dataTable['output_type'] = 'display_data';\n",
              "        await google.colab.output.renderOutput(dataTable, element);\n",
              "        const docLink = document.createElement('div');\n",
              "        docLink.innerHTML = docLinkHtml;\n",
              "        element.appendChild(docLink);\n",
              "      }\n",
              "    </script>\n",
              "  </div>\n",
              "\n",
              "\n",
              "<div id=\"df-10f95c54-74c3-4cf3-9efc-1bbd9eb1f8ea\">\n",
              "  <button class=\"colab-df-quickchart\" onclick=\"quickchart('df-10f95c54-74c3-4cf3-9efc-1bbd9eb1f8ea')\"\n",
              "            title=\"Suggest charts\"\n",
              "            style=\"display:none;\">\n",
              "\n",
              "<svg xmlns=\"http://www.w3.org/2000/svg\" height=\"24px\"viewBox=\"0 0 24 24\"\n",
              "     width=\"24px\">\n",
              "    <g>\n",
              "        <path d=\"M19 3H5c-1.1 0-2 .9-2 2v14c0 1.1.9 2 2 2h14c1.1 0 2-.9 2-2V5c0-1.1-.9-2-2-2zM9 17H7v-7h2v7zm4 0h-2V7h2v10zm4 0h-2v-4h2v4z\"/>\n",
              "    </g>\n",
              "</svg>\n",
              "  </button>\n",
              "\n",
              "<style>\n",
              "  .colab-df-quickchart {\n",
              "      --bg-color: #E8F0FE;\n",
              "      --fill-color: #1967D2;\n",
              "      --hover-bg-color: #E2EBFA;\n",
              "      --hover-fill-color: #174EA6;\n",
              "      --disabled-fill-color: #AAA;\n",
              "      --disabled-bg-color: #DDD;\n",
              "  }\n",
              "\n",
              "  [theme=dark] .colab-df-quickchart {\n",
              "      --bg-color: #3B4455;\n",
              "      --fill-color: #D2E3FC;\n",
              "      --hover-bg-color: #434B5C;\n",
              "      --hover-fill-color: #FFFFFF;\n",
              "      --disabled-bg-color: #3B4455;\n",
              "      --disabled-fill-color: #666;\n",
              "  }\n",
              "\n",
              "  .colab-df-quickchart {\n",
              "    background-color: var(--bg-color);\n",
              "    border: none;\n",
              "    border-radius: 50%;\n",
              "    cursor: pointer;\n",
              "    display: none;\n",
              "    fill: var(--fill-color);\n",
              "    height: 32px;\n",
              "    padding: 0;\n",
              "    width: 32px;\n",
              "  }\n",
              "\n",
              "  .colab-df-quickchart:hover {\n",
              "    background-color: var(--hover-bg-color);\n",
              "    box-shadow: 0 1px 2px rgba(60, 64, 67, 0.3), 0 1px 3px 1px rgba(60, 64, 67, 0.15);\n",
              "    fill: var(--button-hover-fill-color);\n",
              "  }\n",
              "\n",
              "  .colab-df-quickchart-complete:disabled,\n",
              "  .colab-df-quickchart-complete:disabled:hover {\n",
              "    background-color: var(--disabled-bg-color);\n",
              "    fill: var(--disabled-fill-color);\n",
              "    box-shadow: none;\n",
              "  }\n",
              "\n",
              "  .colab-df-spinner {\n",
              "    border: 2px solid var(--fill-color);\n",
              "    border-color: transparent;\n",
              "    border-bottom-color: var(--fill-color);\n",
              "    animation:\n",
              "      spin 1s steps(1) infinite;\n",
              "  }\n",
              "\n",
              "  @keyframes spin {\n",
              "    0% {\n",
              "      border-color: transparent;\n",
              "      border-bottom-color: var(--fill-color);\n",
              "      border-left-color: var(--fill-color);\n",
              "    }\n",
              "    20% {\n",
              "      border-color: transparent;\n",
              "      border-left-color: var(--fill-color);\n",
              "      border-top-color: var(--fill-color);\n",
              "    }\n",
              "    30% {\n",
              "      border-color: transparent;\n",
              "      border-left-color: var(--fill-color);\n",
              "      border-top-color: var(--fill-color);\n",
              "      border-right-color: var(--fill-color);\n",
              "    }\n",
              "    40% {\n",
              "      border-color: transparent;\n",
              "      border-right-color: var(--fill-color);\n",
              "      border-top-color: var(--fill-color);\n",
              "    }\n",
              "    60% {\n",
              "      border-color: transparent;\n",
              "      border-right-color: var(--fill-color);\n",
              "    }\n",
              "    80% {\n",
              "      border-color: transparent;\n",
              "      border-right-color: var(--fill-color);\n",
              "      border-bottom-color: var(--fill-color);\n",
              "    }\n",
              "    90% {\n",
              "      border-color: transparent;\n",
              "      border-bottom-color: var(--fill-color);\n",
              "    }\n",
              "  }\n",
              "</style>\n",
              "\n",
              "  <script>\n",
              "    async function quickchart(key) {\n",
              "      const quickchartButtonEl =\n",
              "        document.querySelector('#' + key + ' button');\n",
              "      quickchartButtonEl.disabled = true;  // To prevent multiple clicks.\n",
              "      quickchartButtonEl.classList.add('colab-df-spinner');\n",
              "      try {\n",
              "        const charts = await google.colab.kernel.invokeFunction(\n",
              "            'suggestCharts', [key], {});\n",
              "      } catch (error) {\n",
              "        console.error('Error during call to suggestCharts:', error);\n",
              "      }\n",
              "      quickchartButtonEl.classList.remove('colab-df-spinner');\n",
              "      quickchartButtonEl.classList.add('colab-df-quickchart-complete');\n",
              "    }\n",
              "    (() => {\n",
              "      let quickchartButtonEl =\n",
              "        document.querySelector('#df-10f95c54-74c3-4cf3-9efc-1bbd9eb1f8ea button');\n",
              "      quickchartButtonEl.style.display =\n",
              "        google.colab.kernel.accessAllowed ? 'block' : 'none';\n",
              "    })();\n",
              "  </script>\n",
              "</div>\n",
              "    </div>\n",
              "  </div>\n"
            ]
          },
          "metadata": {},
          "execution_count": 43
        }
      ]
    },
    {
      "cell_type": "code",
      "source": [
        "# Comparison Chart\n",
        "# set width of bar\n",
        "barWidth = 0.25\n",
        "fig = plt.subplots(figsize =(4, 3))\n",
        "\n",
        "# set height of bar\n",
        "before_rs = [round(accuracy_rf_bef_random*100,3), round(accuracy_knn_bef_random*100,3), round(accuracy_dt_bef_random*100,3)]\n",
        "after_rs = [round(accuracy_rf_after_random*100,3), round(accuracy_knn_after_random*100,3), round(accuracy_dt_after_random*100,3)]\n",
        "\n",
        "# Set position of bar on X axis\n",
        "br1 = np.arange(len(before_rs))\n",
        "br2 = [x + barWidth for x in br1]\n",
        "\n",
        "# Make the plot\n",
        "plt.bar(br1, before_rs, color ='r', width = barWidth,\n",
        "        edgecolor ='grey', label ='Before hyperparameter tuning')\n",
        "plt.bar(br2, after_rs, color ='b', width = barWidth,\n",
        "        edgecolor ='grey', label ='After hyperparameter tuning')\n",
        "\n",
        "# Adding Xticks\n",
        "plt.xlabel('Machine Learning Model', fontsize = 10)\n",
        "plt.ylabel('Accuracy Score [%]', fontsize = 10)\n",
        "plt.xticks([r + barWidth for r in range(len(before_rs))],\n",
        "        ['Random forest', 'KNN', 'Decision Tree',])\n",
        "plt.title(\"Performance comparison with randomized search\", fontweight ='bold', fontsize = 10)\n",
        "plt.legend()\n",
        "plt.ylim([96, 100])"
      ],
      "metadata": {
        "colab": {
          "base_uri": "https://localhost:8080/",
          "height": 347
        },
        "id": "6DUUW9BUI1w2",
        "outputId": "4282a35b-a808-49e0-eb13-04d217bd0fc2"
      },
      "execution_count": 44,
      "outputs": [
        {
          "output_type": "execute_result",
          "data": {
            "text/plain": [
              "(96.0, 100.0)"
            ]
          },
          "metadata": {},
          "execution_count": 44
        },
        {
          "output_type": "display_data",
          "data": {
            "text/plain": [
              "<Figure size 400x300 with 1 Axes>"
            ],
            "image/png": "[encoded data removed]"
          },
          "metadata": {}
        }
      ]
    },
    {
      "cell_type": "markdown",
      "source": [
        "Observations:\n",
        "1. Model improvement seen after tuning hyper-parameters with Randomized serach\n",
        "2. Significant improvement seen with Decision Tree"
      ],
      "metadata": {
        "id": "oYcLm1ZZ979q"
      }
    },
    {
      "cell_type": "code",
      "source": [
        "# Save the train and test data to pickles\n",
        "X_train_selected.to_pickle(\"/content/drive/MyDrive/Colab Notebooks/DS_Project_Group10/ipynb_Files/dummy_Xtrain_selected.pkl\")\n",
        "X_test_selected.to_pickle(\"/content/drive/MyDrive/Colab Notebooks/DS_Project_Group10/ipynb_Files/dummy_Xtest_selected.pkl\")\n"
      ],
      "metadata": {
        "id": "jOjUUi4c3YQp"
      },
      "execution_count": 45,
      "outputs": []
    }
  ]
}